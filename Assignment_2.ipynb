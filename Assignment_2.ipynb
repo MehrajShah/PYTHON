{
  "nbformat": 4,
  "nbformat_minor": 0,
  "metadata": {
    "colab": {
      "provenance": [],
      "authorship_tag": "ABX9TyNjqzUzP25x9RMT/RENcKA+",
      "include_colab_link": true
    },
    "kernelspec": {
      "name": "python3",
      "display_name": "Python 3"
    },
    "language_info": {
      "name": "python"
    }
  },
  "cells": [
    {
      "cell_type": "markdown",
      "metadata": {
        "id": "view-in-github",
        "colab_type": "text"
      },
      "source": [
        "<a href=\"https://colab.research.google.com/github/MehrajShah/PYTHON/blob/main/Assignment_2.ipynb\" target=\"_parent\"><img src=\"https://colab.research.google.com/assets/colab-badge.svg\" alt=\"Open In Colab\"/></a>"
      ]
    },
    {
      "cell_type": "code",
      "execution_count": 2,
      "metadata": {
        "colab": {
          "base_uri": "https://localhost:8080/"
        },
        "id": "1pC7B9Hbi11y",
        "outputId": "023f1b96-739f-4ecd-ec00-a0f84669d698"
      },
      "outputs": [
        {
          "output_type": "stream",
          "name": "stdout",
          "text": [
            "My name is Mehraj Shah.\n"
          ]
        }
      ],
      "source": [
        "# What is your name! print your name!\n",
        "# # Only use one print function\n",
        "\n",
        "print(\"My name is Mehraj Shah.\")\n"
      ]
    },
    {
      "cell_type": "code",
      "source": [
        "#define variables named as with values: mukesh=7, z=6, rohan=5, longitude=4\n",
        "\n",
        "mukesh = 7\n",
        "z = 6\n",
        "rohan = 5\n",
        "longitude = 4\n",
        "\n"
      ],
      "metadata": {
        "id": "p5mhLaKpjOKf"
      },
      "execution_count": 5,
      "outputs": []
    },
    {
      "cell_type": "code",
      "source": [
        "# print required variable\n",
        "# output - 5\n",
        "\n",
        "print(rohan)\n"
      ],
      "metadata": {
        "colab": {
          "base_uri": "https://localhost:8080/"
        },
        "id": "dxim8VQtjjX3",
        "outputId": "dba5a1f3-06bc-4b63-935c-ba6c02877d5b"
      },
      "execution_count": 6,
      "outputs": [
        {
          "output_type": "stream",
          "name": "stdout",
          "text": [
            "5\n"
          ]
        }
      ]
    },
    {
      "cell_type": "markdown",
      "source": [
        "**Declaring a Variable**"
      ],
      "metadata": {
        "id": "RI2K2Z1jjz8X"
      }
    },
    {
      "cell_type": "code",
      "source": [
        "# declare 4 variables with values as: ur_age 21,ur_weight 50.6, ur_first_name = 'Mukesh',ur_last_name = \"Manral\"\n",
        "\n",
        "ur_age = 21\n",
        "ur_weight = 50.6\n",
        "ur_first_name = 'Mukesh'\n",
        "ur_last_name = \"Manral\"\n"
      ],
      "metadata": {
        "id": "Dm_qdXcvj7p2"
      },
      "execution_count": 8,
      "outputs": []
    },
    {
      "cell_type": "code",
      "source": [
        "# print type of ur_age,ur_weight,ur_first_name,ur_last_name variables\n",
        "\n",
        "print(type(ur_age))\n",
        "print(type(ur_weight))\n",
        "print(type(ur_first_name))\n",
        "print(type(ur_last_name))\n"
      ],
      "metadata": {
        "colab": {
          "base_uri": "https://localhost:8080/"
        },
        "id": "g-aFrtHXkEUW",
        "outputId": "a5ed2920-aa9e-4f34-f183-681c9373d45a"
      },
      "execution_count": 9,
      "outputs": [
        {
          "output_type": "stream",
          "name": "stdout",
          "text": [
            "<class 'int'>\n",
            "<class 'float'>\n",
            "<class 'str'>\n",
            "<class 'str'>\n"
          ]
        }
      ]
    },
    {
      "cell_type": "code",
      "source": [
        "# print values of ur_age,ur_weight,ur_first_name,ur_last_name variables\n",
        "\n",
        "print(ur_age)\n",
        "print(ur_weight)\n",
        "print(ur_first_name)\n",
        "print(ur_last_name)\n"
      ],
      "metadata": {
        "colab": {
          "base_uri": "https://localhost:8080/"
        },
        "id": "uFMs-GWqkW-e",
        "outputId": "fded6559-94c5-4e37-d6cb-e519335d5b29"
      },
      "execution_count": 10,
      "outputs": [
        {
          "output_type": "stream",
          "name": "stdout",
          "text": [
            "21\n",
            "50.6\n",
            "Mukesh\n",
            "Manral\n"
          ]
        }
      ]
    },
    {
      "cell_type": "code",
      "source": [
        "# make 2 variables with values as: ur_first_name 'Mukesh',ur_last_name'Mukesh'\n",
        "\n",
        "ur_first_name = \"Mukesh\"\n",
        "ur_last_name = \"Mukesh\"\n"
      ],
      "metadata": {
        "id": "3nO5NkKVkdFO"
      },
      "execution_count": 12,
      "outputs": []
    },
    {
      "cell_type": "code",
      "source": [
        "# make a variable TrueOrFalse which will have comparison of variables ur_last_name == ur_first_name\n",
        "\n",
        "TrueOrFalse = ur_last_name == ur_first_name\n",
        "print(TrueOrFalse)\n"
      ],
      "metadata": {
        "colab": {
          "base_uri": "https://localhost:8080/"
        },
        "id": "L_eyGX9qkzGG",
        "outputId": "bd4ff0d5-9006-44e2-8c8e-76d828d55ae9"
      },
      "execution_count": 13,
      "outputs": [
        {
          "output_type": "stream",
          "name": "stdout",
          "text": [
            "True\n"
          ]
        }
      ]
    },
    {
      "cell_type": "code",
      "source": [
        "# define a variable name \"x\" and assign value 777 and print it\n",
        "\n",
        "x = 777\n",
        "print(x)\n"
      ],
      "metadata": {
        "colab": {
          "base_uri": "https://localhost:8080/"
        },
        "id": "lmbAGQBYk8vV",
        "outputId": "f66a540f-1473-4312-bf19-bd55c80ad28a"
      },
      "execution_count": 14,
      "outputs": [
        {
          "output_type": "stream",
          "name": "stdout",
          "text": [
            "777\n"
          ]
        }
      ]
    },
    {
      "cell_type": "markdown",
      "source": [
        "Operators: Symbols that represent mathematical or logical tasks\n",
        "\n",
        "Example:\n",
        "700 + 77\n",
        "\n",
        "+ <= Operator\n",
        "700 & 77 <= Operands"
      ],
      "metadata": {
        "id": "tuiVAWFWqbMk"
      }
    },
    {
      "cell_type": "code",
      "source": [
        "x = 7  # int\n",
        "y = 77  # int\n",
        "z = 77.7  # float\n",
        "zz = 'Hi'  # string"
      ],
      "metadata": {
        "id": "eO7KBUjvqfX0"
      },
      "execution_count": 15,
      "outputs": []
    },
    {
      "cell_type": "code",
      "source": [
        "# add x and z\n",
        "\n",
        "print(x + z)\n"
      ],
      "metadata": {
        "colab": {
          "base_uri": "https://localhost:8080/"
        },
        "id": "15oWsZ3jqjaF",
        "outputId": "7dc7d5f3-703e-430b-c71c-d571d9b174c5"
      },
      "execution_count": 16,
      "outputs": [
        {
          "output_type": "stream",
          "name": "stdout",
          "text": [
            "84.7\n"
          ]
        }
      ]
    },
    {
      "cell_type": "code",
      "source": [
        "#subtract z and y\n",
        "\n",
        "print(z - y)\n"
      ],
      "metadata": {
        "colab": {
          "base_uri": "https://localhost:8080/"
        },
        "id": "Cvc9K3JEqq6E",
        "outputId": "587f72ed-8fc2-45f9-eaaa-a2075e5070d2"
      },
      "execution_count": 17,
      "outputs": [
        {
          "output_type": "stream",
          "name": "stdout",
          "text": [
            "0.7000000000000028\n"
          ]
        }
      ]
    },
    {
      "cell_type": "code",
      "source": [
        "# Multiply x and z\n",
        "\n",
        "print(x * z)\n"
      ],
      "metadata": {
        "colab": {
          "base_uri": "https://localhost:8080/"
        },
        "id": "mAvorXFoq10c",
        "outputId": "f4a76266-0a5f-42fa-8f2a-6b5ad2413d82"
      },
      "execution_count": 18,
      "outputs": [
        {
          "output_type": "stream",
          "name": "stdout",
          "text": [
            "543.9\n"
          ]
        }
      ]
    },
    {
      "cell_type": "code",
      "source": [
        "# Exponent (raise the power or times) x times z\n",
        "\n",
        "print(x**z)\n"
      ],
      "metadata": {
        "colab": {
          "base_uri": "https://localhost:8080/"
        },
        "id": "GaymQ0Wiq8Pe",
        "outputId": "51ea673e-e3ca-419e-c2fa-f1fd0a79e03c"
      },
      "execution_count": 19,
      "outputs": [
        {
          "output_type": "stream",
          "name": "stdout",
          "text": [
            "4.614426248242042e+65\n"
          ]
        }
      ]
    },
    {
      "cell_type": "code",
      "source": [
        "# division on x and z\n",
        "\n",
        "print(x / z)\n"
      ],
      "metadata": {
        "colab": {
          "base_uri": "https://localhost:8080/"
        },
        "id": "cAs84AW2rC0G",
        "outputId": "532f1505-111a-4c7d-9f88-ef0827486ee9"
      },
      "execution_count": 20,
      "outputs": [
        {
          "output_type": "stream",
          "name": "stdout",
          "text": [
            "0.09009009009009009\n"
          ]
        }
      ]
    },
    {
      "cell_type": "code",
      "source": [
        "# floor division(ignores decimal) on x and z (gives quotient)\n",
        "\n",
        "print(x // z)\n"
      ],
      "metadata": {
        "colab": {
          "base_uri": "https://localhost:8080/"
        },
        "id": "eJEu3EfgrIg8",
        "outputId": "ff033d46-87c2-4266-ced8-83c3b98bccad"
      },
      "execution_count": 21,
      "outputs": [
        {
          "output_type": "stream",
          "name": "stdout",
          "text": [
            "0.0\n"
          ]
        }
      ]
    },
    {
      "cell_type": "code",
      "source": [
        "# Modulo(gives remainder) on x and z\n",
        "\n",
        "print(x % z)\n"
      ],
      "metadata": {
        "colab": {
          "base_uri": "https://localhost:8080/"
        },
        "id": "vdt4YFALrNt9",
        "outputId": "f1f253c5-7cdc-49ff-bdc5-c7a616e7f126"
      },
      "execution_count": 22,
      "outputs": [
        {
          "output_type": "stream",
          "name": "stdout",
          "text": [
            "7.0\n"
          ]
        }
      ]
    },
    {
      "cell_type": "markdown",
      "source": [
        "**Comparison Operators**"
      ],
      "metadata": {
        "id": "5InnEqIsrVWM"
      }
    },
    {
      "cell_type": "code",
      "source": [
        "# comapre and see if x is less then z\n",
        "# can use '<' symbol\n",
        "\n",
        "print(x < z)\n"
      ],
      "metadata": {
        "colab": {
          "base_uri": "https://localhost:8080/"
        },
        "id": "tQPsUfSorba9",
        "outputId": "bd174f55-b09d-44ed-a4e2-88387d558447"
      },
      "execution_count": 23,
      "outputs": [
        {
          "output_type": "stream",
          "name": "stdout",
          "text": [
            "True\n"
          ]
        }
      ]
    },
    {
      "cell_type": "code",
      "source": [
        "# check the type of above comaprison where it says comapre and see if x is less then z\n",
        "\n",
        "print(type(x < z))\n"
      ],
      "metadata": {
        "colab": {
          "base_uri": "https://localhost:8080/"
        },
        "id": "JI32-lOtrnws",
        "outputId": "f7dc8727-c192-4543-f0aa-127e70bae588"
      },
      "execution_count": 24,
      "outputs": [
        {
          "output_type": "stream",
          "name": "stdout",
          "text": [
            "<class 'bool'>\n"
          ]
        }
      ]
    },
    {
      "cell_type": "code",
      "source": [
        "# compare and see if x is less then or equall to z\n",
        "# can use '<=' symbol\n",
        "\n",
        "print(x <= z)\n"
      ],
      "metadata": {
        "colab": {
          "base_uri": "https://localhost:8080/"
        },
        "id": "fQX7DUnwr_UH",
        "outputId": "eef9b0ef-ca6d-4788-b356-db68d4468c12"
      },
      "execution_count": 25,
      "outputs": [
        {
          "output_type": "stream",
          "name": "stdout",
          "text": [
            "True\n"
          ]
        }
      ]
    },
    {
      "cell_type": "code",
      "source": [
        "# comapre and see if x equall to z\n",
        "#  can use '==' symbol\n",
        "\n",
        "print(x == z)\n"
      ],
      "metadata": {
        "colab": {
          "base_uri": "https://localhost:8080/"
        },
        "id": "qALOXUbgsQLl",
        "outputId": "8518e98e-129c-4628-a4a1-25d2b0264edf"
      },
      "execution_count": 28,
      "outputs": [
        {
          "output_type": "stream",
          "name": "stdout",
          "text": [
            "False\n"
          ]
        }
      ]
    },
    {
      "cell_type": "code",
      "source": [
        "# comapre and see if x is greater than z\n",
        "#can use '>' symbol\n",
        "\n",
        "print(x > z)\n"
      ],
      "metadata": {
        "colab": {
          "base_uri": "https://localhost:8080/"
        },
        "id": "Zi2gcInbsccE",
        "outputId": "9a996591-c05e-4359-bbf2-e52749b1f1f8"
      },
      "execution_count": 30,
      "outputs": [
        {
          "output_type": "stream",
          "name": "stdout",
          "text": [
            "False\n"
          ]
        }
      ]
    },
    {
      "cell_type": "code",
      "source": [
        "# comapre and see if x is greater than or equall to z\n",
        "# can use '>=' symbol\n",
        "\n",
        "print(x >= z)\n"
      ],
      "metadata": {
        "colab": {
          "base_uri": "https://localhost:8080/"
        },
        "id": "PmbJwJ7gsnF7",
        "outputId": "21690a83-6813-41fd-a9e1-10ba060659eb"
      },
      "execution_count": 31,
      "outputs": [
        {
          "output_type": "stream",
          "name": "stdout",
          "text": [
            "False\n"
          ]
        }
      ]
    },
    {
      "cell_type": "code",
      "source": [
        "# comapre and see if x is Not equall to z\n",
        "# can use '!=' symbol\n",
        "\n",
        "print(x != z)\n"
      ],
      "metadata": {
        "colab": {
          "base_uri": "https://localhost:8080/"
        },
        "id": "EpNaHznjsv3k",
        "outputId": "983337fc-5b26-479a-cf86-92a1323adc13"
      },
      "execution_count": 32,
      "outputs": [
        {
          "output_type": "stream",
          "name": "stdout",
          "text": [
            "True\n"
          ]
        }
      ]
    },
    {
      "cell_type": "markdown",
      "source": [
        "**Logical Operators**"
      ],
      "metadata": {
        "id": "quxYHs1gs83y"
      }
    },
    {
      "cell_type": "code",
      "source": [
        "# compare if 108 is equall to 108, 21 is equall to 21 using logical and\n",
        "# # equall to => '=='\n",
        "# # logical and => and\n",
        "# # in and both condition must be True to get a True\n",
        "\n",
        "print(108 == 108 and 21 == 21)\n"
      ],
      "metadata": {
        "colab": {
          "base_uri": "https://localhost:8080/"
        },
        "id": "ShM2ZzS3tCTb",
        "outputId": "fa14182a-6402-4cb8-d0e4-bbaf89a5e974"
      },
      "execution_count": 33,
      "outputs": [
        {
          "output_type": "stream",
          "name": "stdout",
          "text": [
            "True\n"
          ]
        }
      ]
    },
    {
      "cell_type": "code",
      "source": [
        "# how above condition can give False as output show all those conditions\n",
        "\n",
        "#The above condition can give False as output if any of the following conditions are False:\n",
        "\n",
        "108 != 108\n",
        "21 != 21\n",
        "#Here are some examples of how this can happen:\n",
        "\n",
        "print(108 != 108)  # This will print False\n",
        "print(21 != 21)    # This will print False\n",
        "\n"
      ],
      "metadata": {
        "colab": {
          "base_uri": "https://localhost:8080/"
        },
        "id": "gbUTcHSWtJ6E",
        "outputId": "c3080d33-3c35-4752-d384-474446647738"
      },
      "execution_count": 39,
      "outputs": [
        {
          "output_type": "stream",
          "name": "stdout",
          "text": [
            "False\n",
            "False\n"
          ]
        }
      ]
    },
    {
      "cell_type": "code",
      "source": [
        "#how above condition can give False as output show all those conditions\n",
        "\n",
        "# The above condition can give False as output if any of the following conditions are False:\n",
        "\n",
        "108 != 108\n",
        "21 != 21\n",
        "\n",
        "# Here are some examples of how this can happen:\n",
        "\n",
        "print(108 != 108)  # This will print False\n",
        "print(21 != 21)    # This will print False\n"
      ],
      "metadata": {
        "colab": {
          "base_uri": "https://localhost:8080/"
        },
        "id": "zYIq0JiBuXbl",
        "outputId": "79522a7d-a732-4733-f7f2-bcbebdfb2fc5"
      },
      "execution_count": 41,
      "outputs": [
        {
          "output_type": "stream",
          "name": "stdout",
          "text": [
            "False\n",
            "False\n"
          ]
        }
      ]
    },
    {
      "cell_type": "code",
      "source": [
        "# compare if 108 is equall to 108, 21 is equall to 11 using logical or\n",
        "# # equall to => '=='\n",
        "# # logical or => or\n",
        "# # in or Only one condition need to be True to get a True\n",
        "\n",
        "print(108 == 108 or 21 == 11)\n"
      ],
      "metadata": {
        "colab": {
          "base_uri": "https://localhost:8080/"
        },
        "id": "Frgi7YEnukP0",
        "outputId": "790b5eb2-c13e-47a0-f2e4-53fd68ca9657"
      },
      "execution_count": 42,
      "outputs": [
        {
          "output_type": "stream",
          "name": "stdout",
          "text": [
            "True\n"
          ]
        }
      ]
    },
    {
      "cell_type": "code",
      "source": [
        "# this is for you to understand it\n",
        "(108 == 108) or (21 == 11) or (108 <= 11)\n"
      ],
      "metadata": {
        "colab": {
          "base_uri": "https://localhost:8080/"
        },
        "id": "5A-FeDNtuvVc",
        "outputId": "2886c76c-6cf8-44f7-b84d-25fca1a866d9"
      },
      "execution_count": 43,
      "outputs": [
        {
          "output_type": "execute_result",
          "data": {
            "text/plain": [
              "True"
            ]
          },
          "metadata": {},
          "execution_count": 43
        }
      ]
    },
    {
      "cell_type": "code",
      "source": [
        "# prompt: # make variable with value as : money 100000\n",
        "# # see output of money > 2000\n",
        "\n",
        "money = 100000\n",
        "print(money > 2000)\n"
      ],
      "metadata": {
        "colab": {
          "base_uri": "https://localhost:8080/"
        },
        "id": "C_9Dj7GYu2VU",
        "outputId": "2cdcebe5-5294-4250-8a99-7fdae319545b"
      },
      "execution_count": 44,
      "outputs": [
        {
          "output_type": "stream",
          "name": "stdout",
          "text": [
            "True\n"
          ]
        }
      ]
    },
    {
      "cell_type": "code",
      "source": [
        "# assign money variable value of 10000\n",
        "# ##### say you have this much ammount in your account\n",
        "# # start of if condition\n",
        "# # if money is greater then 1000 which is data science course free\n",
        "# # if money > 1000 is false i.e. you have less money then 1000 in your account then else will work for now only if is working\n",
        "\n",
        "money = 100000\n",
        "if money > 1000:\n",
        "  print(\"You have enough money to buy the data science course.\")\n",
        "else:\n",
        "  print(\"You do not have enough money to buy the data science course.\")\n"
      ],
      "metadata": {
        "colab": {
          "base_uri": "https://localhost:8080/"
        },
        "id": "FGvkEOonu7Dk",
        "outputId": "5a7edef4-d058-4a8c-a60b-08d809af2278"
      },
      "execution_count": 45,
      "outputs": [
        {
          "output_type": "stream",
          "name": "stdout",
          "text": [
            "You have enough money to buy the data science course.\n"
          ]
        }
      ]
    },
    {
      "cell_type": "code",
      "source": [
        "# take a test_score variable with 80 in it.\n",
        "# # if test_score greater then 80 then print A grade\n",
        "# # elif test_score greater then 60 and less then 80 print B grade\n",
        "# # else print Nothing for you\n",
        "\n",
        "test_score = 80\n",
        "\n",
        "if test_score > 80:\n",
        "  print(\"A grade\")\n",
        "elif 60 < test_score < 80:\n",
        "  print(\"B grade\")\n",
        "else:\n",
        "  print(\"Nothing for you\")\n"
      ],
      "metadata": {
        "colab": {
          "base_uri": "https://localhost:8080/"
        },
        "id": "xeRe_ritvBVK",
        "outputId": "f894325d-48cc-495c-a7ba-9d03141d3388"
      },
      "execution_count": 46,
      "outputs": [
        {
          "output_type": "stream",
          "name": "stdout",
          "text": [
            "Nothing for you\n"
          ]
        }
      ]
    },
    {
      "cell_type": "markdown",
      "source": [
        "**Python Loops**"
      ],
      "metadata": {
        "id": "WVod5bUnvHg6"
      }
    },
    {
      "cell_type": "code",
      "source": [
        "# print 'I love sports' 10 times using for loop\n",
        "for iterating_variable in range(10):\n",
        "    print('I love sports')"
      ],
      "metadata": {
        "colab": {
          "base_uri": "https://localhost:8080/"
        },
        "id": "ugDR6Orxvt99",
        "outputId": "52eb2ebe-e7b8-4ee0-b8e9-15603a0db73e"
      },
      "execution_count": 49,
      "outputs": [
        {
          "output_type": "stream",
          "name": "stdout",
          "text": [
            "I love sports\n",
            "I love sports\n",
            "I love sports\n",
            "I love sports\n",
            "I love sports\n",
            "I love sports\n",
            "I love sports\n",
            "I love sports\n",
            "I love sports\n",
            "I love sports\n"
          ]
        }
      ]
    },
    {
      "cell_type": "code",
      "source": [
        "# while loop\n",
        "# # save 0 in variable number\n",
        "# # print till 10 using while loop\n",
        "\n",
        "number = 0\n",
        "while number < 10:\n",
        "  print(number)\n",
        "  number = number + 1\n"
      ],
      "metadata": {
        "colab": {
          "base_uri": "https://localhost:8080/"
        },
        "id": "TML_WgyOwDtU",
        "outputId": "bdf0d84a-9ffa-4a60-c14b-2d82030903cd"
      },
      "execution_count": 50,
      "outputs": [
        {
          "output_type": "stream",
          "name": "stdout",
          "text": [
            "0\n",
            "1\n",
            "2\n",
            "3\n",
            "4\n",
            "5\n",
            "6\n",
            "7\n",
            "8\n",
            "9\n"
          ]
        }
      ]
    },
    {
      "cell_type": "code",
      "source": [],
      "metadata": {
        "id": "3YkZULMjwjN0"
      },
      "execution_count": null,
      "outputs": []
    },
    {
      "cell_type": "markdown",
      "source": [
        "**Break Statement**"
      ],
      "metadata": {
        "id": "nAZoULa2wMm0"
      }
    },
    {
      "cell_type": "code",
      "source": [
        "# example that uses break statement in a for loop\n",
        "# # take range(10) and print 'The number is' + value\n",
        "# # break when num equals 5\n",
        "\n",
        "for num in range(10):\n",
        "  print('The number is ' + str(num))\n",
        "  if num == 5:\n",
        "    break\n"
      ],
      "metadata": {
        "colab": {
          "base_uri": "https://localhost:8080/"
        },
        "id": "IUiCA9-6wQ6l",
        "outputId": "39ea427e-6015-49e5-f6f8-9dbe45dcea5e"
      },
      "execution_count": 51,
      "outputs": [
        {
          "output_type": "stream",
          "name": "stdout",
          "text": [
            "The number is 0\n",
            "The number is 1\n",
            "The number is 2\n",
            "The number is 3\n",
            "The number is 4\n",
            "The number is 5\n"
          ]
        }
      ]
    },
    {
      "cell_type": "markdown",
      "source": [
        "**Continue Statement**"
      ],
      "metadata": {
        "id": "DuZG5jfgwX80"
      }
    },
    {
      "cell_type": "code",
      "source": [
        "# # Use a continue statement rather than a break statement\n",
        "# # take range(10) and print 'The number is' + value\n",
        "# # continue when num equals 5\n",
        "\n",
        "for num in range(10):\n",
        "  print('The number is ' + str(num))\n",
        "  if num == 5:\n",
        "    continue\n",
        "\n"
      ],
      "metadata": {
        "colab": {
          "base_uri": "https://localhost:8080/"
        },
        "id": "NXh_Zd_DwbiM",
        "outputId": "4f5f9cc5-d7e0-4bc1-f61f-22a26f6ace0c"
      },
      "execution_count": 52,
      "outputs": [
        {
          "output_type": "stream",
          "name": "stdout",
          "text": [
            "The number is 0\n",
            "The number is 1\n",
            "The number is 2\n",
            "The number is 3\n",
            "The number is 4\n",
            "The number is 5\n",
            "The number is 6\n",
            "The number is 7\n",
            "The number is 8\n",
            "The number is 9\n"
          ]
        }
      ]
    },
    {
      "cell_type": "markdown",
      "source": [
        "**String Manipulation**"
      ],
      "metadata": {
        "id": "3bnmbY-UwsCL"
      }
    },
    {
      "cell_type": "code",
      "source": [
        "# define a string variable with \"We are creating next generation data science eco-system at CollegeRanker\"\n",
        "\n",
        "string_var = \"We are creating next generation data science eco-system at CollegeRanker\"\n"
      ],
      "metadata": {
        "id": "4_jTbNN7w3uM"
      },
      "execution_count": 53,
      "outputs": []
    },
    {
      "cell_type": "code",
      "source": [
        "# Find length of string including spaces\n",
        "\n",
        "print(len(string_var))\n"
      ],
      "metadata": {
        "colab": {
          "base_uri": "https://localhost:8080/"
        },
        "id": "kLxDRUWFw8D0",
        "outputId": "68c95483-be0b-477d-8437-7472d0db6c98"
      },
      "execution_count": 54,
      "outputs": [
        {
          "output_type": "stream",
          "name": "stdout",
          "text": [
            "72\n"
          ]
        }
      ]
    },
    {
      "cell_type": "code",
      "source": [
        "# Access characters in a string with indexing i.e string[0]\n",
        "\n",
        "print(string_var[0])\n"
      ],
      "metadata": {
        "colab": {
          "base_uri": "https://localhost:8080/"
        },
        "id": "YjeAWgapxDr0",
        "outputId": "9c996d68-3670-4d18-b74c-a5a5b9ba8901"
      },
      "execution_count": 55,
      "outputs": [
        {
          "output_type": "stream",
          "name": "stdout",
          "text": [
            "W\n"
          ]
        }
      ]
    },
    {
      "cell_type": "code",
      "source": [
        "# Access characters with negative indexing i.e string[-1]\n",
        "\n",
        "print(string_var[-1])\n"
      ],
      "metadata": {
        "colab": {
          "base_uri": "https://localhost:8080/"
        },
        "id": "2JqsEBhpxJw0",
        "outputId": "f61e0873-0330-4b1f-9e15-2a4b08a66f92"
      },
      "execution_count": 56,
      "outputs": [
        {
          "output_type": "stream",
          "name": "stdout",
          "text": [
            "r\n"
          ]
        }
      ]
    },
    {
      "cell_type": "markdown",
      "source": [
        "**String Slicing**"
      ],
      "metadata": {
        "id": "Lh9BvwGFxQLs"
      }
    },
    {
      "cell_type": "code",
      "source": [
        "# select string from first to 6th element i.e string[:6]\n",
        "\n",
        "print(string_var[:6])\n"
      ],
      "metadata": {
        "colab": {
          "base_uri": "https://localhost:8080/"
        },
        "id": "apeY6FW9xWG8",
        "outputId": "15498818-ab8a-4847-bb2c-9009ee9612a6"
      },
      "execution_count": 57,
      "outputs": [
        {
          "output_type": "stream",
          "name": "stdout",
          "text": [
            "We are\n"
          ]
        }
      ]
    },
    {
      "cell_type": "code",
      "source": [
        "# select string from 7th to negative 10th element i.e string[7:-10]\n",
        "\n",
        "print(string_var[7:-10])\n"
      ],
      "metadata": {
        "colab": {
          "base_uri": "https://localhost:8080/"
        },
        "id": "j9cLNiv2xePM",
        "outputId": "f2b0ff82-0bda-4171-d4e6-a098fc03550f"
      },
      "execution_count": 58,
      "outputs": [
        {
          "output_type": "stream",
          "name": "stdout",
          "text": [
            "creating next generation data science eco-system at Col\n"
          ]
        }
      ]
    },
    {
      "cell_type": "code",
      "source": [
        "#Count of a particular character in a string\n",
        "\n",
        "string = \"We are creating next generation data science eco-system at CollegeRanker\"\n",
        "char = \"a\"\n",
        "\n",
        "count = 0\n",
        "for c in string:\n",
        "  if c == char:\n",
        "    count += 1\n",
        "\n",
        "print(f\"The character '{char}' appears {count} times in the string '{string}'\")\n"
      ],
      "metadata": {
        "colab": {
          "base_uri": "https://localhost:8080/"
        },
        "id": "cKqo9cTcxk-D",
        "outputId": "f505b8a2-f69b-4825-8042-4d8b3d0dad7a"
      },
      "execution_count": 61,
      "outputs": [
        {
          "output_type": "stream",
          "name": "stdout",
          "text": [
            "The character 'a' appears 7 times in the string 'We are creating next generation data science eco-system at CollegeRanker'\n"
          ]
        }
      ]
    },
    {
      "cell_type": "code",
      "source": [
        "# .find() => if present it will return starting index, not found then it will return -1\n",
        "# # .index() => if present it will return starting index, not found then it will give error\n",
        "\n",
        "string = \"We are creating next generation data science eco-system at CollegeRanker\"\n",
        "\n",
        "# Find the first occurrence of the letter \"e\"\n",
        "index = string.find(\"e\")\n",
        "\n",
        "# Print the index of the first occurrence of \"e\"\n",
        "print(index)  # Output: 3\n",
        "\n",
        "# Find the first occurrence of the letter \"z\"\n",
        "index = string.find(\"z\")\n",
        "\n",
        "# Print the index of the first occurrence of \"z\"\n",
        "print(index)  # Output: -1\n",
        "\n",
        "# Find the first occurrence of the word \"data\"\n",
        "index = string.find(\"data\")\n",
        "\n",
        "# Print the index of the first occurrence of \"data\"\n",
        "print(index)  # Output: 21\n",
        "\n",
        "# Find the first occurrence of the word \"xyz\"\n",
        "index = string.find(\"xyz\")\n",
        "\n",
        "# Print the index of the first occurrence of \"xyz\"\n",
        "print(index)  # Output: -1\n",
        "\n",
        "# Find the first occurrence of the letter \"e\" using index()\n",
        "index = string.index(\"e\")\n",
        "\n",
        "# Print the index of the first occurrence of \"e\"\n",
        "print(index)  # Output: 3\n",
        "\n",
        "# Find the first occurrence of the letter \"z\" using index()\n",
        "index = string.find(\"z\")\n",
        "\n",
        "# Print the index of the first occurrence of \"z\"\n",
        "print(index)  # This will raise a ValueError since \"z\" is not found in the string\n"
      ],
      "metadata": {
        "colab": {
          "base_uri": "https://localhost:8080/"
        },
        "id": "mS-2Hakqy_60",
        "outputId": "4e6d0750-1a53-4b73-f664-7239eb5a575d"
      },
      "execution_count": 74,
      "outputs": [
        {
          "output_type": "stream",
          "name": "stdout",
          "text": [
            "1\n",
            "-1\n",
            "32\n",
            "-1\n",
            "1\n",
            "-1\n"
          ]
        }
      ]
    },
    {
      "cell_type": "code",
      "source": [
        "### Checking whether string `startswith` or `endswith` a particular substring or not\n",
        "\n",
        "# Check if the string starts with \"We\"\n",
        "print(string_var.startswith(\"We\"))  # True\n",
        "\n",
        "# Check if the string ends with \"CollegeRanker\"\n",
        "print(string_var.endswith(\"CollegeRanker\"))  # True\n",
        "\n",
        "# Check if the string starts with \"Hello\"\n",
        "print(string_var.startswith(\"Hello\"))  # False\n",
        "\n",
        "# Check if the string ends with \"World\"\n",
        "print(string_var.endswith(\"World\"))  # False\n"
      ],
      "metadata": {
        "colab": {
          "base_uri": "https://localhost:8080/"
        },
        "id": "cUW_CtNG1R-s",
        "outputId": "a48e9a2f-0646-47a1-cfa1-a21a9d11789c"
      },
      "execution_count": 75,
      "outputs": [
        {
          "output_type": "stream",
          "name": "stdout",
          "text": [
            "True\n",
            "True\n",
            "False\n",
            "False\n"
          ]
        }
      ]
    },
    {
      "cell_type": "code",
      "source": [
        "### Converting string to upper case ###\n",
        "\n",
        "string = \"We are creating next generation data science eco-system at CollegeRanker\"\n",
        "\n",
        "# Convert the string to uppercase\n",
        "uppercase_string = string.upper()\n",
        "\n",
        "# Print the uppercase string\n",
        "print(uppercase_string)\n"
      ],
      "metadata": {
        "colab": {
          "base_uri": "https://localhost:8080/"
        },
        "id": "_rAD_Ah-1eI8",
        "outputId": "cae7778d-efc6-4565-b54f-5e22058c9a33"
      },
      "execution_count": 77,
      "outputs": [
        {
          "output_type": "stream",
          "name": "stdout",
          "text": [
            "WE ARE CREATING NEXT GENERATION DATA SCIENCE ECO-SYSTEM AT COLLEGERANKER\n"
          ]
        }
      ]
    },
    {
      "cell_type": "code",
      "source": [
        "# Converting only first character of string to upper case\n",
        "\n",
        "string = \"we are creating next generation data science eco-system at collegeranker\"\n",
        "\n",
        "# Convert the first character to uppercase\n",
        "first_char_uppercase = string[0].upper()\n",
        "\n",
        "# Slice the string starting from the second character\n",
        "rest_of_string = string[1:]\n",
        "\n",
        "# Concatenate the uppercase first character with the rest of the string\n",
        "new_string = first_char_uppercase + rest_of_string\n",
        "\n",
        "# Print the new string\n",
        "print(new_string)\n"
      ],
      "metadata": {
        "colab": {
          "base_uri": "https://localhost:8080/"
        },
        "id": "GzxYKM6f1okc",
        "outputId": "8d4f98ae-2e7b-4e97-d1b2-55a960ee5a28"
      },
      "execution_count": 78,
      "outputs": [
        {
          "output_type": "stream",
          "name": "stdout",
          "text": [
            "We are creating next generation data science eco-system at collegeranker\n"
          ]
        }
      ]
    },
    {
      "cell_type": "code",
      "source": [
        "#Checking if string is in lower case or upper case\n",
        "\n",
        "string = \"We are creating next generation data science eco-system at CollegeRanker\"\n",
        "\n",
        "# Check if the string is in lowercase\n",
        "is_lowercase = string.islower()\n",
        "\n",
        "# Print the result\n",
        "print(is_lowercase)  # False\n",
        "\n",
        "# Check if the string is in uppercase\n",
        "is_uppercase = string.isupper()\n",
        "\n",
        "# Print the result\n",
        "print(is_uppercase)  # False\n",
        "\n",
        "# Convert the string to lowercase\n",
        "lowercase_string = string.lower()\n",
        "\n",
        "# Check if the string is in lowercase\n",
        "is_lowercase = lowercase_string.islower()\n",
        "\n",
        "# Print the result\n",
        "print(is_lowercase)  # True\n",
        "\n",
        "# Convert the string to uppercase\n",
        "uppercase_string = string.upper()\n",
        "\n",
        "# Check if the string is in uppercase\n",
        "is_uppercase = uppercase_string.isupper()\n",
        "\n",
        "# Print the result\n",
        "print(is_uppercase)  # True\n"
      ],
      "metadata": {
        "colab": {
          "base_uri": "https://localhost:8080/"
        },
        "id": "GJMJf-ro1us7",
        "outputId": "c13f437b-2ef4-47af-b7bc-dcf27bad6b8c"
      },
      "execution_count": 79,
      "outputs": [
        {
          "output_type": "stream",
          "name": "stdout",
          "text": [
            "False\n",
            "False\n",
            "True\n",
            "True\n"
          ]
        }
      ]
    },
    {
      "cell_type": "code",
      "source": [
        "# Checking if string is digit, alpabetic, alpha-numeric\n",
        "\n",
        "string = \"We are creating next generation data science eco-system at CollegeRanker\"\n",
        "\n",
        "# Check if the string is a digit\n",
        "is_digit = string.isdigit()\n",
        "\n",
        "# Print the result\n",
        "print(is_digit)  # False\n",
        "\n",
        "# Check if the string is alphabetic\n",
        "is_alphabetic = string.isalpha()\n",
        "\n",
        "# Print the result\n",
        "print(is_alphabetic)  # False\n",
        "\n",
        "# Check if the string is alphanumeric\n",
        "is_alphanumeric = string.isalnum()\n",
        "\n",
        "# Print the result\n",
        "print(is_alphanumeric)  # False\n",
        "\n",
        "# Create a string with only digits\n",
        "digit_string = \"1234567890\"\n",
        "\n",
        "# Check if the string is a digit\n",
        "is_digit = digit_string.isdigit()\n",
        "\n",
        "# Print the result\n",
        "print(is_digit)  # True\n",
        "\n",
        "# Create a string with only alphabets\n",
        "alphabetic_string = \"abcdefghijklmnopqrstuvwxyzABCDEFGHIJKLMNOPQRSTUVWXYZ\"\n",
        "\n",
        "# Check if the string is alphabetic\n",
        "is_alphabetic = alphabetic_string.isalpha()\n",
        "\n",
        "# Print the result\n",
        "print(is_alphabetic)  # True\n",
        "\n",
        "# Create a string with both alphabets and digits\n",
        "alphanumeric_string = \"123abc456def789ghi\"\n",
        "\n",
        "# Check if the string is alphanumeric\n",
        "is_alphanumeric = alphanumeric_string.isalnum()\n",
        "\n",
        "# Print the result\n",
        "print(is_alphanumeric)  # True\n"
      ],
      "metadata": {
        "colab": {
          "base_uri": "https://localhost:8080/"
        },
        "id": "SeTFT81W129D",
        "outputId": "0e56784f-0617-4513-fd72-054341349754"
      },
      "execution_count": 80,
      "outputs": [
        {
          "output_type": "stream",
          "name": "stdout",
          "text": [
            "False\n",
            "False\n",
            "False\n",
            "True\n",
            "True\n",
            "True\n"
          ]
        }
      ]
    },
    {
      "cell_type": "code",
      "source": [
        "# assign \"C++ is easy to learn\" to a new_str variable\n",
        "\n",
        "new_str = \"C++ is easy to learn\"\n"
      ],
      "metadata": {
        "id": "Z7re7npX1-RL"
      },
      "execution_count": 81,
      "outputs": []
    },
    {
      "cell_type": "code",
      "source": [
        " ### Replace C++ with Python\n",
        "\n",
        "new_str = new_str.replace(\"C++\", \"Python\")\n",
        "print(new_str)\n"
      ],
      "metadata": {
        "colab": {
          "base_uri": "https://localhost:8080/"
        },
        "id": "OnTrS_372TT8",
        "outputId": "43fcbcc8-83e8-469d-ee79-2b9e9dce50ff"
      },
      "execution_count": 82,
      "outputs": [
        {
          "output_type": "stream",
          "name": "stdout",
          "text": [
            "Python is easy to learn\n"
          ]
        }
      ]
    },
    {
      "cell_type": "code",
      "source": [
        " ### Use Split function on new_str ###\n",
        "\n",
        "new_list = new_str.split()\n",
        "print(new_list)\n"
      ],
      "metadata": {
        "colab": {
          "base_uri": "https://localhost:8080/"
        },
        "id": "1WiuaOwC2d9E",
        "outputId": "c04328e2-3e54-44a7-b0a4-40ccfda48a4a"
      },
      "execution_count": 84,
      "outputs": [
        {
          "output_type": "stream",
          "name": "stdout",
          "text": [
            "['Python', 'is', 'easy', 'to', 'learn']\n"
          ]
        }
      ]
    },
    {
      "cell_type": "markdown",
      "source": [
        "**Python Functions**"
      ],
      "metadata": {
        "id": "Wodjd0qV2nPy"
      }
    },
    {
      "cell_type": "code",
      "source": [
        "# define a function with welcome_message(name) and body 'Welcome to Functions !!!'\n",
        "\n",
        "def welcome_message(name):\n",
        "  \"\"\"\n",
        "  This function prints a welcome message to the user.\n",
        "\n",
        "  Args:\n",
        "      name: The name of the user.\n",
        "  \"\"\"\n",
        "  print(f\"Welcome to Functions, {name}!\")\n",
        "\n",
        "# Example usage\n",
        "welcome_message(\"Mehraj Shah\")\n"
      ],
      "metadata": {
        "colab": {
          "base_uri": "https://localhost:8080/"
        },
        "id": "373bXmD-2qs8",
        "outputId": "ed676ca6-8142-45ba-b52d-354e221f5ad3"
      },
      "execution_count": 85,
      "outputs": [
        {
          "output_type": "stream",
          "name": "stdout",
          "text": [
            "Welcome to Functions, Mehraj Shah!\n"
          ]
        }
      ]
    },
    {
      "cell_type": "code",
      "source": [
        "# Write a function to add two number which are as 3 and 4\n",
        "# # in total variable store adition of 3 + 4\n",
        "# # print total variable\n",
        "\n",
        "def add_two_numbers(num1, num2):\n",
        "  \"\"\"\n",
        "  This function adds two numbers and returns the sum.\n",
        "\n",
        "  Args:\n",
        "      num1: The first number.\n",
        "      num2: The second number.\n",
        "\n",
        "  Returns:\n",
        "      The sum of the two numbers.\n",
        "  \"\"\"\n",
        "  total = num1 + num2\n",
        "  return total\n",
        "\n",
        "# Example usage\n",
        "num1 = 3\n",
        "num2 = 4\n",
        "\n",
        "total = add_two_numbers(num1, num2)\n",
        "\n",
        "print(f\"The sum of {num1} and {num2} is {total}\")\n"
      ],
      "metadata": {
        "colab": {
          "base_uri": "https://localhost:8080/"
        },
        "id": "wfEz8vle3Ak7",
        "outputId": "42cd04f1-8ed6-488d-c78d-5ac5315a7ee1"
      },
      "execution_count": 90,
      "outputs": [
        {
          "output_type": "stream",
          "name": "stdout",
          "text": [
            "The sum of 3 and 4 is 7\n"
          ]
        }
      ]
    },
    {
      "cell_type": "code",
      "source": [
        "## Create substraction_function(small_number,large_number) and return difference between large_number and small_number\n",
        "\n",
        "def subtraction_function(small_number, large_number):\n",
        "  \"\"\"\n",
        "  This function subtracts the smaller number from the larger number and returns the difference.\n",
        "\n",
        "  Args:\n",
        "      small_number: The smaller number.\n",
        "      large_number: The larger number.\n",
        "\n",
        "  Returns:\n",
        "      The difference between the larger and smaller numbers.\n",
        "  \"\"\"\n",
        "  difference = large_number - small_number\n",
        "  return difference\n",
        "\n",
        "# Example usage\n",
        "small_number = 3\n",
        "large_number = 4\n",
        "\n",
        "difference = subtraction_function(small_number, large_number)\n",
        "\n",
        "print(f\"The difference between {large_number} and {small_number} is {difference}\")\n"
      ],
      "metadata": {
        "colab": {
          "base_uri": "https://localhost:8080/"
        },
        "id": "JtxG9G4i3IO0",
        "outputId": "405bba7a-74c2-478e-be71-bf04904d7828"
      },
      "execution_count": 93,
      "outputs": [
        {
          "output_type": "stream",
          "name": "stdout",
          "text": [
            "The difference between 4 and 3 is 1\n"
          ]
        }
      ]
    },
    {
      "cell_type": "code",
      "source": [
        " # pass arguments in right order\n",
        "\n",
        "def my_function(a, b, c):\n",
        "  \"\"\"\n",
        "  This function takes three arguments and prints them.\n",
        "  \"\"\"\n",
        "  print(a, b, c)\n",
        "\n",
        "my_function(c=3, b=2, a=1)\n"
      ],
      "metadata": {
        "colab": {
          "base_uri": "https://localhost:8080/"
        },
        "id": "UZzIMQ-Q3WqD",
        "outputId": "8bd45730-8e84-49c0-edab-43fd3f3cebfc"
      },
      "execution_count": 94,
      "outputs": [
        {
          "output_type": "stream",
          "name": "stdout",
          "text": [
            "1 2 3\n"
          ]
        }
      ]
    },
    {
      "cell_type": "code",
      "source": [
        " # always pass arguments using there name(keyword arguments) then order does not matter\n",
        "\n",
        "def my_function(c, b, a):\n",
        "  \"\"\"\n",
        "  This function takes three arguments and prints them.\n",
        "  \"\"\"\n",
        "  print(a, b, c)\n",
        "\n",
        "my_function(c=3, b=2, a=1)\n"
      ],
      "metadata": {
        "colab": {
          "base_uri": "https://localhost:8080/"
        },
        "id": "3vCmPeH_3d8T",
        "outputId": "8db1c18d-fb0a-452b-c8f9-26cfa54f67d4"
      },
      "execution_count": 96,
      "outputs": [
        {
          "output_type": "stream",
          "name": "stdout",
          "text": [
            "1 2 3\n"
          ]
        }
      ]
    },
    {
      "cell_type": "markdown",
      "source": [
        "**Scope of Variables means that part of program where we can access particular variable**"
      ],
      "metadata": {
        "id": "-O4kzH_03rhr"
      }
    },
    {
      "cell_type": "code",
      "source": [
        "# defining function\n",
        "def random_function():\n",
        "    # accessing variable which is outside of this function\n",
        "    global global_variable\n",
        "    return global_variable\n",
        "print('global_variable')  # Output: 'variable outside of function'\n",
        "\n",
        "def random_function():\n",
        "    random_function_result = 'variable inside of function'\n",
        "    print('random_function_result')  # Output: 'variable inside of function'"
      ],
      "metadata": {
        "colab": {
          "base_uri": "https://localhost:8080/"
        },
        "id": "lwk1WcWK3zhj",
        "outputId": "7e43e216-e20d-4f65-f259-b416be1dbdfb"
      },
      "execution_count": 108,
      "outputs": [
        {
          "output_type": "stream",
          "name": "stdout",
          "text": [
            "global_variable\n"
          ]
        }
      ]
    },
    {
      "cell_type": "code",
      "source": [
        "#print(random_function())\n",
        "# print(global_variable)\n",
        "\n",
        "global_variable = 'variable outside of function'\n",
        "\n",
        "def random_function():\n",
        "    # accessing variable which is outside of this function\n",
        "    return global_variable\n",
        "\n",
        "print(global_variable)  # Output: 'variable outside of function'\n",
        "\n",
        "print(random_function())  # Output: 'variable outside of function'\n",
        "\n",
        "print(global_variable)  # Output: 'variable outside of function'\n"
      ],
      "metadata": {
        "colab": {
          "base_uri": "https://localhost:8080/"
        },
        "id": "BtEAbhWu5OTS",
        "outputId": "ec5abc10-ff98-48f2-cab7-1b5f268cba94"
      },
      "execution_count": 110,
      "outputs": [
        {
          "output_type": "stream",
          "name": "stdout",
          "text": [
            "variable outside of function\n",
            "variable outside of function\n",
            "variable outside of function\n"
          ]
        }
      ]
    },
    {
      "cell_type": "code",
      "source": [
        "#changing variable outside of function from inside of function\n",
        "# variable outside of function\n",
        "\n",
        "def random_function():\n",
        "    # accessing variable which is outside of this function\n",
        "    global global_variable\n",
        "    global_variable = 'changed variable inside of function'\n",
        "    return global_variable\n",
        "\n",
        "print('global_variable')  # Output: 'variable outside of function'\n",
        "\n",
        "global_variable = 'variable outside of function'\n",
        "\n",
        "def random_function():\n",
        "    # accessing variable which is outside of this function\n",
        "    global global_variable\n",
        "    global_variable = 'changed variable inside of function'\n",
        "    return global_variable\n",
        "\n",
        "print(global_variable)  # Output: 'variable outside of function'\n",
        "\n",
        "print(random_function())  # Output: 'changed variable inside of function'\n",
        "\n",
        "print(global_variable)  # Output: 'changed variable inside of function'\n"
      ],
      "metadata": {
        "colab": {
          "base_uri": "https://localhost:8080/"
        },
        "id": "36B524ni5aIr",
        "outputId": "898ec0a1-9801-45b2-c2ae-8c8f5fe3be43"
      },
      "execution_count": 111,
      "outputs": [
        {
          "output_type": "stream",
          "name": "stdout",
          "text": [
            "global_variable\n",
            "variable outside of function\n",
            "changed variable inside of function\n",
            "changed variable inside of function\n"
          ]
        }
      ]
    },
    {
      "cell_type": "code",
      "source": [
        "# prompt: Print Thanks & Regards Mehraj Shah\n",
        "\n",
        "print(\"Thanks & Regards\\nMehraj Shah\")\n"
      ],
      "metadata": {
        "colab": {
          "base_uri": "https://localhost:8080/"
        },
        "id": "dYa0fikH5umE",
        "outputId": "d12ae479-5eed-4413-b076-9ba97063cd7c"
      },
      "execution_count": 115,
      "outputs": [
        {
          "output_type": "stream",
          "name": "stdout",
          "text": [
            "Thanks & Regards\n",
            "Mehraj Shah\n"
          ]
        }
      ]
    }
  ]
}