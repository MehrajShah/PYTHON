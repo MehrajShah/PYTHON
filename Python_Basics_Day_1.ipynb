{
  "nbformat": 4,
  "nbformat_minor": 0,
  "metadata": {
    "colab": {
      "provenance": [],
      "include_colab_link": true
    },
    "kernelspec": {
      "name": "python3",
      "display_name": "Python 3"
    },
    "language_info": {
      "name": "python"
    }
  },
  "cells": [
    {
      "cell_type": "markdown",
      "metadata": {
        "id": "view-in-github",
        "colab_type": "text"
      },
      "source": [
        "<a href=\"https://colab.research.google.com/github/MehrajShah/PYTHON/blob/main/Python_Basics_Day_1.ipynb\" target=\"_parent\"><img src=\"https://colab.research.google.com/assets/colab-badge.svg\" alt=\"Open In Colab\"/></a>"
      ]
    },
    {
      "cell_type": "markdown",
      "source": [
        "**Python Basic Terms**\n",
        "\n",
        "\n",
        "*   Syntax (Valid & Invalid)\n",
        "*   Comments\n",
        "\n"
      ],
      "metadata": {
        "id": "vTsmuXI7j0NM"
      }
    },
    {
      "cell_type": "code",
      "source": [
        "address = 'SAIWAN LOLAB : 193223'    # This is my address\n",
        "print(address)                                # This is the print statement"
      ],
      "metadata": {
        "id": "gV8N7PgBhy5e",
        "colab": {
          "base_uri": "https://localhost:8080/"
        },
        "outputId": "f3cab460-e952-4824-e550-2702602e7850"
      },
      "execution_count": 2,
      "outputs": [
        {
          "output_type": "stream",
          "name": "stdout",
          "text": [
            "SAIWAN LOLAB : 193223\n"
          ]
        }
      ]
    },
    {
      "cell_type": "code",
      "source": [
        "print('JAMMU & KASHMIR')"
      ],
      "metadata": {
        "id": "R6sejPXzhzFx",
        "colab": {
          "base_uri": "https://localhost:8080/"
        },
        "outputId": "f3c29a8b-9736-44d3-a6ee-b09a6bf26bcc"
      },
      "execution_count": 3,
      "outputs": [
        {
          "output_type": "stream",
          "name": "stdout",
          "text": [
            "JAMMU & KASHMIR\n"
          ]
        }
      ]
    },
    {
      "cell_type": "code",
      "source": [],
      "metadata": {
        "id": "_w9dYzOKPLsO"
      },
      "execution_count": null,
      "outputs": []
    },
    {
      "cell_type": "code",
      "source": [
        "address"
      ],
      "metadata": {
        "colab": {
          "base_uri": "https://localhost:8080/",
          "height": 35
        },
        "id": "UfmMBsbqPLyT",
        "outputId": "d16b139d-63e0-486d-e1d3-48044b6e62cf"
      },
      "execution_count": 4,
      "outputs": [
        {
          "output_type": "execute_result",
          "data": {
            "text/plain": [
              "'SAIWAN LOLAB : 193223'"
            ],
            "application/vnd.google.colaboratory.intrinsic+json": {
              "type": "string"
            }
          },
          "metadata": {},
          "execution_count": 4
        }
      ]
    },
    {
      "cell_type": "code",
      "source": [],
      "metadata": {
        "id": "kFrM4gdFPL6D"
      },
      "execution_count": null,
      "outputs": []
    },
    {
      "cell_type": "markdown",
      "source": [
        "**Python Data Types, Type Casting & Variables**\n",
        "\n",
        "\n",
        "*   **Text Type:**\tstr\n",
        "*   **Numeric Types:**\tint, float\n",
        "*   **Sequence Types:**\tlist, tuple, range\n",
        "*   **Mapping Type:**\tdict\n",
        "*   **Set Types:**\tset\n",
        "*   **Boolean Type:**\tbool\n",
        "\n",
        "\n"
      ],
      "metadata": {
        "id": "W_B3PupFt5B6"
      }
    },
    {
      "cell_type": "code",
      "source": [
        "name = 'MEHRAJ SHAH'\n",
        "age = 30\n",
        "height = 5.6\n",
        "\n",
        "profile = ['MEHRAJ',25,5.8,60,'Engineer']         # List Method\n",
        "profile_2 = ('MUSHARAF',23,5.5,55,'Teacher')        # Tuple Method\n",
        "profile_3 = {'Name':'WASEEEM','Role':'Cricket Analyst','age':22,'City':'KUPWARA'} # Dictionary Method\n",
        "profile_4 = {'MASHKOOR',55.6,'Teacher', 5.6}     # Set Method"
      ],
      "metadata": {
        "id": "jLE90KmNiKOz"
      },
      "execution_count": 7,
      "outputs": []
    },
    {
      "cell_type": "code",
      "source": [
        "print(profile_2)"
      ],
      "metadata": {
        "colab": {
          "base_uri": "https://localhost:8080/"
        },
        "id": "x-g5j8aQkflt",
        "outputId": "b5902b18-532f-4977-fd92-3bb40b85afd6"
      },
      "execution_count": 11,
      "outputs": [
        {
          "output_type": "stream",
          "name": "stdout",
          "text": [
            "('MUSHARAF', 23, 5.5, 55, 'Teacher')\n"
          ]
        }
      ]
    },
    {
      "cell_type": "code",
      "source": [
        "type(profile_4)"
      ],
      "metadata": {
        "colab": {
          "base_uri": "https://localhost:8080/"
        },
        "id": "CKp9pn8WiScZ",
        "outputId": "4e719b1f-f73e-4c4b-a6e5-5225c655618b"
      },
      "execution_count": null,
      "outputs": [
        {
          "output_type": "execute_result",
          "data": {
            "text/plain": [
              "set"
            ]
          },
          "metadata": {},
          "execution_count": 57
        }
      ]
    },
    {
      "cell_type": "code",
      "source": [
        "student1 = ('MUMTAZ', 21, 90.2)    # Cannot modify it\n",
        "student2 = ['MUMTAZ', 21, 90.2]    # Can modify it\n",
        "student3 = {'MUMTAZ', 21, 90.2}    # Random Output"
      ],
      "metadata": {
        "id": "1Z6vCUpft539"
      },
      "execution_count": 12,
      "outputs": []
    },
    {
      "cell_type": "code",
      "source": [
        "type(student1)"
      ],
      "metadata": {
        "colab": {
          "base_uri": "https://localhost:8080/"
        },
        "id": "CF60KB5Ibg3X",
        "outputId": "c1885618-9515-4abc-9d09-b14ad91cec82"
      },
      "execution_count": 13,
      "outputs": [
        {
          "output_type": "execute_result",
          "data": {
            "text/plain": [
              "tuple"
            ]
          },
          "metadata": {},
          "execution_count": 13
        }
      ]
    },
    {
      "cell_type": "code",
      "source": [
        "student = {'Name':'MUMTAZ', 'Age': 21, 'Percent':90.2}"
      ],
      "metadata": {
        "id": "JWNv8oJFwr1h"
      },
      "execution_count": 18,
      "outputs": []
    },
    {
      "cell_type": "code",
      "source": [
        "bool(1)"
      ],
      "metadata": {
        "colab": {
          "base_uri": "https://localhost:8080/"
        },
        "id": "1jSqcl2MNfCY",
        "outputId": "74da1dc7-22d7-4325-81d9-b3ca9dd8f5af"
      },
      "execution_count": 19,
      "outputs": [
        {
          "output_type": "execute_result",
          "data": {
            "text/plain": [
              "True"
            ]
          },
          "metadata": {},
          "execution_count": 19
        }
      ]
    },
    {
      "cell_type": "code",
      "source": [
        "age = str(29)"
      ],
      "metadata": {
        "id": "C38yjp4ww6uO"
      },
      "execution_count": 21,
      "outputs": []
    },
    {
      "cell_type": "code",
      "source": [
        "type(age)"
      ],
      "metadata": {
        "colab": {
          "base_uri": "https://localhost:8080/"
        },
        "id": "E26H048ARXp6",
        "outputId": "cc1d9dd5-29c0-4311-fc2d-d97daa61fbd8"
      },
      "execution_count": 22,
      "outputs": [
        {
          "output_type": "execute_result",
          "data": {
            "text/plain": [
              "str"
            ]
          },
          "metadata": {},
          "execution_count": 22
        }
      ]
    },
    {
      "cell_type": "code",
      "source": [],
      "metadata": {
        "id": "UbLN_vIsRXvi"
      },
      "execution_count": 22,
      "outputs": []
    },
    {
      "cell_type": "markdown",
      "source": [
        "**Python Operators**\n",
        "\n",
        "*   Arithmetic operators\n",
        "*   Assignment operators\n",
        "*   Comparison operators\n",
        "*   Logical operators\n",
        "*   Membership operators"
      ],
      "metadata": {
        "id": "CUMJaslIw7qD"
      }
    },
    {
      "cell_type": "code",
      "source": [
        "# Arithmetic Operators (+,-,*,/,%,**)                        # Used with numeric values to perform common mathematical operations\n",
        "\n",
        "RAFAQAT = 10\n",
        "ARSHID = 5\n",
        "\n",
        "# print(x+y, x-y, x*y, x/y, x%y, x**y)\n",
        "\n",
        "print(RAFAQAT+ARSHID)\n",
        "print(ARSHID*RAFAQAT)\n"
      ],
      "metadata": {
        "id": "ZBFXMVCw6if9",
        "colab": {
          "base_uri": "https://localhost:8080/"
        },
        "outputId": "59c81ac8-c277-4fdc-b439-84927e7fe582"
      },
      "execution_count": 26,
      "outputs": [
        {
          "output_type": "stream",
          "name": "stdout",
          "text": [
            "15\n",
            "50\n"
          ]
        }
      ]
    },
    {
      "cell_type": "code",
      "source": [
        "\n",
        "# Assignment Operators (=,+=,-=,*=,/=,%=,**=)                # Used to assign values to variables\n",
        "\n",
        "RAFAQAT, ARSHID = 10, 5\n",
        "\n",
        "\n",
        "# x = x - y\n",
        "# x -= y       # x = x - y/\n",
        "\n",
        "\n",
        "javeed = RAFAQAT * ARSHID\n",
        "\n",
        "\n",
        "print(javeed)"
      ],
      "metadata": {
        "id": "9CUNVhBD6iiO",
        "colab": {
          "base_uri": "https://localhost:8080/"
        },
        "outputId": "40ad5b27-dbf3-416e-b1df-efdbb7a1ee9b"
      },
      "execution_count": 27,
      "outputs": [
        {
          "output_type": "stream",
          "name": "stdout",
          "text": [
            "50\n"
          ]
        }
      ]
    },
    {
      "cell_type": "code",
      "source": [
        "# Comparison Operators (==,!=,<,>,<=,>=)                     # Used to compare two values\n",
        "\n",
        "# print(x == y, x != y, x < y, x > y, x <= y, x >= y)\n",
        "javeed, RAFAQAT = 550, 378\n",
        "\n",
        "javeed >= RAFAQAT"
      ],
      "metadata": {
        "id": "mO9KdpFt6ikP",
        "colab": {
          "base_uri": "https://localhost:8080/"
        },
        "outputId": "4f93500c-8450-465c-d10e-623dd04681ff"
      },
      "execution_count": 35,
      "outputs": [
        {
          "output_type": "execute_result",
          "data": {
            "text/plain": [
              "True"
            ]
          },
          "metadata": {},
          "execution_count": 35
        }
      ]
    },
    {
      "cell_type": "code",
      "source": [
        "# Logical Operators (==,!=,<,>,<=,>=)                        # Used to combine conditional statements\n",
        "\n",
        "# print(x and y)\n",
        "\n",
        "case1 =(javeed < RAFAQAT) or (javeed == RAFAQAT)\n",
        "\n",
        "print(case1,not(case1))"
      ],
      "metadata": {
        "id": "ARZIC6W46iml",
        "colab": {
          "base_uri": "https://localhost:8080/"
        },
        "outputId": "9e98db59-7166-487b-a69b-08135f9450f9"
      },
      "execution_count": 36,
      "outputs": [
        {
          "output_type": "stream",
          "name": "stdout",
          "text": [
            "False True\n"
          ]
        }
      ]
    },
    {
      "cell_type": "code",
      "source": [
        "# Membership Operators (==,!=,<,>,<=,>=)                     # Used to test if a sequence is presented in an object\n",
        "\n",
        "# print(mumtaz in mashkoor, musharaf not in y)\n",
        "\n",
        "mumtaz = [1,2,3,4,5]\n",
        "mashkoor = 6\n",
        "\n",
        "mashkoor not in mumtaz"
      ],
      "metadata": {
        "id": "0ZpytLZ06iq8",
        "colab": {
          "base_uri": "https://localhost:8080/"
        },
        "outputId": "b41a369e-f30d-43a2-fce2-737fadfd4713"
      },
      "execution_count": 37,
      "outputs": [
        {
          "output_type": "execute_result",
          "data": {
            "text/plain": [
              "True"
            ]
          },
          "metadata": {},
          "execution_count": 37
        }
      ]
    },
    {
      "cell_type": "code",
      "source": [],
      "metadata": {
        "id": "1B_tJlgG6iu4"
      },
      "execution_count": null,
      "outputs": []
    }
  ]
}