{
  "cells": [
    {
      "cell_type": "markdown",
      "metadata": {
        "id": "view-in-github",
        "colab_type": "text"
      },
      "source": [
        "<a href=\"https://colab.research.google.com/github/MehrajShah/PYTHON/blob/main/Numpy_Assignment_Day_10.ipynb\" target=\"_parent\"><img src=\"https://colab.research.google.com/assets/colab-badge.svg\" alt=\"Open In Colab\"/></a>"
      ]
    },
    {
      "cell_type": "markdown",
      "metadata": {
        "id": "v_5a6dEGYukp"
      },
      "source": [
        "# <center> Numpy Basics </center>"
      ]
    },
    {
      "cell_type": "code",
      "source": [
        "#import numpy module with alias np\n",
        "\n",
        "import numpy as np\n"
      ],
      "metadata": {
        "id": "Ga9MiTpfVPOU"
      },
      "execution_count": 2,
      "outputs": []
    },
    {
      "cell_type": "markdown",
      "metadata": {
        "id": "onEY9HMeYuk0"
      },
      "source": [
        "We can create a NumPy ndarray object by using the array() function.\n",
        "To create an ndarray, we can pass a list, tuple or any array-like object into the array() method, and it will be converted into an ndarray:\n"
      ]
    },
    {
      "cell_type": "code",
      "source": [
        "#: can create a NumPy ndarray object by using the array() function. To create an ndarray, we can pass a list, tuple or any array-like object into the array() method, and it will be converted into an ndarray:\n",
        "\n",
        "import numpy as np\n",
        "\n",
        "# Create a NumPy ndarray object by passing a list into the array() function:\n",
        "list_data = [1, 2, 3, 4, 5]\n",
        "ndarray_from_list = np.array(list_data)\n",
        "\n",
        "# Create a NumPy ndarray object by passing a tuple into the array() function:\n",
        "tuple_data = (1, 2, 3, 4, 5)\n",
        "ndarray_from_tuple = np.array(tuple_data)\n",
        "\n",
        "# Create a NumPy ndarray object by passing an array-like object into the array() function:\n",
        "array_like_data = np.arange(1, 6)\n",
        "ndarray_from_array_like = np.array(array_like_data)\n",
        "\n",
        "# Print the created ndarrays:\n",
        "print(\"NumPy ndarray created from a list:\\n\", ndarray_from_list)\n",
        "print(\"\\nNumPy ndarray created from a tuple:\\n\", ndarray_from_tuple)\n",
        "print(\"\\nNumPy ndarray created from an array-like object:\\n\", ndarray_from_array_like)\n"
      ],
      "metadata": {
        "colab": {
          "base_uri": "https://localhost:8080/"
        },
        "id": "EQi7LPlQVFpU",
        "outputId": "06988e86-e4f2-4185-dff3-567811a73e9d"
      },
      "execution_count": 21,
      "outputs": [
        {
          "output_type": "stream",
          "name": "stdout",
          "text": [
            "NumPy ndarray created from a list:\n",
            " [1 2 3 4 5]\n",
            "\n",
            "NumPy ndarray created from a tuple:\n",
            " [1 2 3 4 5]\n",
            "\n",
            "NumPy ndarray created from an array-like object:\n",
            " [1 2 3 4 5]\n"
          ]
        }
      ]
    },
    {
      "cell_type": "code",
      "execution_count": 22,
      "metadata": {
        "id": "BCdPh0rqYuk0"
      },
      "outputs": [],
      "source": [
        "# Define a numpy array passing a list with  1,2 and 3 as elements in it\n",
        "\n"
      ]
    },
    {
      "cell_type": "code",
      "source": [
        "# Define a numpy array passing a list with  1,2 and 3 as elements in it\n",
        "\n",
        "import numpy as np\n",
        "\n",
        "# Define a numpy array passing a list with 1,2 and 3 as elements in it\n",
        "numpy_array = np.array([1, 2, 3])\n",
        "\n",
        "# Print the numpy array\n",
        "print(numpy_array)\n"
      ],
      "metadata": {
        "colab": {
          "base_uri": "https://localhost:8080/"
        },
        "id": "_w9dJuf_VWgD",
        "outputId": "1138b63e-4855-4717-a38a-b77d03652fb9"
      },
      "execution_count": 23,
      "outputs": [
        {
          "output_type": "stream",
          "name": "stdout",
          "text": [
            "[1 2 3]\n"
          ]
        }
      ]
    },
    {
      "cell_type": "code",
      "source": [
        "# print output\n",
        "\n",
        "print(numpy_array)\n"
      ],
      "metadata": {
        "colab": {
          "base_uri": "https://localhost:8080/"
        },
        "id": "iG0giCDIVam7",
        "outputId": "1e88503e-1374-43c3-bdfa-846a6482217e"
      },
      "execution_count": 24,
      "outputs": [
        {
          "output_type": "stream",
          "name": "stdout",
          "text": [
            "[1 2 3]\n"
          ]
        }
      ]
    },
    {
      "cell_type": "markdown",
      "metadata": {
        "id": "I5wC2n70Yuk2"
      },
      "source": [
        "## Dimensions in Arrays\n",
        "\n",
        "Create arrays of different dimentions.\n",
        "\n",
        "a=A numpy array with one single integer 10\n",
        "\n",
        "b=A numpy array passing a list having a list= [1,2,3]\n",
        "\n",
        "c=A numpy array passing nested list having [[1, 2, 3], [4, 5, 6]] as elements\n",
        "\n",
        "d=A numpy array passing nested list having [[[1, 2, 3], [4, 5, 6]], [[1, 2, 3], [4, 5, 6]]] as elements"
      ]
    },
    {
      "cell_type": "code",
      "source": [
        "#define a,b,c and d as instructed above\n",
        "# # a =\n",
        "# # b =\n",
        "# # c =\n",
        "# # d =\n",
        "\n",
        "import numpy as np\n",
        "a = np.array(10)\n",
        "b = np.array([1,2,3])\n",
        "c = np.array([[1, 2, 3], [4, 5, 6]])\n",
        "d = np.array([[[1, 2, 3], [4, 5, 6]], [[1, 2, 3], [4, 5, 6]]])\n"
      ],
      "metadata": {
        "id": "zTb94OqnVqiD"
      },
      "execution_count": 25,
      "outputs": []
    },
    {
      "cell_type": "markdown",
      "metadata": {
        "id": "qtUQhJgsYuk5"
      },
      "source": [
        "Are you ready to check its dimention? Use ndim attribute on each variable to check its dimention"
      ]
    },
    {
      "cell_type": "code",
      "source": [
        "#print dimentions of a,b, c and d\n",
        "\n",
        "print(f\"Dimension of a: {a.ndim}\")\n",
        "print(f\"Dimension of b: {b.ndim}\")\n",
        "print(f\"Dimension of c: {c.ndim}\")\n",
        "print(f\"Dimension of d: {d.ndim}\")\n"
      ],
      "metadata": {
        "colab": {
          "base_uri": "https://localhost:8080/"
        },
        "id": "LPMJutHXVyRj",
        "outputId": "ef280820-126e-41e7-f983-1fc1f703fa9b"
      },
      "execution_count": 26,
      "outputs": [
        {
          "output_type": "stream",
          "name": "stdout",
          "text": [
            "Dimension of a: 0\n",
            "Dimension of b: 1\n",
            "Dimension of c: 2\n",
            "Dimension of d: 3\n"
          ]
        }
      ]
    },
    {
      "cell_type": "markdown",
      "metadata": {
        "id": "GdfDcthEYuk7"
      },
      "source": [
        "Hey hey. Did you see! you have created 0-D,1-DeprecationWarning, 2-D and 3-D arrays.\n",
        "\n",
        "Lets print there shape as well. You can check shape using shape attribute\n",
        "\n"
      ]
    },
    {
      "cell_type": "code",
      "source": [
        "# prompt: # print shape of each a,b ,c and d\n",
        "\n",
        "print(f\"Shape of a: {a.shape}\")\n",
        "print(f\"Shape of b: {b.shape}\")\n",
        "print(f\"Shape of c: {c.shape}\")\n",
        "print(f\"Shape of d: {d.shape}\")\n"
      ],
      "metadata": {
        "colab": {
          "base_uri": "https://localhost:8080/"
        },
        "id": "YABRa3o8V6nT",
        "outputId": "acfbb336-f240-49f8-a0c1-a8a4eff87d60"
      },
      "execution_count": 27,
      "outputs": [
        {
          "output_type": "stream",
          "name": "stdout",
          "text": [
            "Shape of a: ()\n",
            "Shape of b: (3,)\n",
            "Shape of c: (2, 3)\n",
            "Shape of d: (2, 2, 3)\n"
          ]
        }
      ]
    },
    {
      "cell_type": "markdown",
      "metadata": {
        "id": "zznIHO2BYuk8"
      },
      "source": [
        "Lets check data type passed in our array. To check data type you can use dtype attribute"
      ]
    },
    {
      "cell_type": "code",
      "source": [
        "# print data type of c and d\n",
        "\n",
        "print(f\"Data type of c: {c.dtype}\")\n",
        "print(f\"Data type of d: {d.dtype}\")\n"
      ],
      "metadata": {
        "colab": {
          "base_uri": "https://localhost:8080/"
        },
        "id": "hF5XEKlRV__i",
        "outputId": "9ef01b4f-587e-4bc2-b4ad-ad3629574f47"
      },
      "execution_count": 28,
      "outputs": [
        {
          "output_type": "stream",
          "name": "stdout",
          "text": [
            "Data type of c: int64\n",
            "Data type of d: int64\n"
          ]
        }
      ]
    },
    {
      "cell_type": "markdown",
      "metadata": {
        "id": "bvZI9gIfYuk9"
      },
      "source": [
        "Above output mean our array is having int type elements in it."
      ]
    },
    {
      "cell_type": "markdown",
      "metadata": {
        "id": "JTIMcpHZYuk9"
      },
      "source": [
        "Lets check the type of our variable. To check type of any numpy variable use type() function"
      ]
    },
    {
      "cell_type": "code",
      "source": [
        "#print type of a and b variable\n",
        "\n",
        "print(f\"Type of a: {type(a)}\")\n",
        "print(f\"Type of b: {type(b)}\")\n"
      ],
      "metadata": {
        "colab": {
          "base_uri": "https://localhost:8080/"
        },
        "id": "V31I-5lbWFtb",
        "outputId": "e8ca1dde-bed9-4160-c8a3-c90060f9185a"
      },
      "execution_count": 29,
      "outputs": [
        {
          "output_type": "stream",
          "name": "stdout",
          "text": [
            "Type of a: <class 'numpy.ndarray'>\n",
            "Type of b: <class 'numpy.ndarray'>\n"
          ]
        }
      ]
    },
    {
      "cell_type": "code",
      "source": [
        "# Lets check length of array b, using len() function\n",
        "# # len(b)\n",
        "\n",
        "print(f\"Length of b: {len(b)}\")\n"
      ],
      "metadata": {
        "colab": {
          "base_uri": "https://localhost:8080/"
        },
        "id": "INN10ryNWNVD",
        "outputId": "40b3ee8b-4822-456c-9a68-7db558ae34e1"
      },
      "execution_count": 31,
      "outputs": [
        {
          "output_type": "stream",
          "name": "stdout",
          "text": [
            "Length of b: 3\n"
          ]
        }
      ]
    },
    {
      "cell_type": "markdown",
      "metadata": {
        "id": "8k-sX7zmYuk-"
      },
      "source": [
        "Bravo!You have Defined ndarray i.e numpy array in variable a nd b. Also you have successfully learned how to create numpy."
      ]
    },
    {
      "cell_type": "code",
      "source": [
        "\n",
        "import numpy as np\n",
        "# Define a numpy array passing a list with 1,2 and 3 as elements in it\n",
        "numpy_array = np.array([1, 2, 3])\n",
        "\n",
        "# Print the numpy array\n",
        "print(numpy_array)\n",
        "\n",
        "# Are you ready to check its dimention? Use ndim attribute on each variable to check its dimention\n",
        "print(f\"Dimension of numpy_array: {numpy_array.ndim}\")\n",
        "\n",
        "# Lets print there shape as well. You can check shape using shape attribute\n",
        "print(f\"Shape of numpy_array: {numpy_array.shape}\")\n",
        "\n",
        "# Lets check data type passed in our array. To check data type you can use dtype attribute\n",
        "print(f\"Data type of numpy_array: {numpy_array.dtype}\")\n",
        "\n",
        "# Above output mean our array is having int type elements in it.\n",
        "# Lets check the type of our variable. To check type of any numpy variable use type() function\n",
        "print(f\"Type of numpy_array: {type(numpy_array)}\")\n",
        "\n",
        "# Lets check length of array numpy_array, using len() function\n",
        "print(f\"Length of numpy_array: {len(numpy_array)}\")\n"
      ],
      "metadata": {
        "id": "R4ylxj2I_Xra",
        "colab": {
          "base_uri": "https://localhost:8080/"
        },
        "outputId": "e38ea3f7-12fa-46e6-e7bc-38b97d988450"
      },
      "execution_count": 34,
      "outputs": [
        {
          "output_type": "stream",
          "name": "stdout",
          "text": [
            "[1 2 3]\n",
            "Dimension of numpy_array: 1\n",
            "Shape of numpy_array: (3,)\n",
            "Data type of numpy_array: int64\n",
            "Type of numpy_array: <class 'numpy.ndarray'>\n",
            "Length of numpy_array: 3\n"
          ]
        }
      ]
    },
    {
      "cell_type": "markdown",
      "metadata": {
        "id": "bl8PwahHYuk-"
      },
      "source": [
        "Create two list l1 and l2 where, l1=[10,20,30] and l2=[40,50,60]\n",
        "Also define two numpy arrays l3,l4 where l3 has l1 as element and l4 has l2 as element\n"
      ]
    },
    {
      "cell_type": "code",
      "source": [
        "# Define l1,l2,l3 and l4 as stated above.\n",
        "# # l1 =\n",
        "# # l2 =\n",
        "# # l3 =\n",
        "# # l4 =\n",
        "\n",
        "import numpy as np\n",
        "l1 = [10, 20, 30]\n",
        "l2 = [40, 50, 60]\n",
        "l3 = np.array(l1)\n",
        "l4 = np.array(l2)\n"
      ],
      "metadata": {
        "id": "NmFA6VAYWbMj"
      },
      "execution_count": 35,
      "outputs": []
    },
    {
      "cell_type": "markdown",
      "metadata": {
        "id": "9muN0ZR5Yuk-"
      },
      "source": [
        "Lets multiply each elements of l1 with corresponding elements of l2\n",
        "\n",
        "Here use list comprehention to do so. Lets see how much you remember your work in other assignments.\n",
        "\n",
        "Note: use %timeit as prefix before your line of code inorder to calculate total time taken to run that line<br>\n",
        "eg. %timeit my_code"
      ]
    },
    {
      "cell_type": "code",
      "execution_count": 36,
      "metadata": {
        "id": "Gt0o_ZSCYuk_",
        "colab": {
          "base_uri": "https://localhost:8080/"
        },
        "outputId": "63ba0d36-a68e-4333-b982-9503f8bde24e"
      },
      "outputs": [
        {
          "output_type": "stream",
          "name": "stdout",
          "text": [
            "917 ns ± 267 ns per loop (mean ± std. dev. of 7 runs, 1000000 loops each)\n"
          ]
        }
      ],
      "source": [
        "#code here as instructed above\n",
        "%timeit [l1[i] * l2[i] for i in range(len(l1))]\n",
        "\n"
      ]
    },
    {
      "cell_type": "markdown",
      "metadata": {
        "id": "xT45pl-RYuk_"
      },
      "source": [
        "Lets mulptiply l3 and l4\n",
        "\n",
        "Note: use %timeit as prefix before your line of code inorder to calculate total time taken to run that line"
      ]
    },
    {
      "cell_type": "code",
      "source": [
        "#Lets mulptiply l3 and l4\n",
        "# Note: use %timeit as prefix before your line of code inorder to calculate total time taken to run that line\n",
        "\n",
        "%timeit l3 * l4\n"
      ],
      "metadata": {
        "colab": {
          "base_uri": "https://localhost:8080/"
        },
        "id": "DaRu4KERW66y",
        "outputId": "7acd98fb-ce68-4dc2-f1c3-01333be76fd6"
      },
      "execution_count": 37,
      "outputs": [
        {
          "output_type": "stream",
          "name": "stdout",
          "text": [
            "783 ns ± 205 ns per loop (mean ± std. dev. of 7 runs, 1000000 loops each)\n"
          ]
        }
      ]
    },
    {
      "cell_type": "markdown",
      "metadata": {
        "id": "CJrqooYWYuk_"
      },
      "source": [
        "Don't worry if still your one line of code is running. Its because your system is calculating total time taken to run your code.\n",
        "\n",
        "Did you notice buddy! time taken to multiply two lists takes more time than multiplyimg two numpy array.\n",
        "Hence proved that numpy arrays are faster than lists.\n",
        "\n",
        "**Fun Fact time!:**\n",
        "\n",
        "You know in many data science interviews it is asked that what is the difference between list and array.<br>\n"
      ]
    },
    {
      "cell_type": "code",
      "source": [
        "#Create a numpy array using arange with 1 and 11 as parameter in it\n",
        "\n",
        "import numpy as np\n",
        "np_array = np.arange(1,11)\n"
      ],
      "metadata": {
        "id": "ZBcZhKI2XD4L"
      },
      "execution_count": 38,
      "outputs": []
    },
    {
      "cell_type": "markdown",
      "metadata": {
        "id": "QiuRfP4OYulA"
      },
      "source": [
        "This means using arrange we get evenly spaced values within a given interval. Interval? Yes you can mention interval as well as third parameter in it."
      ]
    },
    {
      "cell_type": "code",
      "source": [
        "# prompt: # Create an array using arange passing 1,11 and 2 as parameter in iter\n",
        "\n",
        "import numpy as np\n",
        "np_array = np.arange(1, 11, 2)\n"
      ],
      "metadata": {
        "id": "iwvkLgH7XM9X"
      },
      "execution_count": 39,
      "outputs": []
    },
    {
      "cell_type": "code",
      "source": [
        "# prompt: # create numpy array using eye function with 3 as passed parameter\n",
        "\n",
        "import numpy as np\n",
        "np_array = np.eye(3)\n"
      ],
      "metadata": {
        "id": "8f4u5APMXSyQ"
      },
      "execution_count": 40,
      "outputs": []
    },
    {
      "cell_type": "code",
      "source": [
        "# prompt: # Using arange() to generate numpy array x with numbers between 1 to 16\n",
        "# # x=\n",
        "\n",
        "import numpy as np\n",
        "x = np.arange(1, 17)\n"
      ],
      "metadata": {
        "id": "6E_C5HiuXbzS"
      },
      "execution_count": 41,
      "outputs": []
    },
    {
      "cell_type": "code",
      "source": [
        "# Reshape x with 2 rows and 8 columns\n",
        "\n",
        "x = x.reshape(2,8)\n"
      ],
      "metadata": {
        "id": "4S8l3mfTXhRB"
      },
      "execution_count": 42,
      "outputs": []
    },
    {
      "cell_type": "markdown",
      "metadata": {
        "id": "Eu-DgBCRYulE"
      },
      "source": [
        "As you can see above that our x changed into 2D matrix\n",
        "\n",
        "2. Reshaping 1-D to 3-D array\n"
      ]
    },
    {
      "cell_type": "code",
      "source": [
        "# reshaoe x with dimension that will have 2 arrays that contains 4 arrays, each with 2 elements:\n",
        "\n",
        "import numpy as np\n",
        "x = np.arange(1, 17).reshape((2, 4, 2))\n"
      ],
      "metadata": {
        "id": "BX9pO7U_X8BT"
      },
      "execution_count": 43,
      "outputs": []
    },
    {
      "cell_type": "code",
      "source": [
        "# Use unknown dimention to reshape x into 2-D numpy array with shape 4*4\n",
        "\n",
        "import numpy as np\n",
        "x = np.arange(1, 17).reshape(4, 4)\n",
        "print(x)\n"
      ],
      "metadata": {
        "colab": {
          "base_uri": "https://localhost:8080/"
        },
        "id": "8U8_29aqYBHr",
        "outputId": "3250fbcf-cb84-4ad7-ebbf-2a0df6324900"
      },
      "execution_count": 44,
      "outputs": [
        {
          "output_type": "stream",
          "name": "stdout",
          "text": [
            "[[ 1  2  3  4]\n",
            " [ 5  6  7  8]\n",
            " [ 9 10 11 12]\n",
            " [13 14 15 16]]\n"
          ]
        }
      ]
    },
    {
      "cell_type": "code",
      "execution_count": 45,
      "metadata": {
        "id": "NDRDRGkUYulE"
      },
      "outputs": [],
      "source": [
        "# Use unknown dimention to  reshape x into 3-D numpy array with 2 arrays that contains 4 arrays\n",
        "# y=\n",
        "\n",
        "\n",
        "# print y\n",
        "\n"
      ]
    },
    {
      "cell_type": "code",
      "source": [
        "# Use unknown dimention to  reshape x into 3-D numpy array with 2 arrays that contains 4 arrays\n",
        "# # y=\n",
        "# # print y\n",
        "\n",
        "import numpy as np\n",
        "x = np.arange(1, 17).reshape(2, 4, 2)\n",
        "print(x)\n"
      ],
      "metadata": {
        "colab": {
          "base_uri": "https://localhost:8080/"
        },
        "id": "2YYU6M89YLap",
        "outputId": "e779876d-1b7f-43e2-de20-409fba9a3908"
      },
      "execution_count": 46,
      "outputs": [
        {
          "output_type": "stream",
          "name": "stdout",
          "text": [
            "[[[ 1  2]\n",
            "  [ 3  4]\n",
            "  [ 5  6]\n",
            "  [ 7  8]]\n",
            "\n",
            " [[ 9 10]\n",
            "  [11 12]\n",
            "  [13 14]\n",
            "  [15 16]]]\n"
          ]
        }
      ]
    },
    {
      "cell_type": "code",
      "source": [
        "# Flattening y\n",
        "\n",
        "y = x.flatten()\n",
        "print(y)\n"
      ],
      "metadata": {
        "colab": {
          "base_uri": "https://localhost:8080/"
        },
        "id": "cF-37vqJYT8z",
        "outputId": "64a34a74-a5a2-403e-e983-4925f2c368ad"
      },
      "execution_count": 47,
      "outputs": [
        {
          "output_type": "stream",
          "name": "stdout",
          "text": [
            "[ 1  2  3  4  5  6  7  8  9 10 11 12 13 14 15 16]\n"
          ]
        }
      ]
    },
    {
      "cell_type": "code",
      "source": [
        "# Create an array a with all even numbers between 1 to 17\n",
        "# # a =\n",
        "# # print a\n",
        "\n",
        "import numpy as np\n",
        "a = np.arange(2, 18, 2)\n",
        "print(a)\n"
      ],
      "metadata": {
        "colab": {
          "base_uri": "https://localhost:8080/"
        },
        "id": "gFHcuArIYanZ",
        "outputId": "7807f17a-5bb6-4277-b663-0e3ba165f203"
      },
      "execution_count": 48,
      "outputs": [
        {
          "output_type": "stream",
          "name": "stdout",
          "text": [
            "[ 2  4  6  8 10 12 14 16]\n"
          ]
        }
      ]
    },
    {
      "cell_type": "code",
      "source": [
        "# Get third element in array a\n",
        "\n",
        "print(a[2])\n"
      ],
      "metadata": {
        "colab": {
          "base_uri": "https://localhost:8080/"
        },
        "id": "kBcF-exNYg1w",
        "outputId": "9a7bc0fa-f741-436a-e8e5-66041a94775f"
      },
      "execution_count": 52,
      "outputs": [
        {
          "output_type": "stream",
          "name": "stdout",
          "text": [
            "6\n"
          ]
        }
      ]
    },
    {
      "cell_type": "code",
      "source": [
        "#Print 3rd, 5th, and 7th element in array\n",
        "\n",
        "print(a[[2, 4, 6]])\n"
      ],
      "metadata": {
        "colab": {
          "base_uri": "https://localhost:8080/"
        },
        "id": "aetRh4DSYtP5",
        "outputId": "87b2f310-b868-4537-c901-35e8bd501194"
      },
      "execution_count": 53,
      "outputs": [
        {
          "output_type": "stream",
          "name": "stdout",
          "text": [
            "[ 6 10 14]\n"
          ]
        }
      ]
    },
    {
      "cell_type": "markdown",
      "metadata": {
        "id": "6FauyJCQYulF"
      },
      "source": [
        "Lets check the same for 2 D array"
      ]
    },
    {
      "cell_type": "code",
      "source": [
        "# Define an array 2-D a with [[1,2,3],[4,5,6],[7,8,9]] as its elements.\n",
        "# # a =\n",
        "\n",
        "import numpy as np\n",
        "a = np.array([[1, 2, 3], [4, 5, 6], [7, 8, 9]])\n"
      ],
      "metadata": {
        "id": "VTTVD6ZDYypB"
      },
      "execution_count": 54,
      "outputs": []
    },
    {
      "cell_type": "code",
      "source": [
        "# prompt: # print the 3rd element from the 3rd row of a\n",
        "\n",
        "print(a[2, 2])\n"
      ],
      "metadata": {
        "colab": {
          "base_uri": "https://localhost:8080/"
        },
        "id": "N4FDlsT9Y9Hr",
        "outputId": "aa5d1e58-fe2b-48d9-f73d-cd5665f412f8"
      },
      "execution_count": 55,
      "outputs": [
        {
          "output_type": "stream",
          "name": "stdout",
          "text": [
            "9\n"
          ]
        }
      ]
    },
    {
      "cell_type": "markdown",
      "metadata": {
        "id": "-fPw_4ZBYulF"
      },
      "source": [
        "Well done!\n",
        "\n",
        "Now lets check indexing for 3 D array"
      ]
    },
    {
      "cell_type": "code",
      "source": [
        "# Define an array b again with [[[1, 2, 3], [4, 5, 6]], [[7, 8, 9], [10, 11, 12]]] as its elements.\n",
        "# # b =\n",
        "\n",
        "import numpy as np\n",
        "b = np.array([[[1, 2, 3], [4, 5, 6]], [[7, 8, 9], [10, 11, 12]]])\n"
      ],
      "metadata": {
        "id": "48FGD4JVZHGZ"
      },
      "execution_count": 56,
      "outputs": []
    },
    {
      "cell_type": "code",
      "source": [
        " # Print 3rd element from 2nd list which is 1st list in nested list passed. Confusing right? 'a' have nested array.Understand the braket differences.\n",
        "\n",
        "print(b[1][0][2])\n"
      ],
      "metadata": {
        "colab": {
          "base_uri": "https://localhost:8080/"
        },
        "id": "FY11NmtiZQ9K",
        "outputId": "0650c1bc-e706-4558-809b-913d7b45f0e9"
      },
      "execution_count": 57,
      "outputs": [
        {
          "output_type": "stream",
          "name": "stdout",
          "text": [
            "9\n"
          ]
        }
      ]
    },
    {
      "cell_type": "code",
      "source": [
        "# Create 1D array\n",
        "# # arr=\n",
        "\n",
        "import numpy as np\n",
        "arr = np.array([1, 2, 3, 4, 5, 6])\n"
      ],
      "metadata": {
        "id": "zuxeuiyPZXsJ"
      },
      "execution_count": 58,
      "outputs": []
    },
    {
      "cell_type": "code",
      "source": [
        "# Slice elements from 1st to 5th element from the following array:\n",
        "\n",
        "print(arr[1:5])\n"
      ],
      "metadata": {
        "colab": {
          "base_uri": "https://localhost:8080/"
        },
        "id": "DiR06pKrZfNC",
        "outputId": "42f80e6e-887e-4cae-823d-e32cc72df89a"
      },
      "execution_count": 59,
      "outputs": [
        {
          "output_type": "stream",
          "name": "stdout",
          "text": [
            "[2 3 4 5]\n"
          ]
        }
      ]
    },
    {
      "cell_type": "markdown",
      "metadata": {
        "id": "ghqluYgMYulG"
      },
      "source": [
        "Note: The result includes the start index, but excludes the end index.\n",
        "\n"
      ]
    },
    {
      "cell_type": "code",
      "source": [
        "# Slice elements from index 5 to the end of the array:\n",
        "\n",
        "print(arr[5:])\n"
      ],
      "metadata": {
        "colab": {
          "base_uri": "https://localhost:8080/"
        },
        "id": "zXEhs7yEZlrJ",
        "outputId": "2be6152a-882e-40f7-8009-d3eac14372dc"
      },
      "execution_count": 63,
      "outputs": [
        {
          "output_type": "stream",
          "name": "stdout",
          "text": [
            "[6]\n"
          ]
        }
      ]
    },
    {
      "cell_type": "code",
      "source": [
        "# Slice elements from the beginning to index 5 (not included):\n",
        "\n",
        "print(arr[:5])\n"
      ],
      "metadata": {
        "colab": {
          "base_uri": "https://localhost:8080/"
        },
        "id": "347Ww5JhZt7j",
        "outputId": "b1018ee5-e508-4c9f-e4b0-7572990470be"
      },
      "execution_count": 62,
      "outputs": [
        {
          "output_type": "stream",
          "name": "stdout",
          "text": [
            "[1 2 3 4 5]\n"
          ]
        }
      ]
    },
    {
      "cell_type": "markdown",
      "metadata": {
        "id": "_sk9yNamYulH"
      },
      "source": [
        "**STEP**\n",
        "\n",
        "Use the step value to determine the step of the slicing:"
      ]
    },
    {
      "cell_type": "code",
      "source": [
        " # Print every other element from index 1 to index 7:\n",
        "\n",
        "print(arr[1:7:2])\n"
      ],
      "metadata": {
        "colab": {
          "base_uri": "https://localhost:8080/"
        },
        "id": "3YQ9SUuCZ1p5",
        "outputId": "d1bad3ae-3bca-48ee-f5de-8e1695fd8732"
      },
      "execution_count": 64,
      "outputs": [
        {
          "output_type": "stream",
          "name": "stdout",
          "text": [
            "[2 4 6]\n"
          ]
        }
      ]
    },
    {
      "cell_type": "markdown",
      "metadata": {
        "id": "mpk1-Nd2YulH"
      },
      "source": [
        "Did you see? using step you were able to get alternate elements within specified index numbers."
      ]
    },
    {
      "cell_type": "code",
      "source": [
        " # Return every other element from the entire array arr:\n",
        "\n",
        "print(arr[::2])\n"
      ],
      "metadata": {
        "colab": {
          "base_uri": "https://localhost:8080/"
        },
        "id": "tyck3tFAZ5_R",
        "outputId": "b239b5af-3b2b-418c-d600-8d8d28f0df91"
      },
      "execution_count": 65,
      "outputs": [
        {
          "output_type": "stream",
          "name": "stdout",
          "text": [
            "[1 3 5]\n"
          ]
        }
      ]
    },
    {
      "cell_type": "markdown",
      "metadata": {
        "id": "d3m3TAVKYulH"
      },
      "source": [
        "well done!\n",
        "\n",
        "Lets do some slicing on 2-D array also. We already have 'a' as our 2-D array. We will use it here.\n",
        "\n",
        "**Array slicing in 2-D array.**"
      ]
    },
    {
      "cell_type": "code",
      "source": [
        " # Print array a\n",
        "\n",
        "print(a)\n"
      ],
      "metadata": {
        "colab": {
          "base_uri": "https://localhost:8080/"
        },
        "id": "NimPCWBFZ__K",
        "outputId": "10f8e2df-f3fc-48cb-8df7-d18476ee101f"
      },
      "execution_count": 66,
      "outputs": [
        {
          "output_type": "stream",
          "name": "stdout",
          "text": [
            "[[1 2 3]\n",
            " [4 5 6]\n",
            " [7 8 9]]\n"
          ]
        }
      ]
    },
    {
      "cell_type": "code",
      "source": [
        "# From the third element, slice elements from index 1 to index 5 (not included) from array 'a'\n",
        "\n",
        "print(a[2, 1:5])\n"
      ],
      "metadata": {
        "colab": {
          "base_uri": "https://localhost:8080/"
        },
        "id": "P0Mt-oLFaGxR",
        "outputId": "0b7ae5f2-6e5c-4089-b9f6-ab3a8c96b9e5"
      },
      "execution_count": 67,
      "outputs": [
        {
          "output_type": "stream",
          "name": "stdout",
          "text": [
            "[8 9]\n"
          ]
        }
      ]
    },
    {
      "cell_type": "code",
      "source": [
        "# prompt: # In array 'a' print index 2 from all the elements :\n",
        "\n",
        "print(a[:, 2])\n"
      ],
      "metadata": {
        "colab": {
          "base_uri": "https://localhost:8080/"
        },
        "id": "gIF1hFSraM7B",
        "outputId": "8a580baa-6bff-49d8-be42-9cf31aa3a143"
      },
      "execution_count": 68,
      "outputs": [
        {
          "output_type": "stream",
          "name": "stdout",
          "text": [
            "[3 6 9]\n"
          ]
        }
      ]
    },
    {
      "cell_type": "code",
      "source": [
        "# From all the elements in 'a', slice index 1 till end, this will return a 2-D array:\n",
        "\n",
        "print(a[1:,:])\n"
      ],
      "metadata": {
        "colab": {
          "base_uri": "https://localhost:8080/"
        },
        "id": "gZvrA2tGaTvp",
        "outputId": "ae48813a-69b5-40ac-9d84-96a6e2d8a1bf"
      },
      "execution_count": 69,
      "outputs": [
        {
          "output_type": "stream",
          "name": "stdout",
          "text": [
            "[[4 5 6]\n",
            " [7 8 9]]\n"
          ]
        }
      ]
    },
    {
      "cell_type": "markdown",
      "metadata": {
        "id": "3-YDc-LnYulI"
      },
      "source": [
        "Hurray! You have learned Slicing in Numpy array. Now you know to access any numpy array."
      ]
    },
    {
      "cell_type": "markdown",
      "metadata": {
        "id": "kCiQoJ7DYulI"
      },
      "source": [
        "## Numpy copy vs view"
      ]
    },
    {
      "cell_type": "code",
      "execution_count": 70,
      "metadata": {
        "id": "qMAPlnpnYulI"
      },
      "outputs": [],
      "source": [
        " #x1=\n",
        "\n"
      ]
    },
    {
      "cell_type": "code",
      "source": [
        "import numpy as np\n",
        "# Create a numpy array\n",
        "x1 = np.array([1, 2, 3, 4, 5])\n",
        "\n",
        "# Create a copy of x1 using copy() method\n",
        "x2 = x1.copy()\n",
        "\n",
        "# Create a view of x1 using view() method\n",
        "x3 = x1.view()\n",
        "\n",
        "# Modify x1\n",
        "x1[0] = 10\n",
        "\n",
        "# Print all the arrays\n",
        "print(\"x1:\", x1)\n",
        "print(\"x2:\", x2)\n",
        "print(\"x3:\", x3)\n"
      ],
      "metadata": {
        "colab": {
          "base_uri": "https://localhost:8080/"
        },
        "id": "J9kOO250akBZ",
        "outputId": "7cab1f46-a123-4804-a263-d6a16cca5948"
      },
      "execution_count": 72,
      "outputs": [
        {
          "output_type": "stream",
          "name": "stdout",
          "text": [
            "x1: [10  2  3  4  5]\n",
            "x2: [1 2 3 4 5]\n",
            "x3: [10  2  3  4  5]\n"
          ]
        }
      ]
    },
    {
      "cell_type": "code",
      "source": [
        "# assign x2 = x1\n",
        "\n",
        "x2 = x1\n"
      ],
      "metadata": {
        "id": "LCImOGSpa39F"
      },
      "execution_count": 73,
      "outputs": []
    },
    {
      "cell_type": "code",
      "source": [
        "#print x1 and x2\n",
        "\n",
        "print(\"x1:\", x1)\n",
        "print(\"x2:\", x2)\n"
      ],
      "metadata": {
        "colab": {
          "base_uri": "https://localhost:8080/"
        },
        "id": "UOL_xwDRa-Z9",
        "outputId": "44efda30-b580-4ac8-dcac-84682e6fc8e1"
      },
      "execution_count": 74,
      "outputs": [
        {
          "output_type": "stream",
          "name": "stdout",
          "text": [
            "x1: [10  2  3  4  5]\n",
            "x2: [10  2  3  4  5]\n"
          ]
        }
      ]
    },
    {
      "cell_type": "markdown",
      "metadata": {
        "id": "CAOn1lSVYulI"
      },
      "source": [
        "Ok now you have seen that both of them are same"
      ]
    },
    {
      "cell_type": "code",
      "source": [
        "# change 1st element of x2 as 10\n",
        "\n",
        "x2[0] = 10\n"
      ],
      "metadata": {
        "id": "UTYXxzRXbEsR"
      },
      "execution_count": 75,
      "outputs": []
    },
    {
      "cell_type": "code",
      "source": [
        "#Again print x1 and x2\n",
        "\n",
        "print(\"x1:\", x1)\n",
        "print(\"x2:\", x2)\n"
      ],
      "metadata": {
        "colab": {
          "base_uri": "https://localhost:8080/"
        },
        "id": "wTIWFYRhbNpx",
        "outputId": "cce0b6c6-53db-4f47-f8c9-208eceaa5ba4"
      },
      "execution_count": 76,
      "outputs": [
        {
          "output_type": "stream",
          "name": "stdout",
          "text": [
            "x1: [10  2  3  4  5]\n",
            "x2: [10  2  3  4  5]\n"
          ]
        }
      ]
    },
    {
      "cell_type": "code",
      "source": [
        "# Check memory share between x1 and x2\n",
        "\n",
        "print(f\"Memory share between x1 and x2: {x1.base is x2.base}\")\n"
      ],
      "metadata": {
        "colab": {
          "base_uri": "https://localhost:8080/"
        },
        "id": "btK5G0izbS5Y",
        "outputId": "eb5b3c0f-dbbe-408a-a174-e86225083c33"
      },
      "execution_count": 77,
      "outputs": [
        {
          "output_type": "stream",
          "name": "stdout",
          "text": [
            "Memory share between x1 and x2: True\n"
          ]
        }
      ]
    },
    {
      "cell_type": "markdown",
      "metadata": {
        "id": "8FfiAWw_YulJ"
      },
      "source": [
        "Hey It's True they both share memory\n",
        "\n",
        "Shall we try **view()** function also likwise."
      ]
    },
    {
      "cell_type": "code",
      "source": [
        "# Create a view of x1 and store it in x3.\n",
        "# # x3 =\n",
        "\n",
        "x3 = x1.view()\n"
      ],
      "metadata": {
        "id": "K1k98CCTdQ75"
      },
      "execution_count": 78,
      "outputs": []
    },
    {
      "cell_type": "code",
      "source": [
        "# Again check memory share between x1 and x3\n",
        "\n",
        "print(f\"Memory share between x1 and x3: {x1.base is x3.base}\")\n"
      ],
      "metadata": {
        "colab": {
          "base_uri": "https://localhost:8080/"
        },
        "id": "uiwCWpUEdXGZ",
        "outputId": "a65257eb-4e76-42f3-f9f8-58772248c6e7"
      },
      "execution_count": 79,
      "outputs": [
        {
          "output_type": "stream",
          "name": "stdout",
          "text": [
            "Memory share between x1 and x3: False\n"
          ]
        }
      ]
    },
    {
      "cell_type": "markdown",
      "metadata": {
        "id": "vkE_1h-5YulJ"
      },
      "source": [
        "Woh! simple assignment is similar to view. That means\n",
        "The view does not own the data and any changes made to the view will affect the original array, and any changes made to the original array will affect the view.\n",
        "\n",
        "Don't agree? ok lets change x3 and see if original array i.e. x1 also changes"
      ]
    },
    {
      "cell_type": "code",
      "source": [
        "#Change 1st element of x3=100\n",
        "\n",
        "x3[0] = 100\n"
      ],
      "metadata": {
        "id": "-676hvm5d4-R"
      },
      "execution_count": 81,
      "outputs": []
    },
    {
      "cell_type": "code",
      "source": [
        "#print x1 and x3 to check if changes reflected in both\n",
        "\n",
        "print(\"x1:\", x1)\n",
        "print(\"x3:\", x3)\n"
      ],
      "metadata": {
        "colab": {
          "base_uri": "https://localhost:8080/"
        },
        "id": "A1XDnAXZd9ni",
        "outputId": "d84ed6d9-3b79-4531-c38f-a5cad48c1231"
      },
      "execution_count": 82,
      "outputs": [
        {
          "output_type": "stream",
          "name": "stdout",
          "text": [
            "x1: [100   2   3   4   5]\n",
            "x3: [100   2   3   4   5]\n"
          ]
        }
      ]
    },
    {
      "cell_type": "markdown",
      "metadata": {
        "id": "aPgZUErOYulK"
      },
      "source": [
        "Now its proved.\n",
        "\n",
        "Lets see how **Copy()** function works"
      ]
    },
    {
      "cell_type": "code",
      "source": [
        "# Now create an array x4 which is copy of x1\n",
        "# # x4=\n",
        "\n",
        "x4 = x1.copy()\n"
      ],
      "metadata": {
        "id": "4ZXeyWC0eE0B"
      },
      "execution_count": 83,
      "outputs": []
    },
    {
      "cell_type": "code",
      "source": [
        "# Change the last element of x4 as 900\n",
        "\n",
        "x4[-1] = 900\n"
      ],
      "metadata": {
        "id": "HHPncHIteI26"
      },
      "execution_count": 84,
      "outputs": []
    },
    {
      "cell_type": "code",
      "source": [
        "# print both x1 and x4 to check if changes reflected in both\n",
        "\n",
        "print(\"x1:\", x1)\n",
        "print(\"x4:\", x4)\n"
      ],
      "metadata": {
        "colab": {
          "base_uri": "https://localhost:8080/"
        },
        "id": "tanqcMQieNuD",
        "outputId": "59d0e976-46d5-4107-9a64-7e5b8495c382"
      },
      "execution_count": 85,
      "outputs": [
        {
          "output_type": "stream",
          "name": "stdout",
          "text": [
            "x1: [100   2   3   4   5]\n",
            "x4: [100   2   3   4 900]\n"
          ]
        }
      ]
    },
    {
      "cell_type": "markdown",
      "metadata": {
        "id": "uMfFQMlNYulK"
      },
      "source": [
        "Hey! such an intresting output. You noticed buddy! your original array didn't get changed on change of its copy ie. x4.\n",
        "\n",
        "Still not convinced? Ok lets see if they both share memory or not"
      ]
    },
    {
      "cell_type": "code",
      "source": [
        " # Check memory share between x1 and x4\n",
        "\n",
        "print(\"Memory share between x1 and x4: {x1.base is x4.base}\")\n"
      ],
      "metadata": {
        "colab": {
          "base_uri": "https://localhost:8080/"
        },
        "id": "S6tKlKg4eUFy",
        "outputId": "075896f7-28d8-49b7-f535-d1b5ba038516"
      },
      "execution_count": 86,
      "outputs": [
        {
          "output_type": "stream",
          "name": "stdout",
          "text": [
            "Memory share between x1 and x4: {x1.base is x4.base}\n"
          ]
        }
      ]
    },
    {
      "cell_type": "markdown",
      "metadata": {
        "id": "1vgtMyk8YulM"
      },
      "source": [
        "**hstack vs vstack function**\n",
        "\n",
        "\n",
        "Stacking is same as concatenation, the only difference is that stacking is done along a new axis.\n",
        "\n",
        "NumPy provides a helper function:\n",
        "\n",
        "1. hstack() to stack along rows.\n",
        "2. vstack()  to stack along columns"
      ]
    },
    {
      "cell_type": "code",
      "source": [
        "# stack x1 and x4 along columns.\n",
        "\n",
        "import numpy as np\n",
        "\n",
        "x1 = np.array([1, 2, 3, 4, 5])\n",
        "x4 = np.array([100, 200, 300, 400, 900])\n",
        "\n",
        "# Stack x1 and x4 along columns\n",
        "stacked_array = np.hstack((x1, x4))\n",
        "\n",
        "# Print the stacked array\n",
        "print(stacked_array)\n"
      ],
      "metadata": {
        "colab": {
          "base_uri": "https://localhost:8080/"
        },
        "id": "Oa36sRRpfiWy",
        "outputId": "557c4f37-6708-4317-ce48-57126f0385c0"
      },
      "execution_count": 87,
      "outputs": [
        {
          "output_type": "stream",
          "name": "stdout",
          "text": [
            "[  1   2   3   4   5 100 200 300 400 900]\n"
          ]
        }
      ]
    },
    {
      "cell_type": "code",
      "source": [
        "#stack x1 and x4 along rows\n",
        "\n",
        "import numpy as np\n",
        "x_stacked = np.hstack((x1, x4))\n",
        "print(x_stacked)\n"
      ],
      "metadata": {
        "colab": {
          "base_uri": "https://localhost:8080/"
        },
        "id": "vxSGj1jXf2jX",
        "outputId": "6ff5830d-368a-4e7e-d8c5-2f9dd7d90e8a"
      },
      "execution_count": 88,
      "outputs": [
        {
          "output_type": "stream",
          "name": "stdout",
          "text": [
            "[  1   2   3   4   5 100 200 300 400 900]\n"
          ]
        }
      ]
    },
    {
      "cell_type": "markdown",
      "metadata": {
        "id": "YJD_N7B_YulM"
      },
      "source": [
        "We hope now you saw the difference between them.\n",
        "\n",
        "Fun fact! you can even use concatenate() function to join 2 arrays along with the axis. If axis is not explicitly passed, it is taken as 0 ie. along column\n",
        "\n",
        "Lets try this function as well"
      ]
    },
    {
      "cell_type": "code",
      "source": [
        "# arr1 =\n",
        "# # arr2 =\n",
        "# ##join arr1 and arr2 along rows using concatenate() function\n",
        "\n",
        "import numpy as np\n",
        "arr1 = np.array([1, 2, 3])\n",
        "arr2 = np.array([4, 5, 6])\n",
        "\n",
        "joined_array = np.concatenate((arr1, arr2), axis=0)\n",
        "print(joined_array)"
      ],
      "metadata": {
        "colab": {
          "base_uri": "https://localhost:8080/"
        },
        "id": "yNB8P_Gyi0-u",
        "outputId": "80e0fcf0-d702-4689-948e-f764c8aea1d8"
      },
      "execution_count": 91,
      "outputs": [
        {
          "output_type": "stream",
          "name": "stdout",
          "text": [
            "[1 2 3 4 5 6]\n"
          ]
        }
      ]
    },
    {
      "cell_type": "markdown",
      "metadata": {
        "id": "WKy9Lu4vYulN"
      },
      "source": [
        "## Adding, Insert and delete Numpy array"
      ]
    },
    {
      "cell_type": "markdown",
      "metadata": {
        "id": "_W4bZ70AYulN"
      },
      "source": [
        "You can also add 2 arrays using append() function also. This function appends values to end of array\n",
        "\n",
        "Lets see how"
      ]
    },
    {
      "cell_type": "code",
      "source": [
        "# append arr2 to arr1\n",
        "\n",
        "import numpy as np\n",
        "arr1 = np.array([1, 2, 3])\n",
        "arr2 = np.array([4, 5, 6])\n",
        "\n",
        "arr1 = np.append(arr1, arr2)\n",
        "print(arr1)\n"
      ],
      "metadata": {
        "colab": {
          "base_uri": "https://localhost:8080/"
        },
        "id": "4oRIEQbjkM2R",
        "outputId": "4e3d1f6d-5865-4dbd-ecb1-1446cc65613c"
      },
      "execution_count": 92,
      "outputs": [
        {
          "output_type": "stream",
          "name": "stdout",
          "text": [
            "[1 2 3 4 5 6]\n"
          ]
        }
      ]
    },
    {
      "cell_type": "markdown",
      "metadata": {
        "id": "Jb4EPxL4YulN"
      },
      "source": [
        "Lets use insert() function which Inserts values into array before specified index value"
      ]
    },
    {
      "cell_type": "code",
      "source": [
        "# Inserts values into array x1 before index 4 with elements of x4\n",
        "\n",
        "import numpy as np\n",
        "x1 = np.array([1, 2, 3, 5, 6])\n",
        "x4 = np.array([100, 200, 300, 400, 900])\n",
        "\n",
        "x1 = np.insert(x1, 4, x4)\n",
        "print(x1)\n"
      ],
      "metadata": {
        "colab": {
          "base_uri": "https://localhost:8080/"
        },
        "id": "NwdCPfFWkYKp",
        "outputId": "668099e7-5800-4caa-9509-9fdb11a4bae2"
      },
      "execution_count": 93,
      "outputs": [
        {
          "output_type": "stream",
          "name": "stdout",
          "text": [
            "[  1   2   3   5 100 200 300 400 900   6]\n"
          ]
        }
      ]
    },
    {
      "cell_type": "markdown",
      "metadata": {
        "id": "uTDcvWAPYulN"
      },
      "source": [
        "You can see in above output we have inserted all the elements of x4 before index 4 in array x1."
      ]
    },
    {
      "cell_type": "code",
      "source": [
        "# delete 2nd element from array x2\n",
        "\n",
        "import numpy as np\n",
        "x2 = np.array([1, 2, 3, 4, 5])\n",
        "\n",
        "# Delete the second element from the array using the np.delete() function\n",
        "x2 = np.delete(x2, 1)\n",
        "\n",
        "# Print the modified array\n",
        "print(x2)\n"
      ],
      "metadata": {
        "colab": {
          "base_uri": "https://localhost:8080/"
        },
        "id": "Ox8zGlWNkgTy",
        "outputId": "9a71fe2a-79a7-418d-fc90-9590e7048059"
      },
      "execution_count": 94,
      "outputs": [
        {
          "output_type": "stream",
          "name": "stdout",
          "text": [
            "[1 3 4 5]\n"
          ]
        }
      ]
    },
    {
      "cell_type": "markdown",
      "metadata": {
        "id": "HcSC-kfxYulO"
      },
      "source": [
        "Did you see? 2 value is deleted from x2 which was at index position 2"
      ]
    },
    {
      "cell_type": "markdown",
      "metadata": {
        "id": "3XDGaMkZYulS"
      },
      "source": [
        "Good Job learner!"
      ]
    },
    {
      "cell_type": "code",
      "source": [
        "print(\"x2:\", x2)\n"
      ],
      "metadata": {
        "id": "CSpHyauaC9Y4",
        "colab": {
          "base_uri": "https://localhost:8080/"
        },
        "outputId": "f610032d-d2a8-42e1-c71a-1ff5376c2f22"
      },
      "execution_count": 96,
      "outputs": [
        {
          "output_type": "stream",
          "name": "stdout",
          "text": [
            "x2: [1 3 4 5]\n"
          ]
        }
      ]
    },
    {
      "cell_type": "code",
      "source": [
        "print(\"Thanks & Regards\\nMehraj Shah\\n9622436070\")\n"
      ],
      "metadata": {
        "colab": {
          "base_uri": "https://localhost:8080/"
        },
        "id": "TRz3xee_k5Kx",
        "outputId": "e5f9e4b9-ad7d-4c56-c76c-30f67b8ddce2"
      },
      "execution_count": 97,
      "outputs": [
        {
          "output_type": "stream",
          "name": "stdout",
          "text": [
            "Thanks & Regards\n",
            "Mehraj Shah\n",
            "9622436070\n"
          ]
        }
      ]
    }
  ],
  "metadata": {
    "kernelspec": {
      "display_name": "Python 3",
      "language": "python",
      "name": "python3"
    },
    "language_info": {
      "codemirror_mode": {
        "name": "ipython",
        "version": 3
      },
      "file_extension": ".py",
      "mimetype": "text/x-python",
      "name": "python",
      "nbconvert_exporter": "python",
      "pygments_lexer": "ipython3",
      "version": "3.8.5"
    },
    "colab": {
      "provenance": [],
      "include_colab_link": true
    }
  },
  "nbformat": 4,
  "nbformat_minor": 0
}