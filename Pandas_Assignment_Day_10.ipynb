{
  "cells": [
    {
      "cell_type": "markdown",
      "metadata": {
        "id": "view-in-github",
        "colab_type": "text"
      },
      "source": [
        "<a href=\"https://colab.research.google.com/github/MehrajShah/PYTHON/blob/main/Pandas_Assignment_Day_10.ipynb\" target=\"_parent\"><img src=\"https://colab.research.google.com/assets/colab-badge.svg\" alt=\"Open In Colab\"/></a>"
      ]
    },
    {
      "cell_type": "markdown",
      "metadata": {
        "id": "XHvoVqK5mYA-"
      },
      "source": [
        "# <center>Pandas Assignment</center>"
      ],
      "id": "XHvoVqK5mYA-"
    },
    {
      "cell_type": "markdown",
      "metadata": {
        "id": "v9Qb2_aumYBF"
      },
      "source": [
        "Import pandas and numpy with their aliases"
      ],
      "id": "v9Qb2_aumYBF"
    },
    {
      "cell_type": "code",
      "source": [
        "# Import pandas and numpy with their aliases\n",
        "\n",
        "import pandas as pd\n",
        "import numpy as np\n",
        "\n",
        "# Define the variable Q\n",
        "Q = 'some_value'\n",
        "\n",
        "# Create the DataFrame\n",
        "data = pd.DataFrame({\n",
        "    'a' : ['100', '200', '300', '400'],\n",
        "    'b' : [Q, 'W', 'E', 'R'],\n",
        "    'c' : ['KUPWARA', 'BARAMULLA', 'SRINAGAR', 'BANDIPORA'],\n",
        "})\n"
      ],
      "metadata": {
        "id": "qqbd2O4IDwTj"
      },
      "id": "qqbd2O4IDwTj",
      "execution_count": 15,
      "outputs": []
    },
    {
      "cell_type": "markdown",
      "metadata": {
        "id": "0b8hUBhTmYBG"
      },
      "source": [
        "Create a variable a = pd.Series([ 100, 200, 300, 400])"
      ],
      "id": "0b8hUBhTmYBG"
    },
    {
      "cell_type": "code",
      "source": [
        "# Create a variable a = pd.Series([ 100, 200, 300, 400])\n",
        "\n",
        "import pandas as pd\n",
        "import numpy as np\n",
        "\n",
        "a = pd.Series([100, 200, 300, 400])\n"
      ],
      "metadata": {
        "id": "hNiE4YrEEJK1"
      },
      "id": "hNiE4YrEEJK1",
      "execution_count": 19,
      "outputs": []
    },
    {
      "cell_type": "code",
      "execution_count": 9,
      "metadata": {
        "id": "hzvzkbNYmYBH"
      },
      "outputs": [],
      "source": [
        "a = None\n"
      ],
      "id": "hzvzkbNYmYBH"
    },
    {
      "cell_type": "markdown",
      "metadata": {
        "id": "BSyNFbitmYBH"
      },
      "source": [
        "Print a, and data type"
      ],
      "id": "BSyNFbitmYBH"
    },
    {
      "cell_type": "code",
      "source": [
        "#  Print a, and data type\n",
        "\n",
        "print(a)\n",
        "print(type(a))\n"
      ],
      "metadata": {
        "colab": {
          "base_uri": "https://localhost:8080/"
        },
        "id": "hzgzd6TkEtrc",
        "outputId": "156f28c5-2087-4b7d-f6ed-387940148ed5"
      },
      "id": "hzgzd6TkEtrc",
      "execution_count": 20,
      "outputs": [
        {
          "output_type": "stream",
          "name": "stdout",
          "text": [
            "0    100\n",
            "1    200\n",
            "2    300\n",
            "3    400\n",
            "dtype: int64\n",
            "<class 'pandas.core.series.Series'>\n"
          ]
        }
      ]
    },
    {
      "cell_type": "markdown",
      "metadata": {
        "id": "z0FryxOXmYBI"
      },
      "source": [
        "Using indexing access the element 300 from the series a."
      ],
      "id": "z0FryxOXmYBI"
    },
    {
      "cell_type": "code",
      "source": [
        "#Using indexing access the element 300 from the series a.\n",
        "\n",
        "print(a[2])\n"
      ],
      "metadata": {
        "colab": {
          "base_uri": "https://localhost:8080/"
        },
        "id": "TJvj5RViFVxb",
        "outputId": "0d559cea-5054-4398-bbfa-b0dddb1092c6"
      },
      "id": "TJvj5RViFVxb",
      "execution_count": 21,
      "outputs": [
        {
          "output_type": "stream",
          "name": "stdout",
          "text": [
            "300\n"
          ]
        }
      ]
    },
    {
      "cell_type": "markdown",
      "metadata": {
        "id": "HHEKyOtemYBJ"
      },
      "source": [
        "What are the values of index for series a?"
      ],
      "id": "HHEKyOtemYBJ"
    },
    {
      "cell_type": "code",
      "source": [
        "# What are the values of index for series a?\n",
        "\n",
        "print(a.index)\n"
      ],
      "metadata": {
        "id": "TjL59MxOIRdr",
        "outputId": "7ab8f9fb-d5d4-40fa-949a-62370617f673",
        "colab": {
          "base_uri": "https://localhost:8080/"
        }
      },
      "id": "TjL59MxOIRdr",
      "execution_count": 23,
      "outputs": [
        {
          "output_type": "stream",
          "name": "stdout",
          "text": [
            "RangeIndex(start=0, stop=4, step=1)\n"
          ]
        }
      ]
    },
    {
      "cell_type": "markdown",
      "metadata": {
        "id": "EuFjG74wmYBJ"
      },
      "source": [
        "Change the index to  ['c', 'a', 'b', 'd']"
      ],
      "id": "EuFjG74wmYBJ"
    },
    {
      "cell_type": "code",
      "source": [
        "#  Change the index to ['c', 'a', 'b', 'd']\n",
        "\n",
        "a.index = ['c', 'a', 'b', 'd']\n"
      ],
      "metadata": {
        "id": "Ou0v0wHGIrIT"
      },
      "id": "Ou0v0wHGIrIT",
      "execution_count": 25,
      "outputs": []
    },
    {
      "cell_type": "markdown",
      "metadata": {
        "id": "ZdZLyRO7mYBK"
      },
      "source": [
        "Access the value in the series with index 'd'"
      ],
      "id": "ZdZLyRO7mYBK"
    },
    {
      "cell_type": "code",
      "source": [
        "# Access the value in the series with index 'd'\n",
        "\n",
        "print(a['d'])\n"
      ],
      "metadata": {
        "id": "C4IHehf7I2F6"
      },
      "id": "C4IHehf7I2F6",
      "execution_count": null,
      "outputs": []
    },
    {
      "cell_type": "markdown",
      "metadata": {
        "id": "g-fXVSK2mYBL"
      },
      "source": [
        "Create a new Pandas Series b having index as 'e', 'f', and 'g' and value 800,450,100 and print it"
      ],
      "id": "g-fXVSK2mYBL"
    },
    {
      "cell_type": "code",
      "source": [
        "# Create a new Pandas Series b having index as 'e', 'f', and 'g' and value 800,450,100 and print it\n",
        "\n",
        "import pandas as pd\n",
        "b = pd.Series([800, 450, 100], index=['e', 'f', 'g'])\n",
        "print(b)\n"
      ],
      "metadata": {
        "id": "HWw7SbAsJAGb",
        "outputId": "2f0a30cd-e05e-4474-8a90-3f797d697c45",
        "colab": {
          "base_uri": "https://localhost:8080/"
        }
      },
      "id": "HWw7SbAsJAGb",
      "execution_count": 27,
      "outputs": [
        {
          "output_type": "stream",
          "name": "stdout",
          "text": [
            "e    800\n",
            "f    450\n",
            "g    100\n",
            "dtype: int64\n"
          ]
        }
      ]
    },
    {
      "cell_type": "code",
      "execution_count": 30,
      "metadata": {
        "id": "fAg_rI3hmYBL"
      },
      "outputs": [],
      "source": [
        "b = None\n",
        "\n",
        "\n"
      ],
      "id": "fAg_rI3hmYBL"
    },
    {
      "cell_type": "markdown",
      "metadata": {
        "id": "jWhRRtF1mYBL"
      },
      "source": [
        "Append b series at the end of a series"
      ],
      "id": "jWhRRtF1mYBL"
    },
    {
      "cell_type": "code",
      "source": [
        "# prompt: Append b series at the end of a series\n",
        "\n",
        "import pandas as pd\n",
        "a = pd.Series([100, 200, 300, 400], index=['c', 'a', 'b', 'd'])\n",
        "b = pd.Series([800, 450, 100], index=['e', 'f', 'g'])\n",
        "\n",
        "a = a.append(b)\n",
        "print(a)\n"
      ],
      "metadata": {
        "id": "XwmWmYFYJUbK",
        "outputId": "f2fb3942-5c95-4a46-8285-2566bf8a897d",
        "colab": {
          "base_uri": "https://localhost:8080/"
        }
      },
      "id": "XwmWmYFYJUbK",
      "execution_count": 31,
      "outputs": [
        {
          "output_type": "stream",
          "name": "stdout",
          "text": [
            "c    100\n",
            "a    200\n",
            "b    300\n",
            "d    400\n",
            "e    800\n",
            "f    450\n",
            "g    100\n",
            "dtype: int64\n"
          ]
        },
        {
          "output_type": "stream",
          "name": "stderr",
          "text": [
            "<ipython-input-31-8be24d3d7661>:7: FutureWarning: The series.append method is deprecated and will be removed from pandas in a future version. Use pandas.concat instead.\n",
            "  a = a.append(b)\n"
          ]
        }
      ]
    },
    {
      "cell_type": "code",
      "execution_count": 35,
      "metadata": {
        "id": "TBV8hkRXmYBL"
      },
      "outputs": [],
      "source": [
        "a = None"
      ],
      "id": "TBV8hkRXmYBL"
    },
    {
      "cell_type": "code",
      "source": [
        "# print a again after appending b into it\n",
        "\n",
        "print(a)\n"
      ],
      "metadata": {
        "id": "fC7-pRQjJoHq",
        "outputId": "cf42547f-be80-42d4-e9a4-c0509e94ad08",
        "colab": {
          "base_uri": "https://localhost:8080/"
        }
      },
      "id": "fC7-pRQjJoHq",
      "execution_count": 39,
      "outputs": [
        {
          "output_type": "stream",
          "name": "stdout",
          "text": [
            "None\n"
          ]
        }
      ]
    },
    {
      "cell_type": "code",
      "execution_count": null,
      "metadata": {
        "id": "9OxmwQRAmYBM"
      },
      "outputs": [],
      "source": [
        "\n",
        "\n"
      ],
      "id": "9OxmwQRAmYBM"
    },
    {
      "cell_type": "markdown",
      "metadata": {
        "id": "OQ5gj4romYBM"
      },
      "source": [
        "## Pandas DataFrame"
      ],
      "id": "OQ5gj4romYBM"
    },
    {
      "cell_type": "markdown",
      "metadata": {
        "id": "tD7de_2amYBM"
      },
      "source": [
        "### Part 1"
      ],
      "id": "tD7de_2amYBM"
    },
    {
      "cell_type": "markdown",
      "metadata": {
        "id": "z_nAQa4BmYBN"
      },
      "source": [
        "Create a pandas dataframe df from the series 'a' that we used in the last section, print the dataframe"
      ],
      "id": "z_nAQa4BmYBN"
    },
    {
      "cell_type": "code",
      "source": [
        "# Create a pandas dataframe df from the series 'a' that we used in the last section, print the dataframe\n",
        "\n",
        "import pandas as pd\n",
        "a = pd.Series([100, 200, 300, 400], index=['c', 'a', 'b', 'd'])\n",
        "df = pd.DataFrame(a)\n",
        "print(df)\n"
      ],
      "metadata": {
        "id": "JhSLiPwTOzW0",
        "outputId": "0a292d71-4bf9-4759-c002-0ac5b315e76f",
        "colab": {
          "base_uri": "https://localhost:8080/"
        }
      },
      "id": "JhSLiPwTOzW0",
      "execution_count": 50,
      "outputs": [
        {
          "output_type": "stream",
          "name": "stdout",
          "text": [
            "     0\n",
            "c  100\n",
            "a  200\n",
            "b  300\n",
            "d  400\n"
          ]
        }
      ]
    },
    {
      "cell_type": "code",
      "execution_count": 53,
      "metadata": {
        "id": "ojD-B6FvmYBN"
      },
      "outputs": [],
      "source": [
        "df = pd.DataFrame()\n",
        "\n",
        "\n"
      ],
      "id": "ojD-B6FvmYBN"
    },
    {
      "cell_type": "markdown",
      "metadata": {
        "id": "yzrIH3irmYBN"
      },
      "source": [
        "What is the shape of the datafarme <br>\n",
        "(also, what does it imply?)"
      ],
      "id": "yzrIH3irmYBN"
    },
    {
      "cell_type": "code",
      "source": [
        "# What is the shape of the datafarme\n",
        "# (also, what does it imply?)\n",
        "\n",
        "print(df.shape)\n",
        "\n",
        "# (4, 1)\n",
        "\n",
        "# This means that the DataFrame has 4 rows and 1 column.\n"
      ],
      "metadata": {
        "id": "9Vt0T5LxQMps",
        "outputId": "ce29c560-4623-4bc6-c105-f49aec63f691",
        "colab": {
          "base_uri": "https://localhost:8080/"
        }
      },
      "id": "9Vt0T5LxQMps",
      "execution_count": 56,
      "outputs": [
        {
          "output_type": "stream",
          "name": "stdout",
          "text": [
            "(4, 1)\n"
          ]
        }
      ]
    },
    {
      "cell_type": "markdown",
      "metadata": {
        "id": "Dl0Hr0LSmYBO"
      },
      "source": [
        "Hey! remember shape (7,1) implies dataframe has 7 rows and 1 column."
      ],
      "id": "Dl0Hr0LSmYBO"
    },
    {
      "cell_type": "code",
      "source": [
        "# Hey! remember shape (7,1) implies dataframe has 7 rows and 1 column.\n",
        "\n",
        "# Yes, that's correct. A shape of (7, 1) implies that the DataFrame has 7 rows and 1 column.\n",
        "\n",
        "# Here's an example to illustrate:\n",
        "\n",
        "import pandas as pd\n",
        "\n",
        "# Create a DataFrame with 7 rows and 1 column\n",
        "df = pd.DataFrame({'column1': [1, 2, 3, 4, 5, 6, 7]})\n",
        "\n",
        "# Print the shape of the DataFrame\n",
        "print(df.shape)\n",
        "\n",
        "# Output:\n",
        "# (7, 1)\n",
        "\n",
        "# This means that the DataFrame has 7 rows and 1 column.\n"
      ],
      "metadata": {
        "id": "AlqW30kLQSfb",
        "outputId": "f3a4fd83-1f1b-464c-b5f5-9b76057fad57",
        "colab": {
          "base_uri": "https://localhost:8080/"
        }
      },
      "id": "AlqW30kLQSfb",
      "execution_count": 57,
      "outputs": [
        {
          "output_type": "stream",
          "name": "stdout",
          "text": [
            "(7, 1)\n"
          ]
        }
      ]
    },
    {
      "cell_type": "markdown",
      "metadata": {
        "id": "hwcaXl43mYBO"
      },
      "source": [
        "What is the index of the dataframe, is it same as the series 'a'"
      ],
      "id": "hwcaXl43mYBO"
    },
    {
      "cell_type": "code",
      "source": [
        "# What is the index of the dataframe, is it same as the series 'a'\n",
        "\n",
        "print(df.index)\n",
        "\n",
        "# Output:\n",
        "# Index(['c', 'a', 'b', 'd'], dtype='object')\n",
        "\n",
        "# Yes, the index of the dataframe is the same as the series 'a'.\n",
        "\n",
        "# When you create a DataFrame from a Series, the index of the Series is used as the index of the DataFrame.\n",
        "\n",
        "# This is because the index of a Series is a fundamental property of the Series, and it is important to preserve this information when converting the Series to a DataFrame.\n"
      ],
      "metadata": {
        "id": "9gyWgSmQQajf",
        "outputId": "c4177a98-ac8b-45eb-e1b6-83915db47c2f",
        "colab": {
          "base_uri": "https://localhost:8080/"
        }
      },
      "id": "9gyWgSmQQajf",
      "execution_count": 58,
      "outputs": [
        {
          "output_type": "stream",
          "name": "stdout",
          "text": [
            "RangeIndex(start=0, stop=7, step=1)\n"
          ]
        }
      ]
    },
    {
      "cell_type": "markdown",
      "metadata": {
        "id": "C5wadnBymYBO"
      },
      "source": [
        "print the head and tail of the dataframe. <br>\n",
        "Additional - (what does head and tali represent?)"
      ],
      "id": "C5wadnBymYBO"
    },
    {
      "cell_type": "code",
      "source": [
        "# print the head and tail of the dataframe.\n",
        "# Additional - (what does head and tali represent?)\n",
        "\n",
        "print(df.head())\n",
        "\n",
        "print(df.tail())\n",
        "\n",
        "# Head and tail represent the first and last few rows of the DataFrame, respectively.\n",
        "\n",
        "# By default, head() displays the first 5 rows of the DataFrame, while tail() displays the last 5 rows.\n",
        "\n",
        "# You can also specify the number of rows to display by passing an argument to head() or tail(). For example, df.head(3) will display the first 3 rows of the DataFrame, while df.tail(2) will display the last 2 rows.\n"
      ],
      "metadata": {
        "id": "2IwHd_bBQrjD",
        "outputId": "2c9110d9-edfc-43a7-839e-d5d198d40c71",
        "colab": {
          "base_uri": "https://localhost:8080/"
        }
      },
      "id": "2IwHd_bBQrjD",
      "execution_count": 59,
      "outputs": [
        {
          "output_type": "stream",
          "name": "stdout",
          "text": [
            "   column1\n",
            "0        1\n",
            "1        2\n",
            "2        3\n",
            "3        4\n",
            "4        5\n",
            "   column1\n",
            "2        3\n",
            "3        4\n",
            "4        5\n",
            "5        6\n",
            "6        7\n"
          ]
        }
      ]
    },
    {
      "cell_type": "markdown",
      "metadata": {
        "id": "Ci2tiwbBmYBO"
      },
      "source": [
        "Rename the column of the dataframe as 'points'"
      ],
      "id": "Ci2tiwbBmYBO"
    },
    {
      "cell_type": "code",
      "source": [
        "# prompt: Rename the column of the dataframe as 'points'\n",
        "\n",
        "df.columns = ['points']\n"
      ],
      "metadata": {
        "id": "nNed0FvKQ756"
      },
      "id": "nNed0FvKQ756",
      "execution_count": 61,
      "outputs": []
    },
    {
      "cell_type": "markdown",
      "metadata": {
        "id": "bBV0VfzzmYBP"
      },
      "source": [
        "Create another Series 'fruits', which contains random names of fruits from ['orange','mango','apple']. The series should contain 7 elements, randomly selected from ['orange','mango','apple']"
      ],
      "id": "bBV0VfzzmYBP"
    },
    {
      "cell_type": "code",
      "source": [
        "# Create another Series 'fruits', which contains random names of fruits from ['orange','mango','apple']. The series should contain 7 elements, randomly selected from ['orange','mango','apple']\n",
        "\n",
        "import pandas as pd\n",
        "import numpy as np\n",
        "fruits = pd.Series(np.random.choice(['orange', 'mango', 'apple'], size=7))\n"
      ],
      "metadata": {
        "id": "aAClIilRReZb"
      },
      "id": "aAClIilRReZb",
      "execution_count": 63,
      "outputs": []
    },
    {
      "cell_type": "code",
      "execution_count": 72,
      "metadata": {
        "id": "baUmpsuhmYBP"
      },
      "outputs": [],
      "source": [
        "#Create fruits array\n",
        "import numpy as np\n",
        "fruits = np.random.choice(['orange', 'mango', 'apple'], size=7)\n",
        "\n",
        "fruits = []\n",
        "\n"
      ],
      "id": "baUmpsuhmYBP"
    },
    {
      "cell_type": "markdown",
      "metadata": {
        "id": "oPv8dJ_2mYBQ"
      },
      "source": [
        "Add this fruits series as a new column to the dataframe df with its column name as 'fruits'\n",
        "<br>print the head of the dataframe to verify"
      ],
      "id": "oPv8dJ_2mYBQ"
    },
    {
      "cell_type": "code",
      "source": [
        "#  Add this fruits series as a new column to the dataframe df with its column name as 'fruits'\n",
        "# print the head of the dataframe to verify\n",
        "\n",
        "df['fruits'] = fruits\n",
        "print(df.head())\n"
      ],
      "metadata": {
        "id": "s8Q5GmLeSrMb",
        "outputId": "915a0040-4e3e-40d3-a3f5-ea1ce62700de",
        "colab": {
          "base_uri": "https://localhost:8080/"
        }
      },
      "id": "s8Q5GmLeSrMb",
      "execution_count": 75,
      "outputs": [
        {
          "output_type": "stream",
          "name": "stdout",
          "text": [
            "   points      0      1      2 fruits\n",
            "0   100.0    NaN    NaN    NaN  mango\n",
            "1   200.0    NaN    NaN    NaN  apple\n",
            "2   300.0    NaN    NaN    NaN  mango\n",
            "3   400.0    NaN    NaN    NaN  apple\n",
            "4     NaN  100.0  200.0  300.0  mango\n"
          ]
        }
      ]
    },
    {
      "cell_type": "markdown",
      "metadata": {
        "id": "ACsvenslmYBQ"
      },
      "source": [
        "## Pandas Concatenation"
      ],
      "id": "ACsvenslmYBQ"
    },
    {
      "cell_type": "markdown",
      "metadata": {
        "id": "cwgg82N0mYBQ"
      },
      "source": [
        "Create a dataframe  d1 where the cols are  ‘city’ : [‘Chandigarh’, ‘Delhi’, ‘Kanpur’, ‘Chennai’, ‘Manali’ ] and ‘Temperature’ : [15, 22, 20, 26,-2]"
      ],
      "id": "cwgg82N0mYBQ"
    },
    {
      "cell_type": "code",
      "source": [
        "# Create a dataframe d1 where the cols are ‘city’ : [‘Chandigarh’, ‘Delhi’, ‘Kanpur’, ‘Chennai’, ‘Manali’ ] and ‘Temperature’ : [15, 22, 20, 26,-2]\n",
        "\n",
        "import pandas as pd\n",
        "d1 = pd.DataFrame({'city': ['Chandigarh', 'Delhi', 'Kanpur', 'Chennai', 'Manali'], 'Temperature': [15, 22, 20, 26, -2]})\n"
      ],
      "metadata": {
        "id": "CX-Qc4_rSy2L"
      },
      "id": "CX-Qc4_rSy2L",
      "execution_count": 84,
      "outputs": []
    },
    {
      "cell_type": "markdown",
      "metadata": {
        "id": "XAquuUx_mYBR"
      },
      "source": [
        "Print(d1)"
      ],
      "id": "XAquuUx_mYBR"
    },
    {
      "cell_type": "code",
      "source": [
        "# Print(d1)\n",
        "\n",
        "print(d1)\n"
      ],
      "metadata": {
        "id": "UjnnBGOlUjqN",
        "outputId": "5bcfda10-3019-4b29-9d3e-cd30da73f1e5",
        "colab": {
          "base_uri": "https://localhost:8080/"
        }
      },
      "id": "UjnnBGOlUjqN",
      "execution_count": 85,
      "outputs": [
        {
          "output_type": "stream",
          "name": "stdout",
          "text": [
            "         city  Temperature\n",
            "0  Chandigarh           15\n",
            "1       Delhi           22\n",
            "2      Kanpur           20\n",
            "3     Chennai           26\n",
            "4      Manali           -2\n"
          ]
        }
      ]
    },
    {
      "cell_type": "markdown",
      "source": [
        "what is the shape of d1"
      ],
      "metadata": {
        "id": "NKIK8aLpbtbu"
      },
      "id": "NKIK8aLpbtbu"
    },
    {
      "cell_type": "code",
      "source": [
        "# What is the shape of d1.\n",
        "\n",
        "print(d1.shape)\n"
      ],
      "metadata": {
        "id": "VT9616cDbwo-",
        "outputId": "9fcffd53-5740-4aca-82d3-12323f50926d",
        "colab": {
          "base_uri": "https://localhost:8080/"
        }
      },
      "id": "VT9616cDbwo-",
      "execution_count": 86,
      "outputs": [
        {
          "output_type": "stream",
          "name": "stdout",
          "text": [
            "(5, 2)\n"
          ]
        }
      ]
    },
    {
      "cell_type": "code",
      "source": [
        "# Set city = d1['city']\n",
        "\n",
        "city = d1['city']\n"
      ],
      "metadata": {
        "id": "FLah9D_8b229"
      },
      "id": "FLah9D_8b229",
      "execution_count": 89,
      "outputs": []
    },
    {
      "cell_type": "code",
      "source": [
        "#print city\n",
        "# What is the type of city.\n",
        "\n",
        "print(city)\n",
        "\n",
        "print(type(city))\n"
      ],
      "metadata": {
        "id": "On0eDPrBcADV",
        "outputId": "11fd3e94-ac5c-47b5-e131-b5d374ad0ece",
        "colab": {
          "base_uri": "https://localhost:8080/"
        }
      },
      "id": "On0eDPrBcADV",
      "execution_count": 91,
      "outputs": [
        {
          "output_type": "stream",
          "name": "stdout",
          "text": [
            "0    Chandigarh\n",
            "1         Delhi\n",
            "2        Kanpur\n",
            "3       Chennai\n",
            "4        Manali\n",
            "Name: city, dtype: object\n",
            "<class 'pandas.core.series.Series'>\n"
          ]
        }
      ]
    },
    {
      "cell_type": "markdown",
      "source": [
        "Create another datafeame 'd2' where the columns are\n",
        "'city' - ['Bengalaru','Coimbatore','Srirangam','Pondicherry']\n",
        "'Temperature' - [24,35,36,39]"
      ],
      "metadata": {
        "id": "6VCZsgVUck1d"
      },
      "id": "6VCZsgVUck1d"
    },
    {
      "cell_type": "code",
      "source": [
        "#Create another datafeame 'd2' where the columns are\n",
        "# 'city' - ['Bengalaru','Coimbatore','Srirangam','Pondicherry']\n",
        "# 'Temperature' - [24,35,36,39]\n",
        "\n",
        "import pandas as pd\n",
        "d2 = pd.DataFrame({'city': ['Bengalaru', 'Coimbatore', 'Srirangam', 'Pondicherry'], 'Temperature': [24, 35, 36, 39]})\n"
      ],
      "metadata": {
        "id": "g6ShoC2rcLY9"
      },
      "id": "g6ShoC2rcLY9",
      "execution_count": 92,
      "outputs": []
    },
    {
      "cell_type": "markdown",
      "source": [
        "print the shape of this dataframe"
      ],
      "metadata": {
        "id": "103LCt1bcSzs"
      },
      "id": "103LCt1bcSzs"
    },
    {
      "cell_type": "code",
      "source": [
        "# print the shape of this dataframe\n",
        "\n",
        "print(d2.shape)\n"
      ],
      "metadata": {
        "id": "p2AZ0RVAcVB8",
        "outputId": "2f4fd9ad-ea25-4f68-cd6c-eb5bfcb58256",
        "colab": {
          "base_uri": "https://localhost:8080/"
        }
      },
      "id": "p2AZ0RVAcVB8",
      "execution_count": 93,
      "outputs": [
        {
          "output_type": "stream",
          "name": "stdout",
          "text": [
            "(4, 2)\n"
          ]
        }
      ]
    },
    {
      "cell_type": "markdown",
      "metadata": {
        "id": "UK38h5ktmYBT"
      },
      "source": [
        "merge the two dataframes together, save it in a new dataframe named 'd3'"
      ],
      "id": "UK38h5ktmYBT"
    },
    {
      "cell_type": "code",
      "source": [
        "# merge the two dataframes together, save it in a new dataframe named 'd3'\n",
        "\n",
        "import pandas as pd\n",
        "d3 = pd.concat([d1, d2], axis=0)\n"
      ],
      "metadata": {
        "id": "fLC5eCylc9CW"
      },
      "id": "fLC5eCylc9CW",
      "execution_count": 99,
      "outputs": []
    },
    {
      "cell_type": "code",
      "source": [
        "d3 = {}"
      ],
      "metadata": {
        "id": "ooKJ3kujdIhd"
      },
      "id": "ooKJ3kujdIhd",
      "execution_count": 102,
      "outputs": []
    },
    {
      "cell_type": "markdown",
      "source": [
        "Select the part of the dataframe such that it contains cities wherer temp is less then or equal to 20\n",
        "How many cities are there?"
      ],
      "metadata": {
        "id": "dfLfSCFvdSxz"
      },
      "id": "dfLfSCFvdSxz"
    },
    {
      "cell_type": "code",
      "source": [
        "# Select the part of the dataframe such that it contains cities wherer temp is less then or equal to 20\n",
        "# How many cities are there?\n",
        "\n",
        "import pandas as pd\n",
        "d1 = pd.DataFrame({'city': ['Chandigarh', 'Delhi', 'Kanpur', 'Chennai', 'Manali'], 'Temperature': [15, 22, 20, 26, -2]})\n",
        "\n",
        "# Select the part of the dataframe such that it contains cities where temp is less than or equal to 20\n",
        "d1_filtered = d1[d1['Temperature'] <= 20]\n",
        "\n",
        "# How many cities are there?\n",
        "num_cities = len(d1_filtered)\n",
        "\n",
        "# Print the number of cities\n",
        "print(num_cities)\n"
      ],
      "metadata": {
        "id": "XtQqY9tadURT",
        "outputId": "79432cd6-8992-46fc-9228-1c99257af0b6",
        "colab": {
          "base_uri": "https://localhost:8080/"
        }
      },
      "id": "XtQqY9tadURT",
      "execution_count": 104,
      "outputs": [
        {
          "output_type": "stream",
          "name": "stdout",
          "text": [
            "3\n"
          ]
        }
      ]
    },
    {
      "cell_type": "markdown",
      "source": [
        "Select the part of the dataframe such that it contains the cities where tempearature greater than or equal to 35"
      ],
      "metadata": {
        "id": "RQdTBE9GdoBM"
      },
      "id": "RQdTBE9GdoBM"
    },
    {
      "cell_type": "code",
      "source": [
        "# Select the part of the dataframe such that it contains the cities where tempearature greater than or equal to 35\n",
        "\n",
        "import pandas as pd\n",
        "d1 = pd.DataFrame({'city': ['Chandigarh', 'Delhi', 'Kanpur', 'Chennai', 'Manali'], 'Temperature': [15, 22, 20, 26, -2]})\n",
        "\n",
        "# Select the part of the dataframe such that it contains cities where temperature is greater than or equal to 35\n",
        "d1_filtered = d1[d1['Temperature'] >= 35]\n",
        "\n",
        "# Print the filtered DataFrame\n",
        "print(d1_filtered)\n"
      ],
      "metadata": {
        "id": "hrcVxpimdqNN",
        "outputId": "a4239af0-fbfb-4074-b9a5-832536595abf",
        "colab": {
          "base_uri": "https://localhost:8080/"
        }
      },
      "id": "hrcVxpimdqNN",
      "execution_count": 105,
      "outputs": [
        {
          "output_type": "stream",
          "name": "stdout",
          "text": [
            "Empty DataFrame\n",
            "Columns: [city, Temperature]\n",
            "Index: []\n"
          ]
        }
      ]
    },
    {
      "cell_type": "markdown",
      "source": [
        "Applying functions to columns and creating new columns"
      ],
      "metadata": {
        "id": "wtq5okGBd4JN"
      },
      "id": "wtq5okGBd4JN"
    },
    {
      "cell_type": "code",
      "source": [
        "# Applying functions to columns and creating new columns\n",
        "\n",
        "# Create a function to add 1 to each element\n",
        "def add_one(x):\n",
        "  return x + 1\n",
        "\n",
        "# Create a new column called 'Temperature_plus_one' by applying the add_one function to the 'Temperature' column\n",
        "d1['Temperature_plus_one'] = d1['Temperature'].apply(add_one)\n",
        "\n",
        "# Print the first five rows of the dataframe\n",
        "print(d1.head())\n"
      ],
      "metadata": {
        "id": "Lo7vZQUAd53D",
        "outputId": "3c451f7b-c023-4b09-beaa-aede7c6afaae",
        "colab": {
          "base_uri": "https://localhost:8080/"
        }
      },
      "id": "Lo7vZQUAd53D",
      "execution_count": 106,
      "outputs": [
        {
          "output_type": "stream",
          "name": "stdout",
          "text": [
            "         city  Temperature  Temperature_plus_one\n",
            "0  Chandigarh           15                    16\n",
            "1       Delhi           22                    23\n",
            "2      Kanpur           20                    21\n",
            "3     Chennai           26                    27\n",
            "4      Manali           -2                    -1\n"
          ]
        }
      ]
    },
    {
      "cell_type": "markdown",
      "source": [
        "We need to create another column in d3, which contains a boolean value for each city to indicate whether it's a union territory or not."
      ],
      "metadata": {
        "id": "tzU4yKI8eieP"
      },
      "id": "tzU4yKI8eieP"
    },
    {
      "cell_type": "code",
      "source": [
        "# We need to create another column in d3, which contains a boolean value for each city to indicate whether it's a union territory or not.\n",
        "\n",
        "d3 = pd.DataFrame({'city': ['Chandigarh', 'Delhi', 'Pondicherry', 'Mumbai', 'Chennai']})\n",
        "d3['is_union_territory'] = np.where(d3['city'].isin(['Chandigarh', 'Delhi', 'Pondicherry']), True, False)\n",
        "print(d3)\n"
      ],
      "metadata": {
        "id": "RD2xR6qpekas",
        "outputId": "d81ba988-4dfd-4aca-dfcb-b39b8be3e866",
        "colab": {
          "base_uri": "https://localhost:8080/"
        }
      },
      "id": "RD2xR6qpekas",
      "execution_count": 114,
      "outputs": [
        {
          "output_type": "stream",
          "name": "stdout",
          "text": [
            "          city  is_union_territory\n",
            "0   Chandigarh                True\n",
            "1        Delhi                True\n",
            "2  Pondicherry                True\n",
            "3       Mumbai               False\n",
            "4      Chennai               False\n"
          ]
        }
      ]
    },
    {
      "cell_type": "markdown",
      "source": [
        "The temperatures mentioned in ‘Temperature’ column are mentioned in Celsius, we need another column which contains the same in Fahrenheit."
      ],
      "metadata": {
        "id": "wn0u9jDkfBIm"
      },
      "id": "wn0u9jDkfBIm"
    },
    {
      "cell_type": "code",
      "source": [
        "# The temperatures mentioned in ‘Temperature’ column are mentioned in Celsius, we need another column which contains the same in Fahrenheit.\n",
        "\n",
        "d3 = pd.DataFrame({\"city\": [\"delhi\", \"shimla\"], \"is_union_territory\": [False, False], \"temperature\": [35, 20]})\n",
        "print(d3)\n"
      ],
      "metadata": {
        "id": "1qwJ47z8fDB-",
        "outputId": "3d5860a4-b4f7-4a35-cd79-2e2d86f6e5b5",
        "colab": {
          "base_uri": "https://localhost:8080/"
        }
      },
      "id": "1qwJ47z8fDB-",
      "execution_count": 117,
      "outputs": [
        {
          "output_type": "stream",
          "name": "stdout",
          "text": [
            "     city  is_union_territory  temperature\n",
            "0   delhi               False           35\n",
            "1  shimla               False           20\n"
          ]
        }
      ]
    },
    {
      "cell_type": "markdown",
      "source": [
        "**Indexing and selecting rows in DataFrame**"
      ],
      "metadata": {
        "id": "AemlrKVffX1m"
      },
      "id": "AemlrKVffX1m"
    },
    {
      "cell_type": "markdown",
      "source": [
        "Select subset of the dataframe d1 such that it contains the cities which are union territories."
      ],
      "metadata": {
        "id": "KQd8FpbeffEn"
      },
      "id": "KQd8FpbeffEn"
    },
    {
      "cell_type": "code",
      "source": [
        "# Select subset of the dataframe d1 such that it contains the cities which are union territories.\n",
        "\n",
        "import pandas as pd\n",
        "d1 = pd.DataFrame({'city': ['Chandigarh', 'Delhi', 'Kanpur', 'Chennai', 'Manali'], 'Temperature': [15, 22, 20, 26, -2]})\n",
        "\n",
        "# Create a list of union territories\n",
        "union_territories = ['Chandigarh', 'Delhi']\n",
        "\n",
        "# Select the subset of the dataframe that contains the union territories\n",
        "d1_union_territories = d1[d1['city'].isin(union_territories)]\n",
        "\n",
        "# Print the subset of the dataframe\n",
        "print(d1_union_territories)\n"
      ],
      "metadata": {
        "id": "SVbaEkqyfhgM",
        "outputId": "db2e551e-352a-40ff-a240-88adfdc710ec",
        "colab": {
          "base_uri": "https://localhost:8080/"
        }
      },
      "id": "SVbaEkqyfhgM",
      "execution_count": 118,
      "outputs": [
        {
          "output_type": "stream",
          "name": "stdout",
          "text": [
            "         city  Temperature\n",
            "0  Chandigarh           15\n",
            "1       Delhi           22\n"
          ]
        }
      ]
    },
    {
      "cell_type": "markdown",
      "source": [
        "Select a subset of the dataframe d1 such that it contains the cities which only have temperature above 90 Farenhiet."
      ],
      "metadata": {
        "id": "nYJNE_H1frcm"
      },
      "id": "nYJNE_H1frcm"
    },
    {
      "cell_type": "code",
      "source": [
        "#  Select a subset of the dataframe d1 such that it contains the cities which only have temperature above 90 Farenhiet.\n",
        "\n",
        "import pandas as pd\n",
        "d1 = pd.DataFrame({'city': ['Chandigarh', 'Delhi', 'Kanpur', 'Chennai', 'Manali'], 'Temperature': [15, 22, 20, 26, -2]})\n",
        "\n",
        "# Convert the temperature to Fahrenheit\n",
        "d1['Temperature_Fahrenheit'] = (d1['Temperature'] * 9/5) + 32\n",
        "\n",
        "# Select the subset of the dataframe that contains the cities with temperature above 90 Fahrenheit\n",
        "d1_above_90F = d1[d1['Temperature_Fahrenheit'] > 90]\n",
        "\n",
        "# Print the subset of the dataframe\n",
        "print(d1_above_90F)\n"
      ],
      "metadata": {
        "id": "NE1xgvClftOE",
        "outputId": "bd0a2185-2380-462e-b818-1d7822ae6838",
        "colab": {
          "base_uri": "https://localhost:8080/"
        }
      },
      "id": "NE1xgvClftOE",
      "execution_count": 120,
      "outputs": [
        {
          "output_type": "stream",
          "name": "stdout",
          "text": [
            "Empty DataFrame\n",
            "Columns: [city, Temperature, Temperature_Fahrenheit]\n",
            "Index: []\n"
          ]
        }
      ]
    },
    {
      "cell_type": "markdown",
      "source": [
        "**Select only the first three rows of the dataframe d1.**"
      ],
      "metadata": {
        "id": "urt6pClsf6p-"
      },
      "id": "urt6pClsf6p-"
    },
    {
      "cell_type": "code",
      "source": [
        "# Select only the first three rows of the dataframe d1.\n",
        "\n",
        "import pandas as pd\n",
        "d1 = pd.DataFrame({'city': ['Chandigarh', 'Delhi', 'Kanpur', 'Chennai', 'Manali'], 'Temperature': [15, 22, 20, 26, -2]})\n",
        "\n",
        "# Select the first three rows of the dataframe\n",
        "d1_first_three = d1.head(3)\n",
        "\n",
        "# Print the first three rows of the dataframe\n",
        "print(d1_first_three)\n"
      ],
      "metadata": {
        "id": "hwQwdugCgQSM",
        "outputId": "6dad4fbc-894c-44d3-890a-44d4b9a0e4db",
        "colab": {
          "base_uri": "https://localhost:8080/"
        }
      },
      "id": "hwQwdugCgQSM",
      "execution_count": 122,
      "outputs": [
        {
          "output_type": "stream",
          "name": "stdout",
          "text": [
            "         city  Temperature\n",
            "0  Chandigarh           15\n",
            "1       Delhi           22\n",
            "2      Kanpur           20\n"
          ]
        }
      ]
    },
    {
      "cell_type": "markdown",
      "source": [
        "**Select all the rows and last two columns in the dataframe.**"
      ],
      "metadata": {
        "id": "CQOTEwpqg2eX"
      },
      "id": "CQOTEwpqg2eX"
    },
    {
      "cell_type": "code",
      "source": [
        "#  Select all the rows and last two columns in the dataframe.\n",
        "\n",
        "import pandas as pd\n",
        "d1 = pd.DataFrame({'city': ['Chandigarh', 'Delhi', 'Kanpur', 'Chennai', 'Manali'], 'Temperature': [15, 22, 20, 26, -2], 'is_union_territory': [True, True, False, False, False]})\n",
        "\n",
        "# Select all the rows and last two columns\n",
        "d1_last_two_columns = d1.iloc[:, -2:]\n",
        "\n",
        "# Print the last two columns\n",
        "print(d1_last_two_columns)\n"
      ],
      "metadata": {
        "id": "DgVcn7BKg5rU",
        "outputId": "e13c310c-a4bf-4618-aad7-001141894cc0",
        "colab": {
          "base_uri": "https://localhost:8080/"
        }
      },
      "id": "DgVcn7BKg5rU",
      "execution_count": 123,
      "outputs": [
        {
          "output_type": "stream",
          "name": "stdout",
          "text": [
            "   Temperature  is_union_territory\n",
            "0           15                True\n",
            "1           22                True\n",
            "2           20               False\n",
            "3           26               False\n",
            "4           -2               False\n"
          ]
        }
      ]
    },
    {
      "cell_type": "markdown",
      "source": [
        "**Groupby**"
      ],
      "metadata": {
        "id": "BRaWvIDyhEN4"
      },
      "id": "BRaWvIDyhEN4"
    },
    {
      "cell_type": "code",
      "source": [
        "# # Create a dataframe using dictionary of your choice\n",
        "# # data =\n",
        "\n",
        "import pandas as pd\n",
        "data = {'Name': ['Alice', 'Bob', 'Charlie', 'Diana', 'Eve'],\n",
        "       'Age': [20, 25, 30, 35, 40],\n",
        "       'City': ['New York', 'London', 'Paris', 'Tokyo', 'Berlin']}\n",
        "\n",
        "df = pd.DataFrame(data)\n"
      ],
      "metadata": {
        "id": "OS_P3eWVhKjO"
      },
      "id": "OS_P3eWVhKjO",
      "execution_count": 124,
      "outputs": []
    },
    {
      "cell_type": "code",
      "source": [
        "# # Use Groupby of single column with aggregate sum()\n",
        "\n",
        "df.groupby('City')['Age'].sum()\n"
      ],
      "metadata": {
        "id": "ZumRHQRPhRwm",
        "outputId": "46353924-1b66-42f9-d565-89852524677a",
        "colab": {
          "base_uri": "https://localhost:8080/"
        }
      },
      "id": "ZumRHQRPhRwm",
      "execution_count": 125,
      "outputs": [
        {
          "output_type": "execute_result",
          "data": {
            "text/plain": [
              "City\n",
              "Berlin      40\n",
              "London      25\n",
              "New York    20\n",
              "Paris       30\n",
              "Tokyo       35\n",
              "Name: Age, dtype: int64"
            ]
          },
          "metadata": {},
          "execution_count": 125
        }
      ]
    },
    {
      "cell_type": "code",
      "source": [
        "# # Use Groupby of single column with aggregate count()\n",
        "\n",
        "df.groupby('City')['Age'].count()\n"
      ],
      "metadata": {
        "id": "BaTfYjlVhXKe",
        "outputId": "7c3aac0a-fa74-416d-aba2-5c72a39dd8bd",
        "colab": {
          "base_uri": "https://localhost:8080/"
        }
      },
      "id": "BaTfYjlVhXKe",
      "execution_count": 126,
      "outputs": [
        {
          "output_type": "execute_result",
          "data": {
            "text/plain": [
              "City\n",
              "Berlin      1\n",
              "London      1\n",
              "New York    1\n",
              "Paris       1\n",
              "Tokyo       1\n",
              "Name: Age, dtype: int64"
            ]
          },
          "metadata": {},
          "execution_count": 126
        }
      ]
    },
    {
      "cell_type": "code",
      "source": [
        "# Use Groupby of single column with aggregate min() and max(\n",
        "\n",
        "df.groupby('City')['Age'].agg(['min', 'max'])\n"
      ],
      "metadata": {
        "id": "WHRuLegQhdPd",
        "outputId": "35a6ecef-5fa8-404b-d3e3-0264798707a7",
        "colab": {
          "base_uri": "https://localhost:8080/",
          "height": 238
        }
      },
      "id": "WHRuLegQhdPd",
      "execution_count": 128,
      "outputs": [
        {
          "output_type": "execute_result",
          "data": {
            "text/plain": [
              "          min  max\n",
              "City              \n",
              "Berlin     40   40\n",
              "London     25   25\n",
              "New York   20   20\n",
              "Paris      30   30\n",
              "Tokyo      35   35"
            ],
            "text/html": [
              "\n",
              "  <div id=\"df-1e5f488d-132a-4041-aa9c-78efc29a012c\" class=\"colab-df-container\">\n",
              "    <div>\n",
              "<style scoped>\n",
              "    .dataframe tbody tr th:only-of-type {\n",
              "        vertical-align: middle;\n",
              "    }\n",
              "\n",
              "    .dataframe tbody tr th {\n",
              "        vertical-align: top;\n",
              "    }\n",
              "\n",
              "    .dataframe thead th {\n",
              "        text-align: right;\n",
              "    }\n",
              "</style>\n",
              "<table border=\"1\" class=\"dataframe\">\n",
              "  <thead>\n",
              "    <tr style=\"text-align: right;\">\n",
              "      <th></th>\n",
              "      <th>min</th>\n",
              "      <th>max</th>\n",
              "    </tr>\n",
              "    <tr>\n",
              "      <th>City</th>\n",
              "      <th></th>\n",
              "      <th></th>\n",
              "    </tr>\n",
              "  </thead>\n",
              "  <tbody>\n",
              "    <tr>\n",
              "      <th>Berlin</th>\n",
              "      <td>40</td>\n",
              "      <td>40</td>\n",
              "    </tr>\n",
              "    <tr>\n",
              "      <th>London</th>\n",
              "      <td>25</td>\n",
              "      <td>25</td>\n",
              "    </tr>\n",
              "    <tr>\n",
              "      <th>New York</th>\n",
              "      <td>20</td>\n",
              "      <td>20</td>\n",
              "    </tr>\n",
              "    <tr>\n",
              "      <th>Paris</th>\n",
              "      <td>30</td>\n",
              "      <td>30</td>\n",
              "    </tr>\n",
              "    <tr>\n",
              "      <th>Tokyo</th>\n",
              "      <td>35</td>\n",
              "      <td>35</td>\n",
              "    </tr>\n",
              "  </tbody>\n",
              "</table>\n",
              "</div>\n",
              "    <div class=\"colab-df-buttons\">\n",
              "\n",
              "  <div class=\"colab-df-container\">\n",
              "    <button class=\"colab-df-convert\" onclick=\"convertToInteractive('df-1e5f488d-132a-4041-aa9c-78efc29a012c')\"\n",
              "            title=\"Convert this dataframe to an interactive table.\"\n",
              "            style=\"display:none;\">\n",
              "\n",
              "  <svg xmlns=\"http://www.w3.org/2000/svg\" height=\"24px\" viewBox=\"0 -960 960 960\">\n",
              "    <path d=\"M120-120v-720h720v720H120Zm60-500h600v-160H180v160Zm220 220h160v-160H400v160Zm0 220h160v-160H400v160ZM180-400h160v-160H180v160Zm440 0h160v-160H620v160ZM180-180h160v-160H180v160Zm440 0h160v-160H620v160Z\"/>\n",
              "  </svg>\n",
              "    </button>\n",
              "\n",
              "  <style>\n",
              "    .colab-df-container {\n",
              "      display:flex;\n",
              "      gap: 12px;\n",
              "    }\n",
              "\n",
              "    .colab-df-convert {\n",
              "      background-color: #E8F0FE;\n",
              "      border: none;\n",
              "      border-radius: 50%;\n",
              "      cursor: pointer;\n",
              "      display: none;\n",
              "      fill: #1967D2;\n",
              "      height: 32px;\n",
              "      padding: 0 0 0 0;\n",
              "      width: 32px;\n",
              "    }\n",
              "\n",
              "    .colab-df-convert:hover {\n",
              "      background-color: #E2EBFA;\n",
              "      box-shadow: 0px 1px 2px rgba(60, 64, 67, 0.3), 0px 1px 3px 1px rgba(60, 64, 67, 0.15);\n",
              "      fill: #174EA6;\n",
              "    }\n",
              "\n",
              "    .colab-df-buttons div {\n",
              "      margin-bottom: 4px;\n",
              "    }\n",
              "\n",
              "    [theme=dark] .colab-df-convert {\n",
              "      background-color: #3B4455;\n",
              "      fill: #D2E3FC;\n",
              "    }\n",
              "\n",
              "    [theme=dark] .colab-df-convert:hover {\n",
              "      background-color: #434B5C;\n",
              "      box-shadow: 0px 1px 3px 1px rgba(0, 0, 0, 0.15);\n",
              "      filter: drop-shadow(0px 1px 2px rgba(0, 0, 0, 0.3));\n",
              "      fill: #FFFFFF;\n",
              "    }\n",
              "  </style>\n",
              "\n",
              "    <script>\n",
              "      const buttonEl =\n",
              "        document.querySelector('#df-1e5f488d-132a-4041-aa9c-78efc29a012c button.colab-df-convert');\n",
              "      buttonEl.style.display =\n",
              "        google.colab.kernel.accessAllowed ? 'block' : 'none';\n",
              "\n",
              "      async function convertToInteractive(key) {\n",
              "        const element = document.querySelector('#df-1e5f488d-132a-4041-aa9c-78efc29a012c');\n",
              "        const dataTable =\n",
              "          await google.colab.kernel.invokeFunction('convertToInteractive',\n",
              "                                                    [key], {});\n",
              "        if (!dataTable) return;\n",
              "\n",
              "        const docLinkHtml = 'Like what you see? Visit the ' +\n",
              "          '<a target=\"_blank\" href=https://colab.research.google.com/notebooks/data_table.ipynb>data table notebook</a>'\n",
              "          + ' to learn more about interactive tables.';\n",
              "        element.innerHTML = '';\n",
              "        dataTable['output_type'] = 'display_data';\n",
              "        await google.colab.output.renderOutput(dataTable, element);\n",
              "        const docLink = document.createElement('div');\n",
              "        docLink.innerHTML = docLinkHtml;\n",
              "        element.appendChild(docLink);\n",
              "      }\n",
              "    </script>\n",
              "  </div>\n",
              "\n",
              "\n",
              "<div id=\"df-eba7e4df-f4d5-45ba-b2d8-ed364182bf5b\">\n",
              "  <button class=\"colab-df-quickchart\" onclick=\"quickchart('df-eba7e4df-f4d5-45ba-b2d8-ed364182bf5b')\"\n",
              "            title=\"Suggest charts\"\n",
              "            style=\"display:none;\">\n",
              "\n",
              "<svg xmlns=\"http://www.w3.org/2000/svg\" height=\"24px\"viewBox=\"0 0 24 24\"\n",
              "     width=\"24px\">\n",
              "    <g>\n",
              "        <path d=\"M19 3H5c-1.1 0-2 .9-2 2v14c0 1.1.9 2 2 2h14c1.1 0 2-.9 2-2V5c0-1.1-.9-2-2-2zM9 17H7v-7h2v7zm4 0h-2V7h2v10zm4 0h-2v-4h2v4z\"/>\n",
              "    </g>\n",
              "</svg>\n",
              "  </button>\n",
              "\n",
              "<style>\n",
              "  .colab-df-quickchart {\n",
              "      --bg-color: #E8F0FE;\n",
              "      --fill-color: #1967D2;\n",
              "      --hover-bg-color: #E2EBFA;\n",
              "      --hover-fill-color: #174EA6;\n",
              "      --disabled-fill-color: #AAA;\n",
              "      --disabled-bg-color: #DDD;\n",
              "  }\n",
              "\n",
              "  [theme=dark] .colab-df-quickchart {\n",
              "      --bg-color: #3B4455;\n",
              "      --fill-color: #D2E3FC;\n",
              "      --hover-bg-color: #434B5C;\n",
              "      --hover-fill-color: #FFFFFF;\n",
              "      --disabled-bg-color: #3B4455;\n",
              "      --disabled-fill-color: #666;\n",
              "  }\n",
              "\n",
              "  .colab-df-quickchart {\n",
              "    background-color: var(--bg-color);\n",
              "    border: none;\n",
              "    border-radius: 50%;\n",
              "    cursor: pointer;\n",
              "    display: none;\n",
              "    fill: var(--fill-color);\n",
              "    height: 32px;\n",
              "    padding: 0;\n",
              "    width: 32px;\n",
              "  }\n",
              "\n",
              "  .colab-df-quickchart:hover {\n",
              "    background-color: var(--hover-bg-color);\n",
              "    box-shadow: 0 1px 2px rgba(60, 64, 67, 0.3), 0 1px 3px 1px rgba(60, 64, 67, 0.15);\n",
              "    fill: var(--button-hover-fill-color);\n",
              "  }\n",
              "\n",
              "  .colab-df-quickchart-complete:disabled,\n",
              "  .colab-df-quickchart-complete:disabled:hover {\n",
              "    background-color: var(--disabled-bg-color);\n",
              "    fill: var(--disabled-fill-color);\n",
              "    box-shadow: none;\n",
              "  }\n",
              "\n",
              "  .colab-df-spinner {\n",
              "    border: 2px solid var(--fill-color);\n",
              "    border-color: transparent;\n",
              "    border-bottom-color: var(--fill-color);\n",
              "    animation:\n",
              "      spin 1s steps(1) infinite;\n",
              "  }\n",
              "\n",
              "  @keyframes spin {\n",
              "    0% {\n",
              "      border-color: transparent;\n",
              "      border-bottom-color: var(--fill-color);\n",
              "      border-left-color: var(--fill-color);\n",
              "    }\n",
              "    20% {\n",
              "      border-color: transparent;\n",
              "      border-left-color: var(--fill-color);\n",
              "      border-top-color: var(--fill-color);\n",
              "    }\n",
              "    30% {\n",
              "      border-color: transparent;\n",
              "      border-left-color: var(--fill-color);\n",
              "      border-top-color: var(--fill-color);\n",
              "      border-right-color: var(--fill-color);\n",
              "    }\n",
              "    40% {\n",
              "      border-color: transparent;\n",
              "      border-right-color: var(--fill-color);\n",
              "      border-top-color: var(--fill-color);\n",
              "    }\n",
              "    60% {\n",
              "      border-color: transparent;\n",
              "      border-right-color: var(--fill-color);\n",
              "    }\n",
              "    80% {\n",
              "      border-color: transparent;\n",
              "      border-right-color: var(--fill-color);\n",
              "      border-bottom-color: var(--fill-color);\n",
              "    }\n",
              "    90% {\n",
              "      border-color: transparent;\n",
              "      border-bottom-color: var(--fill-color);\n",
              "    }\n",
              "  }\n",
              "</style>\n",
              "\n",
              "  <script>\n",
              "    async function quickchart(key) {\n",
              "      const quickchartButtonEl =\n",
              "        document.querySelector('#' + key + ' button');\n",
              "      quickchartButtonEl.disabled = true;  // To prevent multiple clicks.\n",
              "      quickchartButtonEl.classList.add('colab-df-spinner');\n",
              "      try {\n",
              "        const charts = await google.colab.kernel.invokeFunction(\n",
              "            'suggestCharts', [key], {});\n",
              "      } catch (error) {\n",
              "        console.error('Error during call to suggestCharts:', error);\n",
              "      }\n",
              "      quickchartButtonEl.classList.remove('colab-df-spinner');\n",
              "      quickchartButtonEl.classList.add('colab-df-quickchart-complete');\n",
              "    }\n",
              "    (() => {\n",
              "      let quickchartButtonEl =\n",
              "        document.querySelector('#df-eba7e4df-f4d5-45ba-b2d8-ed364182bf5b button');\n",
              "      quickchartButtonEl.style.display =\n",
              "        google.colab.kernel.accessAllowed ? 'block' : 'none';\n",
              "    })();\n",
              "  </script>\n",
              "</div>\n",
              "\n",
              "    </div>\n",
              "  </div>\n"
            ],
            "application/vnd.google.colaboratory.intrinsic+json": {
              "type": "dataframe",
              "summary": "{\n  \"name\": \"df\",\n  \"rows\": 5,\n  \"fields\": [\n    {\n      \"column\": \"City\",\n      \"properties\": {\n        \"dtype\": \"string\",\n        \"num_unique_values\": 5,\n        \"samples\": [\n          \"London\",\n          \"Tokyo\",\n          \"New York\"\n        ],\n        \"semantic_type\": \"\",\n        \"description\": \"\"\n      }\n    },\n    {\n      \"column\": \"min\",\n      \"properties\": {\n        \"dtype\": \"number\",\n        \"std\": 7,\n        \"min\": 20,\n        \"max\": 40,\n        \"num_unique_values\": 5,\n        \"samples\": [\n          25,\n          35,\n          20\n        ],\n        \"semantic_type\": \"\",\n        \"description\": \"\"\n      }\n    },\n    {\n      \"column\": \"max\",\n      \"properties\": {\n        \"dtype\": \"number\",\n        \"std\": 7,\n        \"min\": 20,\n        \"max\": 40,\n        \"num_unique_values\": 5,\n        \"samples\": [\n          25,\n          35,\n          20\n        ],\n        \"semantic_type\": \"\",\n        \"description\": \"\"\n      }\n    }\n  ]\n}"
            }
          },
          "metadata": {},
          "execution_count": 128
        }
      ]
    },
    {
      "cell_type": "code",
      "source": [
        "#  Use Groupby of any 2 columns with aggregate mean()\n",
        "\n",
        "df.groupby(['City', 'Name'])['Age'].mean()\n"
      ],
      "metadata": {
        "id": "3NL8RhbTmQrD",
        "outputId": "04fd2f5c-31c1-4901-8931-4d5982c2456a",
        "colab": {
          "base_uri": "https://localhost:8080/"
        }
      },
      "id": "3NL8RhbTmQrD",
      "execution_count": 129,
      "outputs": [
        {
          "output_type": "execute_result",
          "data": {
            "text/plain": [
              "City      Name   \n",
              "Berlin    Eve        40.0\n",
              "London    Bob        25.0\n",
              "New York  Alice      20.0\n",
              "Paris     Charlie    30.0\n",
              "Tokyo     Diana      35.0\n",
              "Name: Age, dtype: float64"
            ]
          },
          "metadata": {},
          "execution_count": 129
        }
      ]
    },
    {
      "cell_type": "code",
      "source": [
        "# #Use Groupby of any 2 columns with aggregate min() and max()\n",
        "\n",
        "df.groupby(['City', 'Name'])['Age'].agg(['min', 'max'])\n"
      ],
      "metadata": {
        "id": "DJ5J7l-HmbSD",
        "outputId": "e5d052dd-8a02-4e08-de8d-5cff7a181638",
        "colab": {
          "base_uri": "https://localhost:8080/",
          "height": 238
        }
      },
      "id": "DJ5J7l-HmbSD",
      "execution_count": 130,
      "outputs": [
        {
          "output_type": "execute_result",
          "data": {
            "text/plain": [
              "                  min  max\n",
              "City     Name             \n",
              "Berlin   Eve       40   40\n",
              "London   Bob       25   25\n",
              "New York Alice     20   20\n",
              "Paris    Charlie   30   30\n",
              "Tokyo    Diana     35   35"
            ],
            "text/html": [
              "\n",
              "  <div id=\"df-d81f29e4-49a4-467b-9603-92ca1115960c\" class=\"colab-df-container\">\n",
              "    <div>\n",
              "<style scoped>\n",
              "    .dataframe tbody tr th:only-of-type {\n",
              "        vertical-align: middle;\n",
              "    }\n",
              "\n",
              "    .dataframe tbody tr th {\n",
              "        vertical-align: top;\n",
              "    }\n",
              "\n",
              "    .dataframe thead th {\n",
              "        text-align: right;\n",
              "    }\n",
              "</style>\n",
              "<table border=\"1\" class=\"dataframe\">\n",
              "  <thead>\n",
              "    <tr style=\"text-align: right;\">\n",
              "      <th></th>\n",
              "      <th></th>\n",
              "      <th>min</th>\n",
              "      <th>max</th>\n",
              "    </tr>\n",
              "    <tr>\n",
              "      <th>City</th>\n",
              "      <th>Name</th>\n",
              "      <th></th>\n",
              "      <th></th>\n",
              "    </tr>\n",
              "  </thead>\n",
              "  <tbody>\n",
              "    <tr>\n",
              "      <th>Berlin</th>\n",
              "      <th>Eve</th>\n",
              "      <td>40</td>\n",
              "      <td>40</td>\n",
              "    </tr>\n",
              "    <tr>\n",
              "      <th>London</th>\n",
              "      <th>Bob</th>\n",
              "      <td>25</td>\n",
              "      <td>25</td>\n",
              "    </tr>\n",
              "    <tr>\n",
              "      <th>New York</th>\n",
              "      <th>Alice</th>\n",
              "      <td>20</td>\n",
              "      <td>20</td>\n",
              "    </tr>\n",
              "    <tr>\n",
              "      <th>Paris</th>\n",
              "      <th>Charlie</th>\n",
              "      <td>30</td>\n",
              "      <td>30</td>\n",
              "    </tr>\n",
              "    <tr>\n",
              "      <th>Tokyo</th>\n",
              "      <th>Diana</th>\n",
              "      <td>35</td>\n",
              "      <td>35</td>\n",
              "    </tr>\n",
              "  </tbody>\n",
              "</table>\n",
              "</div>\n",
              "    <div class=\"colab-df-buttons\">\n",
              "\n",
              "  <div class=\"colab-df-container\">\n",
              "    <button class=\"colab-df-convert\" onclick=\"convertToInteractive('df-d81f29e4-49a4-467b-9603-92ca1115960c')\"\n",
              "            title=\"Convert this dataframe to an interactive table.\"\n",
              "            style=\"display:none;\">\n",
              "\n",
              "  <svg xmlns=\"http://www.w3.org/2000/svg\" height=\"24px\" viewBox=\"0 -960 960 960\">\n",
              "    <path d=\"M120-120v-720h720v720H120Zm60-500h600v-160H180v160Zm220 220h160v-160H400v160Zm0 220h160v-160H400v160ZM180-400h160v-160H180v160Zm440 0h160v-160H620v160ZM180-180h160v-160H180v160Zm440 0h160v-160H620v160Z\"/>\n",
              "  </svg>\n",
              "    </button>\n",
              "\n",
              "  <style>\n",
              "    .colab-df-container {\n",
              "      display:flex;\n",
              "      gap: 12px;\n",
              "    }\n",
              "\n",
              "    .colab-df-convert {\n",
              "      background-color: #E8F0FE;\n",
              "      border: none;\n",
              "      border-radius: 50%;\n",
              "      cursor: pointer;\n",
              "      display: none;\n",
              "      fill: #1967D2;\n",
              "      height: 32px;\n",
              "      padding: 0 0 0 0;\n",
              "      width: 32px;\n",
              "    }\n",
              "\n",
              "    .colab-df-convert:hover {\n",
              "      background-color: #E2EBFA;\n",
              "      box-shadow: 0px 1px 2px rgba(60, 64, 67, 0.3), 0px 1px 3px 1px rgba(60, 64, 67, 0.15);\n",
              "      fill: #174EA6;\n",
              "    }\n",
              "\n",
              "    .colab-df-buttons div {\n",
              "      margin-bottom: 4px;\n",
              "    }\n",
              "\n",
              "    [theme=dark] .colab-df-convert {\n",
              "      background-color: #3B4455;\n",
              "      fill: #D2E3FC;\n",
              "    }\n",
              "\n",
              "    [theme=dark] .colab-df-convert:hover {\n",
              "      background-color: #434B5C;\n",
              "      box-shadow: 0px 1px 3px 1px rgba(0, 0, 0, 0.15);\n",
              "      filter: drop-shadow(0px 1px 2px rgba(0, 0, 0, 0.3));\n",
              "      fill: #FFFFFF;\n",
              "    }\n",
              "  </style>\n",
              "\n",
              "    <script>\n",
              "      const buttonEl =\n",
              "        document.querySelector('#df-d81f29e4-49a4-467b-9603-92ca1115960c button.colab-df-convert');\n",
              "      buttonEl.style.display =\n",
              "        google.colab.kernel.accessAllowed ? 'block' : 'none';\n",
              "\n",
              "      async function convertToInteractive(key) {\n",
              "        const element = document.querySelector('#df-d81f29e4-49a4-467b-9603-92ca1115960c');\n",
              "        const dataTable =\n",
              "          await google.colab.kernel.invokeFunction('convertToInteractive',\n",
              "                                                    [key], {});\n",
              "        if (!dataTable) return;\n",
              "\n",
              "        const docLinkHtml = 'Like what you see? Visit the ' +\n",
              "          '<a target=\"_blank\" href=https://colab.research.google.com/notebooks/data_table.ipynb>data table notebook</a>'\n",
              "          + ' to learn more about interactive tables.';\n",
              "        element.innerHTML = '';\n",
              "        dataTable['output_type'] = 'display_data';\n",
              "        await google.colab.output.renderOutput(dataTable, element);\n",
              "        const docLink = document.createElement('div');\n",
              "        docLink.innerHTML = docLinkHtml;\n",
              "        element.appendChild(docLink);\n",
              "      }\n",
              "    </script>\n",
              "  </div>\n",
              "\n",
              "\n",
              "<div id=\"df-0b7c25cc-9b57-4d08-9778-16ae763a8d08\">\n",
              "  <button class=\"colab-df-quickchart\" onclick=\"quickchart('df-0b7c25cc-9b57-4d08-9778-16ae763a8d08')\"\n",
              "            title=\"Suggest charts\"\n",
              "            style=\"display:none;\">\n",
              "\n",
              "<svg xmlns=\"http://www.w3.org/2000/svg\" height=\"24px\"viewBox=\"0 0 24 24\"\n",
              "     width=\"24px\">\n",
              "    <g>\n",
              "        <path d=\"M19 3H5c-1.1 0-2 .9-2 2v14c0 1.1.9 2 2 2h14c1.1 0 2-.9 2-2V5c0-1.1-.9-2-2-2zM9 17H7v-7h2v7zm4 0h-2V7h2v10zm4 0h-2v-4h2v4z\"/>\n",
              "    </g>\n",
              "</svg>\n",
              "  </button>\n",
              "\n",
              "<style>\n",
              "  .colab-df-quickchart {\n",
              "      --bg-color: #E8F0FE;\n",
              "      --fill-color: #1967D2;\n",
              "      --hover-bg-color: #E2EBFA;\n",
              "      --hover-fill-color: #174EA6;\n",
              "      --disabled-fill-color: #AAA;\n",
              "      --disabled-bg-color: #DDD;\n",
              "  }\n",
              "\n",
              "  [theme=dark] .colab-df-quickchart {\n",
              "      --bg-color: #3B4455;\n",
              "      --fill-color: #D2E3FC;\n",
              "      --hover-bg-color: #434B5C;\n",
              "      --hover-fill-color: #FFFFFF;\n",
              "      --disabled-bg-color: #3B4455;\n",
              "      --disabled-fill-color: #666;\n",
              "  }\n",
              "\n",
              "  .colab-df-quickchart {\n",
              "    background-color: var(--bg-color);\n",
              "    border: none;\n",
              "    border-radius: 50%;\n",
              "    cursor: pointer;\n",
              "    display: none;\n",
              "    fill: var(--fill-color);\n",
              "    height: 32px;\n",
              "    padding: 0;\n",
              "    width: 32px;\n",
              "  }\n",
              "\n",
              "  .colab-df-quickchart:hover {\n",
              "    background-color: var(--hover-bg-color);\n",
              "    box-shadow: 0 1px 2px rgba(60, 64, 67, 0.3), 0 1px 3px 1px rgba(60, 64, 67, 0.15);\n",
              "    fill: var(--button-hover-fill-color);\n",
              "  }\n",
              "\n",
              "  .colab-df-quickchart-complete:disabled,\n",
              "  .colab-df-quickchart-complete:disabled:hover {\n",
              "    background-color: var(--disabled-bg-color);\n",
              "    fill: var(--disabled-fill-color);\n",
              "    box-shadow: none;\n",
              "  }\n",
              "\n",
              "  .colab-df-spinner {\n",
              "    border: 2px solid var(--fill-color);\n",
              "    border-color: transparent;\n",
              "    border-bottom-color: var(--fill-color);\n",
              "    animation:\n",
              "      spin 1s steps(1) infinite;\n",
              "  }\n",
              "\n",
              "  @keyframes spin {\n",
              "    0% {\n",
              "      border-color: transparent;\n",
              "      border-bottom-color: var(--fill-color);\n",
              "      border-left-color: var(--fill-color);\n",
              "    }\n",
              "    20% {\n",
              "      border-color: transparent;\n",
              "      border-left-color: var(--fill-color);\n",
              "      border-top-color: var(--fill-color);\n",
              "    }\n",
              "    30% {\n",
              "      border-color: transparent;\n",
              "      border-left-color: var(--fill-color);\n",
              "      border-top-color: var(--fill-color);\n",
              "      border-right-color: var(--fill-color);\n",
              "    }\n",
              "    40% {\n",
              "      border-color: transparent;\n",
              "      border-right-color: var(--fill-color);\n",
              "      border-top-color: var(--fill-color);\n",
              "    }\n",
              "    60% {\n",
              "      border-color: transparent;\n",
              "      border-right-color: var(--fill-color);\n",
              "    }\n",
              "    80% {\n",
              "      border-color: transparent;\n",
              "      border-right-color: var(--fill-color);\n",
              "      border-bottom-color: var(--fill-color);\n",
              "    }\n",
              "    90% {\n",
              "      border-color: transparent;\n",
              "      border-bottom-color: var(--fill-color);\n",
              "    }\n",
              "  }\n",
              "</style>\n",
              "\n",
              "  <script>\n",
              "    async function quickchart(key) {\n",
              "      const quickchartButtonEl =\n",
              "        document.querySelector('#' + key + ' button');\n",
              "      quickchartButtonEl.disabled = true;  // To prevent multiple clicks.\n",
              "      quickchartButtonEl.classList.add('colab-df-spinner');\n",
              "      try {\n",
              "        const charts = await google.colab.kernel.invokeFunction(\n",
              "            'suggestCharts', [key], {});\n",
              "      } catch (error) {\n",
              "        console.error('Error during call to suggestCharts:', error);\n",
              "      }\n",
              "      quickchartButtonEl.classList.remove('colab-df-spinner');\n",
              "      quickchartButtonEl.classList.add('colab-df-quickchart-complete');\n",
              "    }\n",
              "    (() => {\n",
              "      let quickchartButtonEl =\n",
              "        document.querySelector('#df-0b7c25cc-9b57-4d08-9778-16ae763a8d08 button');\n",
              "      quickchartButtonEl.style.display =\n",
              "        google.colab.kernel.accessAllowed ? 'block' : 'none';\n",
              "    })();\n",
              "  </script>\n",
              "</div>\n",
              "\n",
              "    </div>\n",
              "  </div>\n"
            ],
            "application/vnd.google.colaboratory.intrinsic+json": {
              "type": "dataframe",
              "summary": "{\n  \"name\": \"df\",\n  \"rows\": 5,\n  \"fields\": [\n    {\n      \"column\": \"min\",\n      \"properties\": {\n        \"dtype\": \"number\",\n        \"std\": 7,\n        \"min\": 20,\n        \"max\": 40,\n        \"num_unique_values\": 5,\n        \"samples\": [\n          25,\n          35,\n          20\n        ],\n        \"semantic_type\": \"\",\n        \"description\": \"\"\n      }\n    },\n    {\n      \"column\": \"max\",\n      \"properties\": {\n        \"dtype\": \"number\",\n        \"std\": 7,\n        \"min\": 20,\n        \"max\": 40,\n        \"num_unique_values\": 5,\n        \"samples\": [\n          25,\n          35,\n          20\n        ],\n        \"semantic_type\": \"\",\n        \"description\": \"\"\n      }\n    }\n  ]\n}"
            }
          },
          "metadata": {},
          "execution_count": 130
        }
      ]
    },
    {
      "cell_type": "markdown",
      "source": [
        "Data Range"
      ],
      "metadata": {
        "id": "6POUzrW-mkRp"
      },
      "id": "6POUzrW-mkRp"
    },
    {
      "cell_type": "markdown",
      "source": [
        "Create a pandas daterange where starting date is 1st of January,2020 and end date is 1st of April 2021, store it in a new variable named 'a'"
      ],
      "metadata": {
        "id": "ydQDYL1ymoI_"
      },
      "id": "ydQDYL1ymoI_"
    },
    {
      "cell_type": "code",
      "source": [
        "# Create a pandas daterange where starting date is 1st of January,2020 and end date is 1st of April 2021, store it in a new variable named 'a'\n",
        "\n",
        "import pandas as pd\n",
        "\n",
        "a = pd.date_range(start='1/1/2020', end='4/1/2021')\n",
        "\n",
        "print(a)\n"
      ],
      "metadata": {
        "id": "cfQHKOaemnZo",
        "outputId": "bc35092e-8870-425a-981e-ebbbcacfafc4",
        "colab": {
          "base_uri": "https://localhost:8080/"
        }
      },
      "id": "cfQHKOaemnZo",
      "execution_count": 131,
      "outputs": [
        {
          "output_type": "stream",
          "name": "stdout",
          "text": [
            "DatetimeIndex(['2020-01-01', '2020-01-02', '2020-01-03', '2020-01-04',\n",
            "               '2020-01-05', '2020-01-06', '2020-01-07', '2020-01-08',\n",
            "               '2020-01-09', '2020-01-10',\n",
            "               ...\n",
            "               '2021-03-23', '2021-03-24', '2021-03-25', '2021-03-26',\n",
            "               '2021-03-27', '2021-03-28', '2021-03-29', '2021-03-30',\n",
            "               '2021-03-31', '2021-04-01'],\n",
            "              dtype='datetime64[ns]', length=457, freq='D')\n"
          ]
        }
      ]
    },
    {
      "cell_type": "code",
      "source": [
        "#What is the len of a?\n",
        "\n",
        "print(len(a))\n"
      ],
      "metadata": {
        "id": "zLlvo5_bmv4o",
        "outputId": "44931605-76dc-46ca-8ab4-5a4a627ae990",
        "colab": {
          "base_uri": "https://localhost:8080/"
        }
      },
      "id": "zLlvo5_bmv4o",
      "execution_count": 132,
      "outputs": [
        {
          "output_type": "stream",
          "name": "stdout",
          "text": [
            "457\n"
          ]
        }
      ]
    },
    {
      "cell_type": "code",
      "source": [
        "# What is the type of a?\n",
        "\n",
        "print(type(a))\n"
      ],
      "metadata": {
        "id": "LUFcfJaQm47h",
        "outputId": "5e5a7bed-02de-4c28-93ea-199e50b124e4",
        "colab": {
          "base_uri": "https://localhost:8080/"
        }
      },
      "id": "LUFcfJaQm47h",
      "execution_count": 133,
      "outputs": [
        {
          "output_type": "stream",
          "name": "stdout",
          "text": [
            "<class 'pandas.core.indexes.datetimes.DatetimeIndex'>\n"
          ]
        }
      ]
    }
  ],
  "metadata": {
    "colab": {
      "provenance": [],
      "include_colab_link": true
    },
    "kernelspec": {
      "display_name": "Python 3",
      "language": "python",
      "name": "python3"
    },
    "language_info": {
      "codemirror_mode": {
        "name": "ipython",
        "version": 3
      },
      "file_extension": ".py",
      "mimetype": "text/x-python",
      "name": "python",
      "nbconvert_exporter": "python",
      "pygments_lexer": "ipython3",
      "version": "3.7.4"
    }
  },
  "nbformat": 4,
  "nbformat_minor": 5
}