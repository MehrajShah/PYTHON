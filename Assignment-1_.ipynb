{
  "nbformat": 4,
  "nbformat_minor": 0,
  "metadata": {
    "colab": {
      "provenance": [],
      "authorship_tag": "ABX9TyOZ+Qmesxsf54q7gzRL3ama",
      "include_colab_link": true
    },
    "kernelspec": {
      "name": "python3",
      "display_name": "Python 3"
    },
    "language_info": {
      "name": "python"
    }
  },
  "cells": [
    {
      "cell_type": "markdown",
      "metadata": {
        "id": "view-in-github",
        "colab_type": "text"
      },
      "source": [
        "<a href=\"https://colab.research.google.com/github/MehrajShah/PYTHON/blob/main/Assignment-1_.ipynb\" target=\"_parent\"><img src=\"https://colab.research.google.com/assets/colab-badge.svg\" alt=\"Open In Colab\"/></a>"
      ]
    },
    {
      "cell_type": "code",
      "execution_count": null,
      "metadata": {
        "colab": {
          "base_uri": "https://localhost:8080/"
        },
        "id": "RQBeI1n5nMo2",
        "outputId": "756b43f8-8c7e-4730-c0c1-c47c2fc70f00"
      },
      "outputs": [
        {
          "output_type": "stream",
          "name": "stdout",
          "text": [
            "[]\n",
            "<class 'list'>\n"
          ]
        }
      ],
      "source": [
        "#Create an empty list with the name ‘a’, print the value of a and type(a).\n",
        "\n",
        "a = []\n",
        "print(a)\n",
        "print(type(a))"
      ]
    },
    {
      "cell_type": "code",
      "source": [
        "#Create a list , languages = ['R','Python', 'SAS', 'Scala', 42],\n",
        "languages = ['R','Python', 'SAS', 'Scala', 42]                     # Create a list with different data types\n",
        "print(languages)\n",
        "print(type(languages))\n"
      ],
      "metadata": {
        "colab": {
          "base_uri": "https://localhost:8080/"
        },
        "id": "fHWkWUrhnmcS",
        "outputId": "b807d220-15a6-44bb-9c95-0f01410d38a7"
      },
      "execution_count": null,
      "outputs": [
        {
          "output_type": "stream",
          "name": "stdout",
          "text": [
            "['R', 'Python', 'SAS', 'Scala', 42]\n",
            "<class 'list'>\n"
          ]
        }
      ]
    },
    {
      "cell_type": "code",
      "source": [
        "#Print the number of elements in the list\n",
        "\n",
        "print(len(languages))\n"
      ],
      "metadata": {
        "colab": {
          "base_uri": "https://localhost:8080/"
        },
        "id": "DHdd05nroLKQ",
        "outputId": "e19784de-cf72-41b0-b4d4-9c745d8be664"
      },
      "execution_count": null,
      "outputs": [
        {
          "output_type": "stream",
          "name": "stdout",
          "text": [
            "5\n"
          ]
        }
      ]
    },
    {
      "cell_type": "code",
      "source": [
        "#Using for loop iterate and print all the elements in the list\n",
        "\n",
        "for x in languages:\n",
        "  print(x)\n"
      ],
      "metadata": {
        "colab": {
          "base_uri": "https://localhost:8080/"
        },
        "id": "x_3VrMU-pmLR",
        "outputId": "36e86b0e-14e2-4ca9-91ba-61933d914a73"
      },
      "execution_count": null,
      "outputs": [
        {
          "output_type": "stream",
          "name": "stdout",
          "text": [
            "R\n",
            "Python\n",
            "SAS\n",
            "Scala\n",
            "42\n"
          ]
        }
      ]
    },
    {
      "cell_type": "code",
      "source": [
        "#Select the second item, 'Python' and store it in a new variable named 'temp\n",
        "\n",
        "temp = languages[1]\n"
      ],
      "metadata": {
        "id": "fw24Agk9p0aV"
      },
      "execution_count": null,
      "outputs": []
    },
    {
      "cell_type": "code",
      "source": [
        "#Print the value of temp and type(temp)\n",
        "\n",
        "print(temp)\n",
        "print(type(temp))\n"
      ],
      "metadata": {
        "colab": {
          "base_uri": "https://localhost:8080/"
        },
        "id": "boi2qmcqqNKB",
        "outputId": "4945a887-2c2b-432a-f4b3-9a576840f574"
      },
      "execution_count": null,
      "outputs": [
        {
          "output_type": "stream",
          "name": "stdout",
          "text": [
            "Python\n",
            "<class 'str'>\n"
          ]
        }
      ]
    },
    {
      "cell_type": "code",
      "source": [
        "#Append the element 'Java' in the list\n",
        "\n",
        "languages.append('Java')\n",
        "print(languages)\n"
      ],
      "metadata": {
        "colab": {
          "base_uri": "https://localhost:8080/"
        },
        "id": "XJVSJYFpqWxG",
        "outputId": "7f6fa348-7568-4547-8e27-105279575de6"
      },
      "execution_count": null,
      "outputs": [
        {
          "output_type": "stream",
          "name": "stdout",
          "text": [
            "['R', 'Python', 'SAS', 'Scala', 42, 'Java']\n"
          ]
        }
      ]
    },
    {
      "cell_type": "code",
      "source": [
        "#Remove the element 42 from the list and print the list\n",
        "\n",
        "languages.remove(42)\n",
        "print(languages)\n"
      ],
      "metadata": {
        "colab": {
          "base_uri": "https://localhost:8080/"
        },
        "id": "SXJQXLxnqrCL",
        "outputId": "7c32b1d4-4803-439a-ac0c-19c6aa4af16e"
      },
      "execution_count": null,
      "outputs": [
        {
          "output_type": "stream",
          "name": "stdout",
          "text": [
            "['R', 'Python', 'SAS', 'Scala', 'Java']\n"
          ]
        }
      ]
    },
    {
      "cell_type": "markdown",
      "source": [
        "**`Create a list, colors = [‘Red’, ‘Blue’, ‘White’]`**"
      ],
      "metadata": {
        "id": "Q5UOjx1Dq-Lk"
      }
    },
    {
      "cell_type": "code",
      "source": [
        "#Create a list, colors = [‘Red’, ‘Blue’, ‘White’]\n",
        "\n",
        "colors = ['Red', 'Blue', 'White']\n"
      ],
      "metadata": {
        "id": "jZ4mA5ogrO8r"
      },
      "execution_count": null,
      "outputs": []
    },
    {
      "cell_type": "code",
      "source": [
        "#Append the element 'Black' to colors\n",
        "\n",
        "colors.append('Black')\n"
      ],
      "metadata": {
        "id": "m8VFSk5arb7E"
      },
      "execution_count": null,
      "outputs": []
    },
    {
      "cell_type": "code",
      "source": [
        "#Append the color 'Orange' to second position (index=1) and print the list\n",
        "\n",
        "colors.insert(1, 'Orange')\n",
        "print(colors)\n"
      ],
      "metadata": {
        "colab": {
          "base_uri": "https://localhost:8080/"
        },
        "id": "kETpIFUErkdN",
        "outputId": "7b04d649-df7a-48a0-f498-8ff71aaf0d08"
      },
      "execution_count": null,
      "outputs": [
        {
          "output_type": "stream",
          "name": "stdout",
          "text": [
            "['Red', 'Orange', 'Blue', 'White', 'Black']\n"
          ]
        }
      ]
    },
    {
      "cell_type": "code",
      "source": [
        "# prompt: Print the list\n",
        "\n",
        "print(colors)\n"
      ],
      "metadata": {
        "colab": {
          "base_uri": "https://localhost:8080/"
        },
        "id": "GBB7nS4Gr4JY",
        "outputId": "842787ac-8c77-4a37-f153-6274d59db987"
      },
      "execution_count": null,
      "outputs": [
        {
          "output_type": "stream",
          "name": "stdout",
          "text": [
            "['Red', 'Orange', 'Blue', 'White', 'Black']\n"
          ]
        }
      ]
    },
    {
      "cell_type": "code",
      "source": [
        "#Create another list, colors2 = [‘Grey’, ‘Sky Blue’]\n",
        "\n",
        "colors2 = ['Grey', 'Sky Blue']\n"
      ],
      "metadata": {
        "id": "abqTplrxsEz0"
      },
      "execution_count": null,
      "outputs": []
    },
    {
      "cell_type": "code",
      "source": [
        "# Add the elements of colors2 to colors using extend function in the list\n",
        "colors.extend(colors2)\n",
        "print(colors)\n"
      ],
      "metadata": {
        "colab": {
          "base_uri": "https://localhost:8080/"
        },
        "id": "EvJ30N_WsMKu",
        "outputId": "310d6ec9-3e62-4e2f-f067-55d5c421f59f"
      },
      "execution_count": null,
      "outputs": [
        {
          "output_type": "stream",
          "name": "stdout",
          "text": [
            "['Red', 'Orange', 'Blue', 'White', 'Black', 'Grey', 'Sky Blue']\n"
          ]
        }
      ]
    },
    {
      "cell_type": "code",
      "source": [
        "#Print len of colors and its elements\n",
        "\n",
        "print(len(colors))\n",
        "for x in colors:\n",
        "  print(x)\n"
      ],
      "metadata": {
        "colab": {
          "base_uri": "https://localhost:8080/"
        },
        "id": "_dvJU27zsg5D",
        "outputId": "5f0740bf-8508-4b26-fffc-d1f08028bae9"
      },
      "execution_count": null,
      "outputs": [
        {
          "output_type": "stream",
          "name": "stdout",
          "text": [
            "7\n",
            "Red\n",
            "Orange\n",
            "Blue\n",
            "White\n",
            "Black\n",
            "Grey\n",
            "Sky Blue\n"
          ]
        }
      ]
    },
    {
      "cell_type": "code",
      "source": [
        "#Sort the list and print it.\n",
        "\n",
        "colors.sort()\n",
        "print(colors)\n"
      ],
      "metadata": {
        "colab": {
          "base_uri": "https://localhost:8080/"
        },
        "id": "w9tKbI56suBC",
        "outputId": "86b2ae45-6740-48a5-eb03-f2a84c515104"
      },
      "execution_count": null,
      "outputs": [
        {
          "output_type": "stream",
          "name": "stdout",
          "text": [
            "['Black', 'Blue', 'Grey', 'Orange', 'Red', 'Sky Blue', 'White']\n"
          ]
        }
      ]
    },
    {
      "cell_type": "markdown",
      "source": [
        "**Create a string, sent = ‘Coronavirus Caused Lockdowns Around The World.**"
      ],
      "metadata": {
        "id": "pFMzQxsis-XJ"
      }
    },
    {
      "cell_type": "code",
      "source": [
        "#Create a string, sent = ‘Coronavirus Caused Lockdowns Around The World.”\n",
        "\n",
        "sent = 'Coronavirus Caused Lockdowns Around The World.'\n"
      ],
      "metadata": {
        "id": "mHbp0fpUtcyL"
      },
      "execution_count": null,
      "outputs": []
    },
    {
      "cell_type": "code",
      "source": [
        "#Use split function to convert the string into a list of words and save it in variable words and print the same\n",
        "\n",
        "words = sent.split()\n",
        "print(words)\n"
      ],
      "metadata": {
        "colab": {
          "base_uri": "https://localhost:8080/"
        },
        "id": "JpCkBF-btoWQ",
        "outputId": "1b588d01-4c9a-426c-e38c-1c5c88cce606"
      },
      "execution_count": null,
      "outputs": [
        {
          "output_type": "stream",
          "name": "stdout",
          "text": [
            "['Coronavirus', 'Caused', 'Lockdowns', 'Around', 'The', 'World.']\n"
          ]
        }
      ]
    },
    {
      "cell_type": "code",
      "source": [
        "#Convert each word in the list to lower case and store it in variable words_lower. Print words_lower\n",
        "\n",
        "words_lower = [word.lower() for word in words]\n",
        "print(words_lower)\n"
      ],
      "metadata": {
        "colab": {
          "base_uri": "https://localhost:8080/"
        },
        "id": "XkT1gojity7m",
        "outputId": "d20295fa-93dc-4b6f-b71e-004dc7282980"
      },
      "execution_count": null,
      "outputs": [
        {
          "output_type": "stream",
          "name": "stdout",
          "text": [
            "['coronavirus', 'caused', 'lockdowns', 'around', 'the', 'world.']\n"
          ]
        }
      ]
    },
    {
      "cell_type": "code",
      "source": [
        "#Check whether ‘country’ is in the list\n",
        "\n",
        "country = \"United States\"\n",
        "\n",
        "countries = [\"China\", \"United States\", \"Greece\"]\n",
        "\n",
        "print(country in countries)\n"
      ],
      "metadata": {
        "colab": {
          "base_uri": "https://localhost:8080/"
        },
        "id": "Y_BpxpvAuEim",
        "outputId": "719f28f2-769f-4db9-de8f-47d78139dc22"
      },
      "execution_count": null,
      "outputs": [
        {
          "output_type": "stream",
          "name": "stdout",
          "text": [
            "True\n"
          ]
        }
      ]
    },
    {
      "cell_type": "code",
      "source": [
        "#Remove 'the' element the from the list and print the list.\n",
        "words = [\"Remove\" , \"the\" , \"element\" , \"the\", \"from \" , \"the\" , \"list\", \"and\" , \"print\" , \"the\" , \"list\"]\n",
        "words.remove('the')\n",
        "print(words)\n"
      ],
      "metadata": {
        "colab": {
          "base_uri": "https://localhost:8080/"
        },
        "id": "-CjKHDZXvCMo",
        "outputId": "038261b0-ec18-4df8-83d1-f45fdd9853d0"
      },
      "execution_count": null,
      "outputs": [
        {
          "output_type": "stream",
          "name": "stdout",
          "text": [
            "['Remove', 'element', 'the', 'from ', 'the', 'list', 'and', 'print', 'the', 'list']\n"
          ]
        }
      ]
    },
    {
      "cell_type": "code",
      "source": [
        "# Select the first 4 words from the list words_lower using slicing and store them in a new variable x4\n",
        "\n",
        "x4 = words_lower [:4]\n"
      ],
      "metadata": {
        "id": "fy_meXCYxA3w"
      },
      "execution_count": null,
      "outputs": []
    },
    {
      "cell_type": "code",
      "source": [
        "# print x4\n",
        "\n",
        "print(x4)\n"
      ],
      "metadata": {
        "colab": {
          "base_uri": "https://localhost:8080/"
        },
        "id": "uTKiF-IxxL8r",
        "outputId": "51f540bd-d2a7-479d-f1d0-87411a65653c"
      },
      "execution_count": null,
      "outputs": [
        {
          "output_type": "stream",
          "name": "stdout",
          "text": [
            "['coronavirus', 'caused', 'lockdowns', 'around']\n"
          ]
        }
      ]
    },
    {
      "cell_type": "code",
      "source": [
        "#Convert the list of elements to single string using join function and print it\n",
        "\n",
        "s = ' '.join(x4)\n",
        "print(s)\n"
      ],
      "metadata": {
        "colab": {
          "base_uri": "https://localhost:8080/"
        },
        "id": "d_y0ds4byeKs",
        "outputId": "cb4b9302-bae2-43cf-a05e-f0a62448b8cc"
      },
      "execution_count": null,
      "outputs": [
        {
          "output_type": "stream",
          "name": "stdout",
          "text": [
            "coronavirus caused lockdowns around\n"
          ]
        }
      ]
    },
    {
      "cell_type": "markdown",
      "source": [
        "**Create stud_grades = ['A','A','B','C','C','F']**"
      ],
      "metadata": {
        "id": "VFx4FC0EzmIc"
      }
    },
    {
      "cell_type": "code",
      "source": [
        "#Create stud_grades = ['A','A','B','C','C','F']\n",
        "\n",
        "stud_grades = ['A','A','B','C','C','F']\n"
      ],
      "metadata": {
        "id": "DEofXw0szpLg"
      },
      "execution_count": null,
      "outputs": []
    },
    {
      "cell_type": "code",
      "source": [
        "grades_set = set(stud_grades)\n",
        "print(grades_set)"
      ],
      "metadata": {
        "colab": {
          "base_uri": "https://localhost:8080/"
        },
        "id": "XSE1yniH1ai-",
        "outputId": "6c6c1d42-ce5b-43de-994d-2371406f4f14"
      },
      "execution_count": null,
      "outputs": [
        {
          "output_type": "stream",
          "name": "stdout",
          "text": [
            "{'C', 'F', 'A', 'B'}\n"
          ]
        }
      ]
    },
    {
      "cell_type": "code",
      "source": [
        "#Print the len of stud_grades\n",
        "\n",
        "print(len(stud_grades))\n"
      ],
      "metadata": {
        "colab": {
          "base_uri": "https://localhost:8080/"
        },
        "id": "oBoP091N2OUg",
        "outputId": "425c9f40-e785-48c2-b467-696f19cfb304"
      },
      "execution_count": null,
      "outputs": [
        {
          "output_type": "stream",
          "name": "stdout",
          "text": [
            "6\n"
          ]
        }
      ]
    },
    {
      "cell_type": "code",
      "source": [
        "#Create a new variable, stud_grades_set = set(stud_grades)\n",
        "\n",
        "stud_grades_set = set(stud_grades)\n"
      ],
      "metadata": {
        "id": "0b6vB38C2adP"
      },
      "execution_count": null,
      "outputs": []
    },
    {
      "cell_type": "code",
      "source": [
        "#Print stud_grades_set.\n",
        "\n",
        "print(stud_grades_set)\n"
      ],
      "metadata": {
        "colab": {
          "base_uri": "https://localhost:8080/"
        },
        "id": "OqY3u7qh2jXe",
        "outputId": "ffeade92-b14f-40c4-a5e5-30bc1c3ccbf2"
      },
      "execution_count": null,
      "outputs": [
        {
          "output_type": "stream",
          "name": "stdout",
          "text": [
            "{'C', 'F', 'A', 'B'}\n"
          ]
        }
      ]
    },
    {
      "cell_type": "code",
      "source": [
        "#print the type of stud_grades and stud_grades_set and print their corresponding elements. Try to understand the difference between them.\n",
        "\n",
        "print(f\"Type of stud_grades: {type(stud_grades)}\")\n",
        "print(f\"Elements of stud_grades: {stud_grades}\")\n",
        "\n",
        "print(f\"\\nType of stud_grades_set: {type(stud_grades_set)}\")\n",
        "print(f\"Elements of stud_grades_set: {stud_grades_set}\")\n",
        "\n",
        "# Explanation:\n",
        "# stud_grades is a list, which is an ordered collection of elements that can contain duplicates.\n",
        "# stud_grades_set is a set, which is an unordered collection of unique elements. Sets do not allow duplicates.\n",
        "\n",
        "# When we convert the list stud_grades to a set, the duplicate elements are removed.\n",
        "# Therefore, the length of stud_grades_set is smaller than the length of stud_grades.\n"
      ],
      "metadata": {
        "colab": {
          "base_uri": "https://localhost:8080/"
        },
        "id": "ohgM4YjL2rof",
        "outputId": "619253ab-7019-41e4-fcbf-67eb4b35b916"
      },
      "execution_count": null,
      "outputs": [
        {
          "output_type": "stream",
          "name": "stdout",
          "text": [
            "Type of stud_grades: <class 'list'>\n",
            "Elements of stud_grades: ['A', 'A', 'B', 'C', 'C', 'F']\n",
            "\n",
            "Type of stud_grades_set: <class 'set'>\n",
            "Elements of stud_grades_set: {'C', 'F', 'A', 'B'}\n"
          ]
        }
      ]
    },
    {
      "cell_type": "code",
      "source": [
        "#Add a new element ‘G’ to stud_grades_set\n",
        "\n",
        "stud_grades_set.add('G')\n",
        "print(stud_grades_set)\n"
      ],
      "metadata": {
        "colab": {
          "base_uri": "https://localhost:8080/"
        },
        "id": "95YFPSgq3ENi",
        "outputId": "77b9b197-b005-4d35-a7f6-0e974e58de4f"
      },
      "execution_count": null,
      "outputs": [
        {
          "output_type": "stream",
          "name": "stdout",
          "text": [
            "{'B', 'F', 'A', 'G', 'C'}\n"
          ]
        }
      ]
    },
    {
      "cell_type": "code",
      "source": [
        "#Add element 'F' to stud_grades_set. and print it.\n",
        "\n",
        "stud_grades_set.add('F')\n",
        "print(stud_grades_set)\n"
      ],
      "metadata": {
        "colab": {
          "base_uri": "https://localhost:8080/"
        },
        "id": "ZLkqO7k03P5b",
        "outputId": "fb4c8b98-2044-4e4b-d231-5bf1ad8580d9"
      },
      "execution_count": null,
      "outputs": [
        {
          "output_type": "stream",
          "name": "stdout",
          "text": [
            "{'B', 'F', 'A', 'G', 'C'}\n"
          ]
        }
      ]
    },
    {
      "cell_type": "code",
      "source": [
        "#Remove ‘F’ from stud_grades_set\n",
        "\n",
        "stud_grades_set.remove('F')\n",
        "print(stud_grades_set)\n"
      ],
      "metadata": {
        "colab": {
          "base_uri": "https://localhost:8080/"
        },
        "id": "H-EdO-Jp3gwr",
        "outputId": "71311ad2-e847-4f35-d4ef-7fd846ffb125"
      },
      "execution_count": null,
      "outputs": [
        {
          "output_type": "stream",
          "name": "stdout",
          "text": [
            "{'B', 'A', 'G', 'C'}\n"
          ]
        }
      ]
    },
    {
      "cell_type": "code",
      "source": [
        "#Print the elements and the length of stud_grades_set\n",
        "\n",
        "# Print the elements of stud_grades_set\n",
        "print(stud_grades_set)\n",
        "\n",
        "# Print the length of stud_grades_set\n",
        "print(len(stud_grades_set))\n"
      ],
      "metadata": {
        "colab": {
          "base_uri": "https://localhost:8080/"
        },
        "id": "iropH9R43st7",
        "outputId": "128cb208-65ff-4297-d362-05d87d61c0a9"
      },
      "execution_count": null,
      "outputs": [
        {
          "output_type": "stream",
          "name": "stdout",
          "text": [
            "{'B', 'A', 'G', 'C'}\n",
            "4\n"
          ]
        }
      ]
    },
    {
      "cell_type": "code",
      "source": [
        "# Create colors = [‘red’,’blue’,’orange’], and fruits = [‘orange’,’grapes’,’apples’]\n",
        "# & print them\n",
        "\n",
        "colors = ['red', 'blue', 'orange']\n",
        "print (colors)\n",
        "\n",
        "fruits = ['orange', 'grapes', 'apples']\n",
        "print(fruits)\n"
      ],
      "metadata": {
        "colab": {
          "base_uri": "https://localhost:8080/"
        },
        "id": "Bie-CYVn384q",
        "outputId": "96377952-06a3-4f3a-dfd2-17a6bc9af92a"
      },
      "execution_count": null,
      "outputs": [
        {
          "output_type": "stream",
          "name": "stdout",
          "text": [
            "['red', 'blue', 'orange']\n",
            "['orange', 'grapes', 'apples']\n"
          ]
        }
      ]
    },
    {
      "cell_type": "code",
      "source": [
        "#Create colors_set, and fruits_set. (using set() ) and print them\n",
        "\n",
        "colors_set = set(colors)\n",
        "fruits_set = set(fruits)\n",
        "\n",
        "print(colors_set)\n",
        "print(fruits_set)\n"
      ],
      "metadata": {
        "colab": {
          "base_uri": "https://localhost:8080/"
        },
        "id": "NNEbYjA_4_I_",
        "outputId": "ed6bf404-40ab-415c-e1ed-2e1f3b818f14"
      },
      "execution_count": null,
      "outputs": [
        {
          "output_type": "stream",
          "name": "stdout",
          "text": [
            "{'red', 'blue', 'orange'}\n",
            "{'grapes', 'orange', 'apples'}\n"
          ]
        }
      ]
    },
    {
      "cell_type": "code",
      "source": [
        "#Find the union of both the sets.\n",
        "\n",
        "union_set = colors_set.union(fruits_set)\n",
        "print(union_set)\n"
      ],
      "metadata": {
        "colab": {
          "base_uri": "https://localhost:8080/"
        },
        "id": "vDmA8qDq5S1j",
        "outputId": "d42cb865-c00b-410d-aeda-815d44a04be9"
      },
      "execution_count": null,
      "outputs": [
        {
          "output_type": "stream",
          "name": "stdout",
          "text": [
            "{'grapes', 'red', 'blue', 'orange', 'apples'}\n"
          ]
        }
      ]
    },
    {
      "cell_type": "code",
      "source": [
        "#Find the intersection of both the sets\n",
        "\n",
        "intersection_set = colors_set.intersection(fruits_set)\n",
        "print(intersection_set)\n"
      ],
      "metadata": {
        "colab": {
          "base_uri": "https://localhost:8080/"
        },
        "id": "NvO_zxzO5l-J",
        "outputId": "188a2708-3eb9-43aa-eb87-7beb7135c1b5"
      },
      "execution_count": null,
      "outputs": [
        {
          "output_type": "stream",
          "name": "stdout",
          "text": [
            "{'orange'}\n"
          ]
        }
      ]
    },
    {
      "cell_type": "code",
      "source": [
        "#Find the elements which are Fruits but not colors (using set.difference() )\n",
        "\n",
        "# Find the elements which are Fruits but not colors (using set.difference() )\n",
        "\n",
        "difference_set = fruits_set.difference(colors_set)\n",
        "print(difference_set)\n"
      ],
      "metadata": {
        "colab": {
          "base_uri": "https://localhost:8080/"
        },
        "id": "ZLIW6Mek5veu",
        "outputId": "044ae12b-dba8-4bbc-b49d-f1a1705fe7f3"
      },
      "execution_count": null,
      "outputs": [
        {
          "output_type": "stream",
          "name": "stdout",
          "text": [
            "{'grapes', 'apples'}\n"
          ]
        }
      ]
    },
    {
      "cell_type": "markdown",
      "source": [
        "**TUPLES**"
      ],
      "metadata": {
        "id": "S6igIQtNsHWX"
      }
    },
    {
      "cell_type": "code",
      "source": [
        "#Create temp = [17, ’Virat’, 50.0]\n",
        "\n",
        "temp = [17, 'Virat', 50.0]\n"
      ],
      "metadata": {
        "id": "sv08ZPkmsOBT"
      },
      "execution_count": 1,
      "outputs": []
    },
    {
      "cell_type": "code",
      "source": [
        "#Iterate through temp and print all the items in temp\n",
        "\n",
        "for item in temp:\n",
        "  print(item)\n"
      ],
      "metadata": {
        "colab": {
          "base_uri": "https://localhost:8080/"
        },
        "id": "c8oUbfjAsWMD",
        "outputId": "8bf7c586-619e-44d1-e19a-81330cf72273"
      },
      "execution_count": 2,
      "outputs": [
        {
          "output_type": "stream",
          "name": "stdout",
          "text": [
            "17\n",
            "Virat\n",
            "50.0\n"
          ]
        }
      ]
    },
    {
      "cell_type": "code",
      "source": [
        "# replace first element with 11 in temp\n",
        "\n",
        "temp[0] = 11\n"
      ],
      "metadata": {
        "id": "wffBMzYSscwj"
      },
      "execution_count": 8,
      "outputs": []
    },
    {
      "cell_type": "code",
      "source": [
        "#Set temp1 = tuple(temp)\n",
        "\n",
        "temp1 = tuple(temp)\n"
      ],
      "metadata": {
        "id": "fNFWMTCpsiuD"
      },
      "execution_count": 7,
      "outputs": []
    },
    {
      "cell_type": "code",
      "source": [
        "#Iterate through temp1 and print all the items in temp1.\n",
        "\n",
        "for item in temp1:\n",
        "  print(item)\n"
      ],
      "metadata": {
        "colab": {
          "base_uri": "https://localhost:8080/"
        },
        "id": "f1Yg63Mjsoyy",
        "outputId": "27e76aa6-799d-48c5-c3f1-719e979c82f0"
      },
      "execution_count": 6,
      "outputs": [
        {
          "output_type": "stream",
          "name": "stdout",
          "text": [
            "11\n",
            "Virat\n",
            "50.0\n"
          ]
        }
      ]
    },
    {
      "cell_type": "code",
      "source": [
        "# replace first element with 17 in temp1\n",
        "\n",
        "# To replace the first element in a tuple, you can convert it to a list, make the change, and then convert it back to a tuple:\n",
        "\n",
        "temp1 = list(temp1)\n",
        "temp1[0] = 17\n",
        "temp1 = tuple(temp1)\n",
        "\n",
        "# Print the modified tuple\n",
        "print(temp1)\n"
      ],
      "metadata": {
        "colab": {
          "base_uri": "https://localhost:8080/"
        },
        "id": "7pK65OS5s9QL",
        "outputId": "253a257d-bd60-412f-97e4-508652a01091"
      },
      "execution_count": 9,
      "outputs": [
        {
          "output_type": "stream",
          "name": "stdout",
          "text": [
            "(17, 'Virat', 50.0)\n"
          ]
        }
      ]
    },
    {
      "cell_type": "code",
      "source": [
        "#Create city = (\"Bangalore\", 28.9949521, 72)\n",
        "\n",
        "city = (\"Bangalore\", 28.9949521, 72)\n"
      ],
      "metadata": {
        "id": "CLvoTItytUWS"
      },
      "execution_count": 11,
      "outputs": []
    },
    {
      "cell_type": "code",
      "source": [
        "# Print first element of city\n",
        "\n",
        "print(city[0])\n"
      ],
      "metadata": {
        "colab": {
          "base_uri": "https://localhost:8080/"
        },
        "id": "6YpM7OWRtbQa",
        "outputId": "168f48de-442f-4118-d618-fc8b481adec9"
      },
      "execution_count": 12,
      "outputs": [
        {
          "output_type": "stream",
          "name": "stdout",
          "text": [
            "Bangalore\n"
          ]
        }
      ]
    },
    {
      "cell_type": "code",
      "source": [
        "# Create city2 = (‘Chennai’, 30.01, 74)\n",
        "\n",
        "city2 = ('Chennai', 30.01, 74)\n"
      ],
      "metadata": {
        "id": "hqH-RRTNtrRC"
      },
      "execution_count": 13,
      "outputs": []
    },
    {
      "cell_type": "code",
      "source": [
        "#Create cities which consist of city and city2\n",
        "\n",
        "cities = city + city2\n"
      ],
      "metadata": {
        "id": "veEj_Pddt0Ri"
      },
      "execution_count": 15,
      "outputs": []
    },
    {
      "cell_type": "code",
      "source": [
        "#Print cities\n",
        "\n",
        "print(cities)\n"
      ],
      "metadata": {
        "colab": {
          "base_uri": "https://localhost:8080/"
        },
        "id": "DfUNsvS5t6-q",
        "outputId": "b9eca1c1-43f8-4487-c6a6-31bfcf29a545"
      },
      "execution_count": 16,
      "outputs": [
        {
          "output_type": "stream",
          "name": "stdout",
          "text": [
            "('Bangalore', 28.9949521, 72, 'Chennai', 30.01, 74)\n"
          ]
        }
      ]
    },
    {
      "cell_type": "code",
      "source": [
        "# Print type of first element in cities\n",
        "\n",
        "print(type(cities[0]))\n"
      ],
      "metadata": {
        "colab": {
          "base_uri": "https://localhost:8080/"
        },
        "id": "4F-NyGZ9uDWL",
        "outputId": "c73eaaba-1472-48ed-82dd-317fec93ff42"
      },
      "execution_count": 23,
      "outputs": [
        {
          "output_type": "stream",
          "name": "stdout",
          "text": [
            "<class 'str'>\n"
          ]
        }
      ]
    },
    {
      "cell_type": "markdown",
      "source": [
        "**DICTIONARY**"
      ],
      "metadata": {
        "id": "EX35GIQtwfO6"
      }
    },
    {
      "cell_type": "code",
      "source": [
        "#Create a dictionary d = {\"actor\":\"amir\",\"animal\":\"cat\",\"earth\":2,\"list\":[23,32,12]}\n",
        "\n",
        "d = {\"actor\":\"amir\",\"animal\":\"cat\",\"earth\":2,\"list\":[23,32,12]}\n",
        "print(d)\n"
      ],
      "metadata": {
        "colab": {
          "base_uri": "https://localhost:8080/"
        },
        "id": "USKCfkYuwjUy",
        "outputId": "c8002902-0bee-47f3-c36c-10e33c22a32f"
      },
      "execution_count": 24,
      "outputs": [
        {
          "output_type": "stream",
          "name": "stdout",
          "text": [
            "{'actor': 'amir', 'animal': 'cat', 'earth': 2, 'list': [23, 32, 12]}\n"
          ]
        }
      ]
    },
    {
      "cell_type": "code",
      "source": [
        "#Print the value of d[0]\n",
        "\n",
        "print(d[\"actor\"])\n"
      ],
      "metadata": {
        "colab": {
          "base_uri": "https://localhost:8080/"
        },
        "id": "6M3tSa-FxZ1S",
        "outputId": "b94a5906-4b2d-4217-9195-fb169d7c01a3"
      },
      "execution_count": 26,
      "outputs": [
        {
          "output_type": "stream",
          "name": "stdout",
          "text": [
            "amir\n"
          ]
        }
      ]
    },
    {
      "cell_type": "code",
      "source": [
        "#Store the value of d[‘actor’] to a new variable actor.\n",
        "\n",
        "actor = d[\"actor\"]\n",
        "print(actor)\n"
      ],
      "metadata": {
        "colab": {
          "base_uri": "https://localhost:8080/"
        },
        "id": "mxvVL385xo3S",
        "outputId": "be9624db-087f-49ad-e66d-f33dec1ff15a"
      },
      "execution_count": 27,
      "outputs": [
        {
          "output_type": "stream",
          "name": "stdout",
          "text": [
            "amir\n"
          ]
        }
      ]
    },
    {
      "cell_type": "code",
      "source": [
        "# prompt: Print the type of actor\n",
        "\n",
        "print(type(actor))\n"
      ],
      "metadata": {
        "colab": {
          "base_uri": "https://localhost:8080/"
        },
        "id": "lOzxHubExwaS",
        "outputId": "edf45d65-89a7-4380-f37f-7923f0b2b43d"
      },
      "execution_count": 28,
      "outputs": [
        {
          "output_type": "stream",
          "name": "stdout",
          "text": [
            "<class 'str'>\n"
          ]
        }
      ]
    },
    {
      "cell_type": "code",
      "source": [
        "#Store the value of d[‘list’] in new variable List.\n",
        "\n",
        "List = d['list']\n",
        "print(List)\n"
      ],
      "metadata": {
        "colab": {
          "base_uri": "https://localhost:8080/"
        },
        "id": "uPrw-b4Qx4dq",
        "outputId": "6313252d-d050-449a-c769-4602a36b24f2"
      },
      "execution_count": 29,
      "outputs": [
        {
          "output_type": "stream",
          "name": "stdout",
          "text": [
            "[23, 32, 12]\n"
          ]
        }
      ]
    },
    {
      "cell_type": "code",
      "source": [
        "#Print the type of List.\n",
        "\n",
        "print(type(List))\n"
      ],
      "metadata": {
        "colab": {
          "base_uri": "https://localhost:8080/"
        },
        "id": "jkhLERA8x_iC",
        "outputId": "8904127f-4412-4d6c-a2d6-06d3d28fa79a"
      },
      "execution_count": 30,
      "outputs": [
        {
          "output_type": "stream",
          "name": "stdout",
          "text": [
            "<class 'list'>\n"
          ]
        }
      ]
    },
    {
      "cell_type": "code",
      "source": [
        "#Create d1 = { ‘singer’ : ‘Kr$na’ , ‘album’: ‘Still here’, ‘genre’ : ‘hip-hop’}\n",
        "\n",
        "d1 = {'singer': 'Kr$na', 'album': 'Still here', 'genre': 'hip-hop'}\n"
      ],
      "metadata": {
        "id": "J9WD60XAyFJ6"
      },
      "execution_count": 31,
      "outputs": []
    },
    {
      "cell_type": "code",
      "source": [
        "#Merge d1 into d.\n",
        "\n",
        "d.update(d1)\n",
        "print(d)\n"
      ],
      "metadata": {
        "colab": {
          "base_uri": "https://localhost:8080/"
        },
        "id": "ZEiymk1syPzz",
        "outputId": "abf3fae3-e8e3-4689-a95f-2ae356892b65"
      },
      "execution_count": 32,
      "outputs": [
        {
          "output_type": "stream",
          "name": "stdout",
          "text": [
            "{'actor': 'amir', 'animal': 'cat', 'earth': 2, 'list': [23, 32, 12], 'singer': 'Kr$na', 'album': 'Still here', 'genre': 'hip-hop'}\n"
          ]
        }
      ]
    },
    {
      "cell_type": "code",
      "source": [
        "# print d\n",
        "\n",
        "print(d)\n"
      ],
      "metadata": {
        "colab": {
          "base_uri": "https://localhost:8080/"
        },
        "id": "1-_vyusyyWZS",
        "outputId": "d3df1fe1-7ec1-4776-ad9c-6c4fa8eb2df8"
      },
      "execution_count": 33,
      "outputs": [
        {
          "output_type": "stream",
          "name": "stdout",
          "text": [
            "{'actor': 'amir', 'animal': 'cat', 'earth': 2, 'list': [23, 32, 12], 'singer': 'Kr$na', 'album': 'Still here', 'genre': 'hip-hop'}\n"
          ]
        }
      ]
    },
    {
      "cell_type": "code",
      "source": [
        "#Print all the keys in d\n",
        "\n",
        "for key in d.keys():\n",
        "  print(key)\n"
      ],
      "metadata": {
        "colab": {
          "base_uri": "https://localhost:8080/"
        },
        "id": "LA-g_iqcyf0q",
        "outputId": "804516d3-af87-4222-b28f-b8ae330d7a08"
      },
      "execution_count": 34,
      "outputs": [
        {
          "output_type": "stream",
          "name": "stdout",
          "text": [
            "actor\n",
            "animal\n",
            "earth\n",
            "list\n",
            "singer\n",
            "album\n",
            "genre\n"
          ]
        }
      ]
    },
    {
      "cell_type": "code",
      "source": [
        "# Print all the values in d\n",
        "\n",
        "for value in d.values():\n",
        "  print(value)\n"
      ],
      "metadata": {
        "colab": {
          "base_uri": "https://localhost:8080/"
        },
        "id": "frn3d7_yymRi",
        "outputId": "128adb50-80b1-4634-f713-4c40bef6206e"
      },
      "execution_count": 35,
      "outputs": [
        {
          "output_type": "stream",
          "name": "stdout",
          "text": [
            "amir\n",
            "cat\n",
            "2\n",
            "[23, 32, 12]\n",
            "Kr$na\n",
            "Still here\n",
            "hip-hop\n"
          ]
        }
      ]
    },
    {
      "cell_type": "code",
      "source": [
        "#Iterate over d, and print each key, value pair as this - (actor ----> amir)\n",
        "\n",
        "for key, value in d.items():\n",
        "  print(f\"{key} ----> {value}\")\n"
      ],
      "metadata": {
        "colab": {
          "base_uri": "https://localhost:8080/"
        },
        "id": "vTdk2ihKysF6",
        "outputId": "3f135f9d-64e9-4e1f-8fe2-d6c67e271b1b"
      },
      "execution_count": 36,
      "outputs": [
        {
          "output_type": "stream",
          "name": "stdout",
          "text": [
            "actor ----> amir\n",
            "animal ----> cat\n",
            "earth ----> 2\n",
            "list ----> [23, 32, 12]\n",
            "singer ----> Kr$na\n",
            "album ----> Still here\n",
            "genre ----> hip-hop\n"
          ]
        }
      ]
    },
    {
      "cell_type": "code",
      "source": [
        "#count the number of occurences of charachters in string named \"sent\" using dictionary and print the same.\n",
        "\n",
        "sent = 'Coronavirus Caused Lockdowns Around The World.'\n",
        "\n",
        "char_counts = {}\n",
        "\n",
        "for char in sent:\n",
        "  if char in char_counts:\n",
        "    char_counts[char] += 1\n",
        "  else:\n",
        "    char_counts[char] = 1\n",
        "\n",
        "print(char_counts)\n"
      ],
      "metadata": {
        "colab": {
          "base_uri": "https://localhost:8080/"
        },
        "id": "LxjTAsi7yys6",
        "outputId": "4198da51-e4a1-4082-fedc-b9303d9ce05c"
      },
      "execution_count": 37,
      "outputs": [
        {
          "output_type": "stream",
          "name": "stdout",
          "text": [
            "{'C': 2, 'o': 6, 'r': 4, 'n': 3, 'a': 2, 'v': 1, 'i': 1, 'u': 3, 's': 3, ' ': 5, 'e': 2, 'd': 4, 'L': 1, 'c': 1, 'k': 1, 'w': 1, 'A': 1, 'T': 1, 'h': 1, 'W': 1, 'l': 1, '.': 1}\n"
          ]
        }
      ]
    }
  ]
}